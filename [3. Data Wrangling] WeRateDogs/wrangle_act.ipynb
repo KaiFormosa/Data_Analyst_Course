{
 "cells": [
  {
   "cell_type": "markdown",
   "metadata": {},
   "source": [
    "# Project: WeRateDogs - Data Wrangling and Analysis "
   ]
  },
  {
   "cell_type": "markdown",
   "metadata": {},
   "source": [
    "## Introduction ##\n",
    "\n",
    "This is a final project for the “Data Wrangling” section of “Data Analyst” Nanodegree course by Udacity. The subject of analysis for this project is WeRateDogs, a popular Twitter account that rates pet dogs with a humorous comment about the dog. Data on WeRateDogs are collected from different sources and then cleaned before a final analysis on its contents and features.\n",
    "\n",
    "Completion of this project requires skills below:\n",
    "\n",
    "-\tGathering data from multiple sources, including programmatically downloading files and accessing data from APIs\n",
    "-\tImporting data of various file formats into Pandas\n",
    "-\tAssessing data visually and programmatically using Pandas\n",
    "-\tIdentifying data quality issues, such as validity, accuracy, completeness, consistency, and uniformity, and categorize them using metrics\n",
    "-\tCleaning data using Pyhon and Pandas\n",
    "\n",
    "#### About the Data ####\n",
    "\n",
    "The data come from three sources:\n",
    "\n",
    "-\tAn archive dataset file of more than 5,000 tweets, which provides information on individual tweet id, text content of the tweet, reply status, re-tweet status, ratings, name and breed of the dog. The information of ratings, dog name and dog stage was extracted programmatically from the text content of the tweet and needs further cleaning\n",
    "-\tData on the breed of the dog in the tweet based on image prediction. The data is stored on Udacity’s server and needs to be downloaded programmatically\n",
    "-\tData via the Twitter API on tweet id, retweet count, and favorite count\n"
   ]
  },
  {
   "cell_type": "markdown",
   "metadata": {},
   "source": [
    "## Gather Data ##"
   ]
  },
  {
   "cell_type": "code",
   "execution_count": 1,
   "metadata": {},
   "outputs": [],
   "source": [
    "import pandas as pd\n",
    "import numpy as np\n",
    "import requests\n",
    "import os\n",
    "import tweepy\n",
    "import time\n",
    "import json\n",
    "import matplotlib.pyplot as plt\n",
    "%matplotlib inline\n",
    "\n",
    "pd.set_option('display.max_colwidth', -1)"
   ]
  },
  {
   "cell_type": "markdown",
   "metadata": {},
   "source": [
    "### 1. Twitter Archive File ###"
   ]
  },
  {
   "cell_type": "code",
   "execution_count": 2,
   "metadata": {},
   "outputs": [],
   "source": [
    "df_archive = pd.read_csv('twitter-archive-enhanced.csv')"
   ]
  },
  {
   "cell_type": "markdown",
   "metadata": {},
   "source": [
    "- Load the Twitter archive file, which was downloaded manually from the source provided by Udacity and uploaded to the Jupyter Notebook Workspace, into a DataFrame"
   ]
  },
  {
   "cell_type": "code",
   "execution_count": 3,
   "metadata": {},
   "outputs": [
    {
     "data": {
      "text/html": [
       "<div>\n",
       "<style scoped>\n",
       "    .dataframe tbody tr th:only-of-type {\n",
       "        vertical-align: middle;\n",
       "    }\n",
       "\n",
       "    .dataframe tbody tr th {\n",
       "        vertical-align: top;\n",
       "    }\n",
       "\n",
       "    .dataframe thead th {\n",
       "        text-align: right;\n",
       "    }\n",
       "</style>\n",
       "<table border=\"1\" class=\"dataframe\">\n",
       "  <thead>\n",
       "    <tr style=\"text-align: right;\">\n",
       "      <th></th>\n",
       "      <th>tweet_id</th>\n",
       "      <th>in_reply_to_status_id</th>\n",
       "      <th>in_reply_to_user_id</th>\n",
       "      <th>timestamp</th>\n",
       "      <th>source</th>\n",
       "      <th>text</th>\n",
       "      <th>retweeted_status_id</th>\n",
       "      <th>retweeted_status_user_id</th>\n",
       "      <th>retweeted_status_timestamp</th>\n",
       "      <th>expanded_urls</th>\n",
       "      <th>rating_numerator</th>\n",
       "      <th>rating_denominator</th>\n",
       "      <th>name</th>\n",
       "      <th>doggo</th>\n",
       "      <th>floofer</th>\n",
       "      <th>pupper</th>\n",
       "      <th>puppo</th>\n",
       "    </tr>\n",
       "  </thead>\n",
       "  <tbody>\n",
       "    <tr>\n",
       "      <th>1434</th>\n",
       "      <td>697270446429966336</td>\n",
       "      <td>NaN</td>\n",
       "      <td>NaN</td>\n",
       "      <td>2016-02-10 04:06:43 +0000</td>\n",
       "      <td>&lt;a href=\"http://twitter.com/download/iphone\" rel=\"nofollow\"&gt;Twitter for iPhone&lt;/a&gt;</td>\n",
       "      <td>This is Bentley. He got stuck on his 3rd homework problem. Picturing the best case scenario if he drops out. 10/10 https://t.co/7rS33sCKMS</td>\n",
       "      <td>NaN</td>\n",
       "      <td>NaN</td>\n",
       "      <td>NaN</td>\n",
       "      <td>https://twitter.com/dog_rates/status/697270446429966336/photo/1</td>\n",
       "      <td>10</td>\n",
       "      <td>10</td>\n",
       "      <td>Bentley</td>\n",
       "      <td>None</td>\n",
       "      <td>None</td>\n",
       "      <td>None</td>\n",
       "      <td>None</td>\n",
       "    </tr>\n",
       "    <tr>\n",
       "      <th>1994</th>\n",
       "      <td>672604026190569472</td>\n",
       "      <td>NaN</td>\n",
       "      <td>NaN</td>\n",
       "      <td>2015-12-04 02:31:10 +0000</td>\n",
       "      <td>&lt;a href=\"http://twitter.com/download/iphone\" rel=\"nofollow\"&gt;Twitter for iPhone&lt;/a&gt;</td>\n",
       "      <td>This is a baby Rand Paul. Curls for days. 11/10 would cuddle the hell out of https://t.co/xHXNaPAYRe</td>\n",
       "      <td>NaN</td>\n",
       "      <td>NaN</td>\n",
       "      <td>NaN</td>\n",
       "      <td>https://twitter.com/dog_rates/status/672604026190569472/photo/1</td>\n",
       "      <td>11</td>\n",
       "      <td>10</td>\n",
       "      <td>a</td>\n",
       "      <td>None</td>\n",
       "      <td>None</td>\n",
       "      <td>None</td>\n",
       "      <td>None</td>\n",
       "    </tr>\n",
       "    <tr>\n",
       "      <th>1203</th>\n",
       "      <td>716285507865542656</td>\n",
       "      <td>NaN</td>\n",
       "      <td>NaN</td>\n",
       "      <td>2016-04-02 15:25:47 +0000</td>\n",
       "      <td>&lt;a href=\"http://twitter.com/download/iphone\" rel=\"nofollow\"&gt;Twitter for iPhone&lt;/a&gt;</td>\n",
       "      <td>This is Stephanus. She stays woke. 12/10 https://t.co/WIWabMngQZ</td>\n",
       "      <td>NaN</td>\n",
       "      <td>NaN</td>\n",
       "      <td>NaN</td>\n",
       "      <td>https://twitter.com/dog_rates/status/716285507865542656/photo/1,https://twitter.com/dog_rates/status/716285507865542656/photo/1</td>\n",
       "      <td>12</td>\n",
       "      <td>10</td>\n",
       "      <td>Stephanus</td>\n",
       "      <td>None</td>\n",
       "      <td>None</td>\n",
       "      <td>None</td>\n",
       "      <td>None</td>\n",
       "    </tr>\n",
       "    <tr>\n",
       "      <th>1073</th>\n",
       "      <td>739932936087216128</td>\n",
       "      <td>NaN</td>\n",
       "      <td>NaN</td>\n",
       "      <td>2016-06-06 21:32:13 +0000</td>\n",
       "      <td>&lt;a href=\"http://twitter.com/download/iphone\" rel=\"nofollow\"&gt;Twitter for iPhone&lt;/a&gt;</td>\n",
       "      <td>Say hello to Rorie. She's zen af. Just enjoying a treat in the sunlight. 10/10 would immediately trade lives with https://t.co/yctnFptdQ1</td>\n",
       "      <td>NaN</td>\n",
       "      <td>NaN</td>\n",
       "      <td>NaN</td>\n",
       "      <td>https://twitter.com/dog_rates/status/739932936087216128/photo/1</td>\n",
       "      <td>10</td>\n",
       "      <td>10</td>\n",
       "      <td>Rorie</td>\n",
       "      <td>None</td>\n",
       "      <td>None</td>\n",
       "      <td>None</td>\n",
       "      <td>None</td>\n",
       "    </tr>\n",
       "    <tr>\n",
       "      <th>777</th>\n",
       "      <td>776088319444877312</td>\n",
       "      <td>NaN</td>\n",
       "      <td>NaN</td>\n",
       "      <td>2016-09-14 16:00:49 +0000</td>\n",
       "      <td>&lt;a href=\"http://twitter.com/download/iphone\" rel=\"nofollow\"&gt;Twitter for iPhone&lt;/a&gt;</td>\n",
       "      <td>I can't tap the screen to make the hearts appear fast enough. 10/10 for the source of all future unproductiveness https://t.co/wOhuABgj6I</td>\n",
       "      <td>NaN</td>\n",
       "      <td>NaN</td>\n",
       "      <td>NaN</td>\n",
       "      <td>https://twitter.com/dog_rates/status/776088319444877312/photo/1,https://twitter.com/dog_rates/status/776088319444877312/photo/1,https://twitter.com/dog_rates/status/776088319444877312/photo/1,https://twitter.com/dog_rates/status/776088319444877312/photo/1</td>\n",
       "      <td>10</td>\n",
       "      <td>10</td>\n",
       "      <td>None</td>\n",
       "      <td>None</td>\n",
       "      <td>None</td>\n",
       "      <td>None</td>\n",
       "      <td>None</td>\n",
       "    </tr>\n",
       "  </tbody>\n",
       "</table>\n",
       "</div>"
      ],
      "text/plain": [
       "                tweet_id  in_reply_to_status_id  in_reply_to_user_id  \\\n",
       "1434  697270446429966336 NaN                    NaN                    \n",
       "1994  672604026190569472 NaN                    NaN                    \n",
       "1203  716285507865542656 NaN                    NaN                    \n",
       "1073  739932936087216128 NaN                    NaN                    \n",
       "777   776088319444877312 NaN                    NaN                    \n",
       "\n",
       "                      timestamp  \\\n",
       "1434  2016-02-10 04:06:43 +0000   \n",
       "1994  2015-12-04 02:31:10 +0000   \n",
       "1203  2016-04-02 15:25:47 +0000   \n",
       "1073  2016-06-06 21:32:13 +0000   \n",
       "777   2016-09-14 16:00:49 +0000   \n",
       "\n",
       "                                                                                  source  \\\n",
       "1434  <a href=\"http://twitter.com/download/iphone\" rel=\"nofollow\">Twitter for iPhone</a>   \n",
       "1994  <a href=\"http://twitter.com/download/iphone\" rel=\"nofollow\">Twitter for iPhone</a>   \n",
       "1203  <a href=\"http://twitter.com/download/iphone\" rel=\"nofollow\">Twitter for iPhone</a>   \n",
       "1073  <a href=\"http://twitter.com/download/iphone\" rel=\"nofollow\">Twitter for iPhone</a>   \n",
       "777   <a href=\"http://twitter.com/download/iphone\" rel=\"nofollow\">Twitter for iPhone</a>   \n",
       "\n",
       "                                                                                                                                            text  \\\n",
       "1434  This is Bentley. He got stuck on his 3rd homework problem. Picturing the best case scenario if he drops out. 10/10 https://t.co/7rS33sCKMS   \n",
       "1994  This is a baby Rand Paul. Curls for days. 11/10 would cuddle the hell out of https://t.co/xHXNaPAYRe                                         \n",
       "1203  This is Stephanus. She stays woke. 12/10 https://t.co/WIWabMngQZ                                                                             \n",
       "1073  Say hello to Rorie. She's zen af. Just enjoying a treat in the sunlight. 10/10 would immediately trade lives with https://t.co/yctnFptdQ1    \n",
       "777   I can't tap the screen to make the hearts appear fast enough. 10/10 for the source of all future unproductiveness https://t.co/wOhuABgj6I    \n",
       "\n",
       "      retweeted_status_id  retweeted_status_user_id  \\\n",
       "1434 NaN                  NaN                         \n",
       "1994 NaN                  NaN                         \n",
       "1203 NaN                  NaN                         \n",
       "1073 NaN                  NaN                         \n",
       "777  NaN                  NaN                         \n",
       "\n",
       "     retweeted_status_timestamp  \\\n",
       "1434  NaN                         \n",
       "1994  NaN                         \n",
       "1203  NaN                         \n",
       "1073  NaN                         \n",
       "777   NaN                         \n",
       "\n",
       "                                                                                                                                                                                                                                                        expanded_urls  \\\n",
       "1434  https://twitter.com/dog_rates/status/697270446429966336/photo/1                                                                                                                                                                                                   \n",
       "1994  https://twitter.com/dog_rates/status/672604026190569472/photo/1                                                                                                                                                                                                   \n",
       "1203  https://twitter.com/dog_rates/status/716285507865542656/photo/1,https://twitter.com/dog_rates/status/716285507865542656/photo/1                                                                                                                                   \n",
       "1073  https://twitter.com/dog_rates/status/739932936087216128/photo/1                                                                                                                                                                                                   \n",
       "777   https://twitter.com/dog_rates/status/776088319444877312/photo/1,https://twitter.com/dog_rates/status/776088319444877312/photo/1,https://twitter.com/dog_rates/status/776088319444877312/photo/1,https://twitter.com/dog_rates/status/776088319444877312/photo/1   \n",
       "\n",
       "      rating_numerator  rating_denominator       name doggo floofer pupper  \\\n",
       "1434  10                10                  Bentley    None  None    None    \n",
       "1994  11                10                  a          None  None    None    \n",
       "1203  12                10                  Stephanus  None  None    None    \n",
       "1073  10                10                  Rorie      None  None    None    \n",
       "777   10                10                  None       None  None    None    \n",
       "\n",
       "     puppo  \n",
       "1434  None  \n",
       "1994  None  \n",
       "1203  None  \n",
       "1073  None  \n",
       "777   None  "
      ]
     },
     "execution_count": 3,
     "metadata": {},
     "output_type": "execute_result"
    }
   ],
   "source": [
    "df_archive.sample(5)"
   ]
  },
  {
   "cell_type": "code",
   "execution_count": 4,
   "metadata": {
    "scrolled": true
   },
   "outputs": [
    {
     "name": "stdout",
     "output_type": "stream",
     "text": [
      "<class 'pandas.core.frame.DataFrame'>\n",
      "RangeIndex: 2356 entries, 0 to 2355\n",
      "Data columns (total 17 columns):\n",
      "tweet_id                      2356 non-null int64\n",
      "in_reply_to_status_id         78 non-null float64\n",
      "in_reply_to_user_id           78 non-null float64\n",
      "timestamp                     2356 non-null object\n",
      "source                        2356 non-null object\n",
      "text                          2356 non-null object\n",
      "retweeted_status_id           181 non-null float64\n",
      "retweeted_status_user_id      181 non-null float64\n",
      "retweeted_status_timestamp    181 non-null object\n",
      "expanded_urls                 2297 non-null object\n",
      "rating_numerator              2356 non-null int64\n",
      "rating_denominator            2356 non-null int64\n",
      "name                          2356 non-null object\n",
      "doggo                         2356 non-null object\n",
      "floofer                       2356 non-null object\n",
      "pupper                        2356 non-null object\n",
      "puppo                         2356 non-null object\n",
      "dtypes: float64(4), int64(3), object(10)\n",
      "memory usage: 313.0+ KB\n"
     ]
    }
   ],
   "source": [
    "df_archive.info()"
   ]
  },
  {
   "cell_type": "markdown",
   "metadata": {},
   "source": [
    "- Have a quick look at the dataset, especially the columns and format and data type of the entries"
   ]
  },
  {
   "cell_type": "markdown",
   "metadata": {},
   "source": [
    "### 2. Image Predictions File ###"
   ]
  },
  {
   "cell_type": "code",
   "execution_count": 5,
   "metadata": {
    "scrolled": false
   },
   "outputs": [
    {
     "data": {
      "text/plain": [
       "<Response [200]>"
      ]
     },
     "execution_count": 5,
     "metadata": {},
     "output_type": "execute_result"
    }
   ],
   "source": [
    "url = 'https://d17h27t6h515a5.cloudfront.net/topher/2017/August/599fd2ad_image-predictions/image-predictions.tsv'\n",
    "\n",
    "response = requests.get(url)\n",
    "response"
   ]
  },
  {
   "cell_type": "markdown",
   "metadata": {},
   "source": [
    "- Download the image predictions file from the URL provided\n",
    "- HTTP status code [200] means the request succeeded"
   ]
  },
  {
   "cell_type": "code",
   "execution_count": 6,
   "metadata": {},
   "outputs": [],
   "source": [
    "file_predictions = url.split('/')[-1] \n",
    " \n",
    "with open(os.path.join('./', file_predictions), mode = 'wb') as file:     \n",
    "    file.write(response.content)"
   ]
  },
  {
   "cell_type": "code",
   "execution_count": 7,
   "metadata": {},
   "outputs": [],
   "source": [
    "df_predictions = pd.read_csv(file_predictions, sep = '\\\\t', engine = 'python')"
   ]
  },
  {
   "cell_type": "markdown",
   "metadata": {},
   "source": [
    "- Load it into a DataFrame"
   ]
  },
  {
   "cell_type": "code",
   "execution_count": 8,
   "metadata": {},
   "outputs": [
    {
     "data": {
      "text/html": [
       "<div>\n",
       "<style scoped>\n",
       "    .dataframe tbody tr th:only-of-type {\n",
       "        vertical-align: middle;\n",
       "    }\n",
       "\n",
       "    .dataframe tbody tr th {\n",
       "        vertical-align: top;\n",
       "    }\n",
       "\n",
       "    .dataframe thead th {\n",
       "        text-align: right;\n",
       "    }\n",
       "</style>\n",
       "<table border=\"1\" class=\"dataframe\">\n",
       "  <thead>\n",
       "    <tr style=\"text-align: right;\">\n",
       "      <th></th>\n",
       "      <th>tweet_id</th>\n",
       "      <th>jpg_url</th>\n",
       "      <th>img_num</th>\n",
       "      <th>p1</th>\n",
       "      <th>p1_conf</th>\n",
       "      <th>p1_dog</th>\n",
       "      <th>p2</th>\n",
       "      <th>p2_conf</th>\n",
       "      <th>p2_dog</th>\n",
       "      <th>p3</th>\n",
       "      <th>p3_conf</th>\n",
       "      <th>p3_dog</th>\n",
       "    </tr>\n",
       "  </thead>\n",
       "  <tbody>\n",
       "    <tr>\n",
       "      <th>143</th>\n",
       "      <td>668620235289837568</td>\n",
       "      <td>https://pbs.twimg.com/media/CUdqjvAWUAANfoU.jpg</td>\n",
       "      <td>1</td>\n",
       "      <td>crash_helmet</td>\n",
       "      <td>0.757942</td>\n",
       "      <td>False</td>\n",
       "      <td>toaster</td>\n",
       "      <td>0.037497</td>\n",
       "      <td>False</td>\n",
       "      <td>mouse</td>\n",
       "      <td>0.027271</td>\n",
       "      <td>False</td>\n",
       "    </tr>\n",
       "    <tr>\n",
       "      <th>457</th>\n",
       "      <td>674781762103414784</td>\n",
       "      <td>https://pbs.twimg.com/media/CV1ObvEWcAA7c6i.jpg</td>\n",
       "      <td>1</td>\n",
       "      <td>ocarina</td>\n",
       "      <td>0.148975</td>\n",
       "      <td>False</td>\n",
       "      <td>hamster</td>\n",
       "      <td>0.068985</td>\n",
       "      <td>False</td>\n",
       "      <td>wool</td>\n",
       "      <td>0.031728</td>\n",
       "      <td>False</td>\n",
       "    </tr>\n",
       "    <tr>\n",
       "      <th>1002</th>\n",
       "      <td>708810915978854401</td>\n",
       "      <td>https://pbs.twimg.com/media/CdYzwuYUIAAHPkB.jpg</td>\n",
       "      <td>2</td>\n",
       "      <td>golden_retriever</td>\n",
       "      <td>0.976139</td>\n",
       "      <td>True</td>\n",
       "      <td>Labrador_retriever</td>\n",
       "      <td>0.016301</td>\n",
       "      <td>True</td>\n",
       "      <td>Norfolk_terrier</td>\n",
       "      <td>0.001871</td>\n",
       "      <td>True</td>\n",
       "    </tr>\n",
       "    <tr>\n",
       "      <th>1387</th>\n",
       "      <td>766078092750233600</td>\n",
       "      <td>https://pbs.twimg.com/media/ChK1tdBWwAQ1flD.jpg</td>\n",
       "      <td>1</td>\n",
       "      <td>toy_poodle</td>\n",
       "      <td>0.420463</td>\n",
       "      <td>True</td>\n",
       "      <td>miniature_poodle</td>\n",
       "      <td>0.132640</td>\n",
       "      <td>True</td>\n",
       "      <td>Chesapeake_Bay_retriever</td>\n",
       "      <td>0.121523</td>\n",
       "      <td>True</td>\n",
       "    </tr>\n",
       "    <tr>\n",
       "      <th>318</th>\n",
       "      <td>671763349865160704</td>\n",
       "      <td>https://pbs.twimg.com/media/CVKVM3NW4AAdi1e.jpg</td>\n",
       "      <td>1</td>\n",
       "      <td>prayer_rug</td>\n",
       "      <td>0.445334</td>\n",
       "      <td>False</td>\n",
       "      <td>doormat</td>\n",
       "      <td>0.275311</td>\n",
       "      <td>False</td>\n",
       "      <td>bib</td>\n",
       "      <td>0.048813</td>\n",
       "      <td>False</td>\n",
       "    </tr>\n",
       "  </tbody>\n",
       "</table>\n",
       "</div>"
      ],
      "text/plain": [
       "                tweet_id                                          jpg_url  \\\n",
       "143   668620235289837568  https://pbs.twimg.com/media/CUdqjvAWUAANfoU.jpg   \n",
       "457   674781762103414784  https://pbs.twimg.com/media/CV1ObvEWcAA7c6i.jpg   \n",
       "1002  708810915978854401  https://pbs.twimg.com/media/CdYzwuYUIAAHPkB.jpg   \n",
       "1387  766078092750233600  https://pbs.twimg.com/media/ChK1tdBWwAQ1flD.jpg   \n",
       "318   671763349865160704  https://pbs.twimg.com/media/CVKVM3NW4AAdi1e.jpg   \n",
       "\n",
       "      img_num                p1   p1_conf  p1_dog                  p2  \\\n",
       "143   1        crash_helmet      0.757942  False   toaster              \n",
       "457   1        ocarina           0.148975  False   hamster              \n",
       "1002  2        golden_retriever  0.976139  True    Labrador_retriever   \n",
       "1387  1        toy_poodle        0.420463  True    miniature_poodle     \n",
       "318   1        prayer_rug        0.445334  False   doormat              \n",
       "\n",
       "       p2_conf  p2_dog                        p3   p3_conf  p3_dog  \n",
       "143   0.037497  False   mouse                     0.027271  False   \n",
       "457   0.068985  False   wool                      0.031728  False   \n",
       "1002  0.016301  True    Norfolk_terrier           0.001871  True    \n",
       "1387  0.132640  True    Chesapeake_Bay_retriever  0.121523  True    \n",
       "318   0.275311  False   bib                       0.048813  False   "
      ]
     },
     "execution_count": 8,
     "metadata": {},
     "output_type": "execute_result"
    }
   ],
   "source": [
    "df_predictions.sample(5)"
   ]
  },
  {
   "cell_type": "code",
   "execution_count": 9,
   "metadata": {},
   "outputs": [
    {
     "name": "stdout",
     "output_type": "stream",
     "text": [
      "<class 'pandas.core.frame.DataFrame'>\n",
      "RangeIndex: 2075 entries, 0 to 2074\n",
      "Data columns (total 12 columns):\n",
      "tweet_id    2075 non-null int64\n",
      "jpg_url     2075 non-null object\n",
      "img_num     2075 non-null int64\n",
      "p1          2075 non-null object\n",
      "p1_conf     2075 non-null float64\n",
      "p1_dog      2075 non-null bool\n",
      "p2          2075 non-null object\n",
      "p2_conf     2075 non-null float64\n",
      "p2_dog      2075 non-null bool\n",
      "p3          2075 non-null object\n",
      "p3_conf     2075 non-null float64\n",
      "p3_dog      2075 non-null bool\n",
      "dtypes: bool(3), float64(3), int64(2), object(4)\n",
      "memory usage: 152.1+ KB\n"
     ]
    }
   ],
   "source": [
    "df_predictions.info()"
   ]
  },
  {
   "cell_type": "markdown",
   "metadata": {},
   "source": [
    "- Have a quick look at the dataset, especially the columns and format and data type of the entries"
   ]
  },
  {
   "cell_type": "markdown",
   "metadata": {},
   "source": [
    "### 3. Additional Data through Twitter API ###"
   ]
  },
  {
   "cell_type": "code",
   "execution_count": null,
   "metadata": {},
   "outputs": [],
   "source": [
    "consumer_key = '*************************'\n",
    "consumer_secret = '**************************************************'\n",
    "access_token = '***************************************************'\n",
    "access_secret = '***********************************************'"
   ]
  },
  {
   "cell_type": "markdown",
   "metadata": {},
   "source": [
    "- Authentication keys acquired through setting up Twitter developer account"
   ]
  },
  {
   "cell_type": "code",
   "execution_count": null,
   "metadata": {},
   "outputs": [],
   "source": [
    "auth = tweepy.OAuthHandler(consumer_key, consumer_secret)\n",
    "auth.set_access_token(access_token, access_secret)\n",
    "\n",
    "api = tweepy.API(auth_handler=auth,\n",
    "                 wait_on_rate_limit=True, \n",
    "                 wait_on_rate_limit_notify=True)\n",
    "\n",
    "tweet_id_list = df_twitter.tweet_id.values\n",
    "print('# of tweet ids:' + str(len(tweet_id_list)) + '\\n')\n",
    "\n",
    "tweet_json_list = []\n",
    "deleted_tweets = {}\n",
    "\n",
    "start_time = time.time()\n",
    "\n",
    "for tweet_id in tweet_id_list:\n",
    "    try:\n",
    "        tweet = api.get_status(tweet_id, tweet_mode='extended')\n",
    "        tweet_json_list.append(tweet._json)    \n",
    "    except tweepy.TweepError as err:\n",
    "        deleted_tweets[tweet_id] = err\n",
    "        print('TweepError for id: ' + str(tweet_id))\n",
    "\n",
    "time_elapsed = time.time() - start_time\n",
    "\n",
    "time_elapsed_str = time.strftime(\"%H:%M:%S\", time.gmtime(time_elapsed)) \n",
    "print(\"\\nTime elapsed (HH:MM:SS):  \" + time_elapsed_str + \"\\n\") \n",
    "\n",
    "print(\"Number of TweepErrors: {}\\n\".format(len(deleted_tweets))) \n",
    "\n",
    "for tweet_id in deleted_tweets:\n",
    "    print(tweet_id, deleted_tweets[tweet_id])"
   ]
  },
  {
   "cell_type": "markdown",
   "metadata": {},
   "source": [
    "- Create the Twitter API object and set rate limit parameters\n",
    "- Create a list of Tweet IDs from the Twitter archive file for downloading additional data from Twitter API\n",
    "- 23 TweepErrors reported"
   ]
  },
  {
   "cell_type": "code",
   "execution_count": null,
   "metadata": {},
   "outputs": [],
   "source": [
    "tweet_json_file = 'tweet_json.txt'\n",
    "\n",
    "with open(tweet_json_file, 'w') as outfile:\n",
    "    for tweet_json in tweet_json_list:\n",
    "        json.dump(tweet_json, outfile)\n",
    "        outfile.write('\\n')"
   ]
  },
  {
   "cell_type": "code",
   "execution_count": null,
   "metadata": {},
   "outputs": [],
   "source": [
    "tweet_json_data = []\n",
    "\n",
    "with open(tweet_json_file, 'r') as json_file:\n",
    "    line = json_file.readline()\n",
    "    while line:\n",
    "        data = json.loads(line)\n",
    "        data_id = data['id']\n",
    "        data_retweet_count = data['retweet_count']\n",
    "        data_favorite_count = data['favorite_count']\n",
    "\n",
    "        json_data = {'tweet_id': data_id,\n",
    "                     'retweet_count': data_retweet_count,                       \n",
    "                     'favorite_count': data_favorite_count}\n",
    "        tweet_json_data.append(json_data)\n",
    "\n",
    "df_tweet_api = pd.DataFrame(tweet_json_data, columns = ['tweet_id', \n",
    "                                                  'retweet_count', \n",
    "                                                  'favorite_count']) \n",
    "\n",
    "df_tweet_api.to_csv('tweet_api.csv', index = False)"
   ]
  },
  {
   "cell_type": "markdown",
   "metadata": {},
   "source": [
    "- Save the JSON data as a file\n",
    "- Extract the \"tweet_id\", \"retweet_count\", \"favorite_count\" data and convert them into a DataFrame  \n",
    "- Save the DataFrame as a separate file\n"
   ]
  },
  {
   "cell_type": "code",
   "execution_count": 10,
   "metadata": {},
   "outputs": [],
   "source": [
    "df_extra_api = pd.read_csv('tweet_api.csv')"
   ]
  },
  {
   "cell_type": "code",
   "execution_count": 11,
   "metadata": {},
   "outputs": [
    {
     "data": {
      "text/html": [
       "<div>\n",
       "<style scoped>\n",
       "    .dataframe tbody tr th:only-of-type {\n",
       "        vertical-align: middle;\n",
       "    }\n",
       "\n",
       "    .dataframe tbody tr th {\n",
       "        vertical-align: top;\n",
       "    }\n",
       "\n",
       "    .dataframe thead th {\n",
       "        text-align: right;\n",
       "    }\n",
       "</style>\n",
       "<table border=\"1\" class=\"dataframe\">\n",
       "  <thead>\n",
       "    <tr style=\"text-align: right;\">\n",
       "      <th></th>\n",
       "      <th>tweet_id</th>\n",
       "      <th>retweet_count</th>\n",
       "      <th>favorite_count</th>\n",
       "    </tr>\n",
       "  </thead>\n",
       "  <tbody>\n",
       "    <tr>\n",
       "      <th>303</th>\n",
       "      <td>834786237630337024</td>\n",
       "      <td>5672</td>\n",
       "      <td>21884</td>\n",
       "    </tr>\n",
       "    <tr>\n",
       "      <th>1982</th>\n",
       "      <td>672272411274932228</td>\n",
       "      <td>3347</td>\n",
       "      <td>6419</td>\n",
       "    </tr>\n",
       "    <tr>\n",
       "      <th>1328</th>\n",
       "      <td>704113298707505153</td>\n",
       "      <td>578</td>\n",
       "      <td>1895</td>\n",
       "    </tr>\n",
       "    <tr>\n",
       "      <th>1495</th>\n",
       "      <td>690938899477221376</td>\n",
       "      <td>2039</td>\n",
       "      <td>4222</td>\n",
       "    </tr>\n",
       "    <tr>\n",
       "      <th>968</th>\n",
       "      <td>748705597323898880</td>\n",
       "      <td>980</td>\n",
       "      <td>2852</td>\n",
       "    </tr>\n",
       "  </tbody>\n",
       "</table>\n",
       "</div>"
      ],
      "text/plain": [
       "                tweet_id  retweet_count  favorite_count\n",
       "303   834786237630337024  5672           21884         \n",
       "1982  672272411274932228  3347           6419          \n",
       "1328  704113298707505153  578            1895          \n",
       "1495  690938899477221376  2039           4222          \n",
       "968   748705597323898880  980            2852          "
      ]
     },
     "execution_count": 11,
     "metadata": {},
     "output_type": "execute_result"
    }
   ],
   "source": [
    "df_extra_api.sample(5)"
   ]
  },
  {
   "cell_type": "code",
   "execution_count": 12,
   "metadata": {},
   "outputs": [
    {
     "name": "stdout",
     "output_type": "stream",
     "text": [
      "<class 'pandas.core.frame.DataFrame'>\n",
      "RangeIndex: 2333 entries, 0 to 2332\n",
      "Data columns (total 3 columns):\n",
      "tweet_id          2333 non-null int64\n",
      "retweet_count     2333 non-null int64\n",
      "favorite_count    2333 non-null int64\n",
      "dtypes: int64(3)\n",
      "memory usage: 54.8 KB\n"
     ]
    }
   ],
   "source": [
    "df_extra_api.info()"
   ]
  },
  {
   "cell_type": "markdown",
   "metadata": {},
   "source": [
    "- Have a quick look at the dataset, especially the columns and format and data type of the entries"
   ]
  },
  {
   "cell_type": "markdown",
   "metadata": {},
   "source": [
    "## Assess Data ##"
   ]
  },
  {
   "cell_type": "code",
   "execution_count": 13,
   "metadata": {},
   "outputs": [],
   "source": [
    "df_archive = pd.read_csv('twitter-archive-enhanced.csv')\n",
    "df_predictions = pd.read_csv('image-predictions.tsv', sep = '\\\\t', engine = 'python')\n",
    "df_extra_api = pd.read_csv('tweet_api.csv')"
   ]
  },
  {
   "cell_type": "markdown",
   "metadata": {},
   "source": [
    "### 1. Twitter Archive File ###"
   ]
  },
  {
   "cell_type": "code",
   "execution_count": 14,
   "metadata": {},
   "outputs": [
    {
     "name": "stdout",
     "output_type": "stream",
     "text": [
      "<class 'pandas.core.frame.DataFrame'>\n",
      "RangeIndex: 2356 entries, 0 to 2355\n",
      "Data columns (total 17 columns):\n",
      "tweet_id                      2356 non-null int64\n",
      "in_reply_to_status_id         78 non-null float64\n",
      "in_reply_to_user_id           78 non-null float64\n",
      "timestamp                     2356 non-null object\n",
      "source                        2356 non-null object\n",
      "text                          2356 non-null object\n",
      "retweeted_status_id           181 non-null float64\n",
      "retweeted_status_user_id      181 non-null float64\n",
      "retweeted_status_timestamp    181 non-null object\n",
      "expanded_urls                 2297 non-null object\n",
      "rating_numerator              2356 non-null int64\n",
      "rating_denominator            2356 non-null int64\n",
      "name                          2356 non-null object\n",
      "doggo                         2356 non-null object\n",
      "floofer                       2356 non-null object\n",
      "pupper                        2356 non-null object\n",
      "puppo                         2356 non-null object\n",
      "dtypes: float64(4), int64(3), object(10)\n",
      "memory usage: 313.0+ KB\n"
     ]
    }
   ],
   "source": [
    "df_archive.info()"
   ]
  },
  {
   "cell_type": "markdown",
   "metadata": {},
   "source": [
    "- 181 retweets and 78 replies in the dataset\n",
    "- Only 2297 Tweets in the dataset with images (expanded_urls)\n",
    "- Entries in \"timestamp\" column are of string format\n",
    "- Entries in some ID columns are of float format\n",
    "- \"doggo\", \"floofer\", \"pupper\", \"puppo\", which are stages of dog, are in four columns"
   ]
  },
  {
   "cell_type": "code",
   "execution_count": 15,
   "metadata": {},
   "outputs": [
    {
     "data": {
      "text/plain": [
       "0"
      ]
     },
     "execution_count": 15,
     "metadata": {},
     "output_type": "execute_result"
    }
   ],
   "source": [
    "sum(df_archive.duplicated())"
   ]
  },
  {
   "cell_type": "markdown",
   "metadata": {},
   "source": [
    "- No duplicated entries found in the dataset"
   ]
  },
  {
   "cell_type": "code",
   "execution_count": 16,
   "metadata": {},
   "outputs": [
    {
     "data": {
      "text/plain": [
       "None       745\n",
       "a          55 \n",
       "Charlie    12 \n",
       "Oliver     11 \n",
       "Lucy       11 \n",
       "Cooper     11 \n",
       "Tucker     10 \n",
       "Penny      10 \n",
       "Lola       10 \n",
       "Winston    9  \n",
       "Bo         9  \n",
       "the        8  \n",
       "Sadie      8  \n",
       "Daisy      7  \n",
       "Bailey     7  \n",
       "Buddy      7  \n",
       "Toby       7  \n",
       "an         7  \n",
       "Koda       6  \n",
       "Bella      6  \n",
       "Dave       6  \n",
       "Stanley    6  \n",
       "Scout      6  \n",
       "Jax        6  \n",
       "Jack       6  \n",
       "Leo        6  \n",
       "Oscar      6  \n",
       "Milo       6  \n",
       "Rusty      6  \n",
       "Sunny      5  \n",
       "          ..  \n",
       "Timofy     1  \n",
       "Clybe      1  \n",
       "Tedrick    1  \n",
       "Zeek       1  \n",
       "Antony     1  \n",
       "Mutt       1  \n",
       "Howie      1  \n",
       "Tommy      1  \n",
       "Shelby     1  \n",
       "Rumpole    1  \n",
       "Aubie      1  \n",
       "Ester      1  \n",
       "Harry      1  \n",
       "Jangle     1  \n",
       "Mona       1  \n",
       "Blipson    1  \n",
       "Tove       1  \n",
       "Mabel      1  \n",
       "Karma      1  \n",
       "Iggy       1  \n",
       "Crouton    1  \n",
       "Mack       1  \n",
       "Molly      1  \n",
       "Traviss    1  \n",
       "Julius     1  \n",
       "Buckley    1  \n",
       "Darla      1  \n",
       "Shikha     1  \n",
       "Henry      1  \n",
       "Ruffles    1  \n",
       "Name: name, Length: 957, dtype: int64"
      ]
     },
     "execution_count": 16,
     "metadata": {},
     "output_type": "execute_result"
    }
   ],
   "source": [
    "df_archive.name.value_counts()"
   ]
  },
  {
   "cell_type": "markdown",
   "metadata": {},
   "source": [
    "- Invalid entries (\"a\", \"the\", \"an\") and \"None\" as entry in \"name\" column"
   ]
  },
  {
   "cell_type": "code",
   "execution_count": 17,
   "metadata": {},
   "outputs": [
    {
     "data": {
      "text/plain": [
       "'2017-08-01 16:23:56 +0000'"
      ]
     },
     "execution_count": 17,
     "metadata": {},
     "output_type": "execute_result"
    }
   ],
   "source": [
    "df_archive.timestamp.max()"
   ]
  },
  {
   "cell_type": "markdown",
   "metadata": {},
   "source": [
    "- All Tweets in the dataset were posted on or before August 1st, 2017 as suggested in the project overview"
   ]
  },
  {
   "cell_type": "code",
   "execution_count": 18,
   "metadata": {},
   "outputs": [
    {
     "data": {
      "text/plain": [
       "59"
      ]
     },
     "execution_count": 18,
     "metadata": {},
     "output_type": "execute_result"
    }
   ],
   "source": [
    "sum(df_archive.expanded_urls.isnull())"
   ]
  },
  {
   "cell_type": "code",
   "execution_count": 19,
   "metadata": {},
   "outputs": [
    {
     "data": {
      "text/plain": [
       "56"
      ]
     },
     "execution_count": 19,
     "metadata": {},
     "output_type": "execute_result"
    }
   ],
   "source": [
    "sum(df_archive.expanded_urls.isnull() & \n",
    "    (df_archive.in_reply_to_status_id.notnull() | \n",
    "     df_archive.retweeted_status_id.notnull()))"
   ]
  },
  {
   "cell_type": "code",
   "execution_count": 20,
   "metadata": {},
   "outputs": [
    {
     "data": {
      "text/html": [
       "<div>\n",
       "<style scoped>\n",
       "    .dataframe tbody tr th:only-of-type {\n",
       "        vertical-align: middle;\n",
       "    }\n",
       "\n",
       "    .dataframe tbody tr th {\n",
       "        vertical-align: top;\n",
       "    }\n",
       "\n",
       "    .dataframe thead th {\n",
       "        text-align: right;\n",
       "    }\n",
       "</style>\n",
       "<table border=\"1\" class=\"dataframe\">\n",
       "  <thead>\n",
       "    <tr style=\"text-align: right;\">\n",
       "      <th></th>\n",
       "      <th>tweet_id</th>\n",
       "      <th>in_reply_to_status_id</th>\n",
       "      <th>in_reply_to_user_id</th>\n",
       "      <th>timestamp</th>\n",
       "      <th>source</th>\n",
       "      <th>text</th>\n",
       "      <th>retweeted_status_id</th>\n",
       "      <th>retweeted_status_user_id</th>\n",
       "      <th>retweeted_status_timestamp</th>\n",
       "      <th>expanded_urls</th>\n",
       "      <th>rating_numerator</th>\n",
       "      <th>rating_denominator</th>\n",
       "      <th>name</th>\n",
       "      <th>doggo</th>\n",
       "      <th>floofer</th>\n",
       "      <th>pupper</th>\n",
       "      <th>puppo</th>\n",
       "    </tr>\n",
       "  </thead>\n",
       "  <tbody>\n",
       "    <tr>\n",
       "      <th>375</th>\n",
       "      <td>828361771580813312</td>\n",
       "      <td>NaN</td>\n",
       "      <td>NaN</td>\n",
       "      <td>2017-02-05 21:56:51 +0000</td>\n",
       "      <td>&lt;a href=\"http://twitter.com\" rel=\"nofollow\"&gt;Twitter Web Client&lt;/a&gt;</td>\n",
       "      <td>Beebop and Doobert should start a band 12/10 would listen</td>\n",
       "      <td>NaN</td>\n",
       "      <td>NaN</td>\n",
       "      <td>NaN</td>\n",
       "      <td>NaN</td>\n",
       "      <td>12</td>\n",
       "      <td>10</td>\n",
       "      <td>None</td>\n",
       "      <td>None</td>\n",
       "      <td>None</td>\n",
       "      <td>None</td>\n",
       "      <td>None</td>\n",
       "    </tr>\n",
       "    <tr>\n",
       "      <th>707</th>\n",
       "      <td>785515384317313025</td>\n",
       "      <td>NaN</td>\n",
       "      <td>NaN</td>\n",
       "      <td>2016-10-10 16:20:36 +0000</td>\n",
       "      <td>&lt;a href=\"http://twitter.com/download/iphone\" rel=\"nofollow\"&gt;Twitter for iPhone&lt;/a&gt;</td>\n",
       "      <td>Today, 10/10, should be National Dog Rates Day</td>\n",
       "      <td>NaN</td>\n",
       "      <td>NaN</td>\n",
       "      <td>NaN</td>\n",
       "      <td>NaN</td>\n",
       "      <td>10</td>\n",
       "      <td>10</td>\n",
       "      <td>None</td>\n",
       "      <td>None</td>\n",
       "      <td>None</td>\n",
       "      <td>None</td>\n",
       "      <td>None</td>\n",
       "    </tr>\n",
       "    <tr>\n",
       "      <th>1445</th>\n",
       "      <td>696518437233913856</td>\n",
       "      <td>NaN</td>\n",
       "      <td>NaN</td>\n",
       "      <td>2016-02-08 02:18:30 +0000</td>\n",
       "      <td>&lt;a href=\"http://twitter.com/download/iphone\" rel=\"nofollow\"&gt;Twitter for iPhone&lt;/a&gt;</td>\n",
       "      <td>Oh my god 10/10 for every little hot dog pupper</td>\n",
       "      <td>NaN</td>\n",
       "      <td>NaN</td>\n",
       "      <td>NaN</td>\n",
       "      <td>NaN</td>\n",
       "      <td>10</td>\n",
       "      <td>10</td>\n",
       "      <td>None</td>\n",
       "      <td>None</td>\n",
       "      <td>None</td>\n",
       "      <td>pupper</td>\n",
       "      <td>None</td>\n",
       "    </tr>\n",
       "  </tbody>\n",
       "</table>\n",
       "</div>"
      ],
      "text/plain": [
       "                tweet_id  in_reply_to_status_id  in_reply_to_user_id  \\\n",
       "375   828361771580813312 NaN                    NaN                    \n",
       "707   785515384317313025 NaN                    NaN                    \n",
       "1445  696518437233913856 NaN                    NaN                    \n",
       "\n",
       "                      timestamp  \\\n",
       "375   2017-02-05 21:56:51 +0000   \n",
       "707   2016-10-10 16:20:36 +0000   \n",
       "1445  2016-02-08 02:18:30 +0000   \n",
       "\n",
       "                                                                                  source  \\\n",
       "375   <a href=\"http://twitter.com\" rel=\"nofollow\">Twitter Web Client</a>                   \n",
       "707   <a href=\"http://twitter.com/download/iphone\" rel=\"nofollow\">Twitter for iPhone</a>   \n",
       "1445  <a href=\"http://twitter.com/download/iphone\" rel=\"nofollow\">Twitter for iPhone</a>   \n",
       "\n",
       "                                                           text  \\\n",
       "375   Beebop and Doobert should start a band 12/10 would listen   \n",
       "707   Today, 10/10, should be National Dog Rates Day              \n",
       "1445  Oh my god 10/10 for every little hot dog pupper             \n",
       "\n",
       "      retweeted_status_id  retweeted_status_user_id  \\\n",
       "375  NaN                  NaN                         \n",
       "707  NaN                  NaN                         \n",
       "1445 NaN                  NaN                         \n",
       "\n",
       "     retweeted_status_timestamp expanded_urls  rating_numerator  \\\n",
       "375   NaN                        NaN           12                 \n",
       "707   NaN                        NaN           10                 \n",
       "1445  NaN                        NaN           10                 \n",
       "\n",
       "      rating_denominator  name doggo floofer  pupper puppo  \n",
       "375   10                  None  None  None    None    None  \n",
       "707   10                  None  None  None    None    None  \n",
       "1445  10                  None  None  None    pupper  None  "
      ]
     },
     "execution_count": 20,
     "metadata": {},
     "output_type": "execute_result"
    }
   ],
   "source": [
    "filter = df_archive.expanded_urls.isnull() & df_archive.in_reply_to_status_id.isnull() & df_archive.retweeted_status_id.isnull()\n",
    "    \n",
    "df_archive[filter]"
   ]
  },
  {
   "cell_type": "code",
   "execution_count": 21,
   "metadata": {},
   "outputs": [
    {
     "data": {
      "text/plain": [
       "0"
      ]
     },
     "execution_count": 21,
     "metadata": {},
     "output_type": "execute_result"
    }
   ],
   "source": [
    "tweet_ids_check = [828361771580813312, 785515384317313025, 696518437233913856]\n",
    "\n",
    "sum(df_predictions.tweet_id.isin(tweet_ids_check))"
   ]
  },
  {
   "cell_type": "code",
   "execution_count": 22,
   "metadata": {},
   "outputs": [
    {
     "data": {
      "text/html": [
       "<div>\n",
       "<style scoped>\n",
       "    .dataframe tbody tr th:only-of-type {\n",
       "        vertical-align: middle;\n",
       "    }\n",
       "\n",
       "    .dataframe tbody tr th {\n",
       "        vertical-align: top;\n",
       "    }\n",
       "\n",
       "    .dataframe thead th {\n",
       "        text-align: right;\n",
       "    }\n",
       "</style>\n",
       "<table border=\"1\" class=\"dataframe\">\n",
       "  <thead>\n",
       "    <tr style=\"text-align: right;\">\n",
       "      <th></th>\n",
       "      <th>tweet_id</th>\n",
       "      <th>retweet_count</th>\n",
       "      <th>favorite_count</th>\n",
       "    </tr>\n",
       "  </thead>\n",
       "  <tbody>\n",
       "    <tr>\n",
       "      <th>360</th>\n",
       "      <td>828361771580813312</td>\n",
       "      <td>177</td>\n",
       "      <td>2282</td>\n",
       "    </tr>\n",
       "    <tr>\n",
       "      <th>689</th>\n",
       "      <td>785515384317313025</td>\n",
       "      <td>1334</td>\n",
       "      <td>6390</td>\n",
       "    </tr>\n",
       "    <tr>\n",
       "      <th>1423</th>\n",
       "      <td>696518437233913856</td>\n",
       "      <td>1748</td>\n",
       "      <td>4005</td>\n",
       "    </tr>\n",
       "  </tbody>\n",
       "</table>\n",
       "</div>"
      ],
      "text/plain": [
       "                tweet_id  retweet_count  favorite_count\n",
       "360   828361771580813312  177            2282          \n",
       "689   785515384317313025  1334           6390          \n",
       "1423  696518437233913856  1748           4005          "
      ]
     },
     "execution_count": 22,
     "metadata": {},
     "output_type": "execute_result"
    }
   ],
   "source": [
    "df_extra_api[df_extra_api.tweet_id.isin(tweet_ids_check)]"
   ]
  },
  {
   "cell_type": "markdown",
   "metadata": {},
   "source": [
    "- 59 Tweet entries in the dataset are without an URL (\"expanded_urls\"), of which 56 are either retweet or reply\n",
    "- The remaining 3 Tweet entries, which don't have an URL and are neither a retweet nor a reply:\n",
    "    - all have valid ratings\n",
    "    - **not** found in the image predictions dataset\n",
    "    - found in the extra dataset retreived through Twitter API, with valid retweet and favorite counts"
   ]
  },
  {
   "cell_type": "code",
   "execution_count": 23,
   "metadata": {
    "scrolled": true
   },
   "outputs": [
    {
     "data": {
      "text/html": [
       "<div>\n",
       "<style scoped>\n",
       "    .dataframe tbody tr th:only-of-type {\n",
       "        vertical-align: middle;\n",
       "    }\n",
       "\n",
       "    .dataframe tbody tr th {\n",
       "        vertical-align: top;\n",
       "    }\n",
       "\n",
       "    .dataframe thead th {\n",
       "        text-align: right;\n",
       "    }\n",
       "</style>\n",
       "<table border=\"1\" class=\"dataframe\">\n",
       "  <thead>\n",
       "    <tr style=\"text-align: right;\">\n",
       "      <th></th>\n",
       "      <th>tweet_id</th>\n",
       "      <th>in_reply_to_status_id</th>\n",
       "      <th>in_reply_to_user_id</th>\n",
       "      <th>retweeted_status_id</th>\n",
       "      <th>retweeted_status_user_id</th>\n",
       "      <th>rating_numerator</th>\n",
       "      <th>rating_denominator</th>\n",
       "    </tr>\n",
       "  </thead>\n",
       "  <tbody>\n",
       "    <tr>\n",
       "      <th>count</th>\n",
       "      <td>2.356000e+03</td>\n",
       "      <td>7.800000e+01</td>\n",
       "      <td>7.800000e+01</td>\n",
       "      <td>1.810000e+02</td>\n",
       "      <td>1.810000e+02</td>\n",
       "      <td>2356.000000</td>\n",
       "      <td>2356.000000</td>\n",
       "    </tr>\n",
       "    <tr>\n",
       "      <th>mean</th>\n",
       "      <td>7.427716e+17</td>\n",
       "      <td>7.455079e+17</td>\n",
       "      <td>2.014171e+16</td>\n",
       "      <td>7.720400e+17</td>\n",
       "      <td>1.241698e+16</td>\n",
       "      <td>13.126486</td>\n",
       "      <td>10.455433</td>\n",
       "    </tr>\n",
       "    <tr>\n",
       "      <th>std</th>\n",
       "      <td>6.856705e+16</td>\n",
       "      <td>7.582492e+16</td>\n",
       "      <td>1.252797e+17</td>\n",
       "      <td>6.236928e+16</td>\n",
       "      <td>9.599254e+16</td>\n",
       "      <td>45.876648</td>\n",
       "      <td>6.745237</td>\n",
       "    </tr>\n",
       "    <tr>\n",
       "      <th>min</th>\n",
       "      <td>6.660209e+17</td>\n",
       "      <td>6.658147e+17</td>\n",
       "      <td>1.185634e+07</td>\n",
       "      <td>6.661041e+17</td>\n",
       "      <td>7.832140e+05</td>\n",
       "      <td>0.000000</td>\n",
       "      <td>0.000000</td>\n",
       "    </tr>\n",
       "    <tr>\n",
       "      <th>25%</th>\n",
       "      <td>6.783989e+17</td>\n",
       "      <td>6.757419e+17</td>\n",
       "      <td>3.086374e+08</td>\n",
       "      <td>7.186315e+17</td>\n",
       "      <td>4.196984e+09</td>\n",
       "      <td>10.000000</td>\n",
       "      <td>10.000000</td>\n",
       "    </tr>\n",
       "    <tr>\n",
       "      <th>50%</th>\n",
       "      <td>7.196279e+17</td>\n",
       "      <td>7.038708e+17</td>\n",
       "      <td>4.196984e+09</td>\n",
       "      <td>7.804657e+17</td>\n",
       "      <td>4.196984e+09</td>\n",
       "      <td>11.000000</td>\n",
       "      <td>10.000000</td>\n",
       "    </tr>\n",
       "    <tr>\n",
       "      <th>75%</th>\n",
       "      <td>7.993373e+17</td>\n",
       "      <td>8.257804e+17</td>\n",
       "      <td>4.196984e+09</td>\n",
       "      <td>8.203146e+17</td>\n",
       "      <td>4.196984e+09</td>\n",
       "      <td>12.000000</td>\n",
       "      <td>10.000000</td>\n",
       "    </tr>\n",
       "    <tr>\n",
       "      <th>max</th>\n",
       "      <td>8.924206e+17</td>\n",
       "      <td>8.862664e+17</td>\n",
       "      <td>8.405479e+17</td>\n",
       "      <td>8.874740e+17</td>\n",
       "      <td>7.874618e+17</td>\n",
       "      <td>1776.000000</td>\n",
       "      <td>170.000000</td>\n",
       "    </tr>\n",
       "  </tbody>\n",
       "</table>\n",
       "</div>"
      ],
      "text/plain": [
       "           tweet_id  in_reply_to_status_id  in_reply_to_user_id  \\\n",
       "count  2.356000e+03  7.800000e+01           7.800000e+01          \n",
       "mean   7.427716e+17  7.455079e+17           2.014171e+16          \n",
       "std    6.856705e+16  7.582492e+16           1.252797e+17          \n",
       "min    6.660209e+17  6.658147e+17           1.185634e+07          \n",
       "25%    6.783989e+17  6.757419e+17           3.086374e+08          \n",
       "50%    7.196279e+17  7.038708e+17           4.196984e+09          \n",
       "75%    7.993373e+17  8.257804e+17           4.196984e+09          \n",
       "max    8.924206e+17  8.862664e+17           8.405479e+17          \n",
       "\n",
       "       retweeted_status_id  retweeted_status_user_id  rating_numerator  \\\n",
       "count  1.810000e+02         1.810000e+02              2356.000000        \n",
       "mean   7.720400e+17         1.241698e+16              13.126486          \n",
       "std    6.236928e+16         9.599254e+16              45.876648          \n",
       "min    6.661041e+17         7.832140e+05              0.000000           \n",
       "25%    7.186315e+17         4.196984e+09              10.000000          \n",
       "50%    7.804657e+17         4.196984e+09              11.000000          \n",
       "75%    8.203146e+17         4.196984e+09              12.000000          \n",
       "max    8.874740e+17         7.874618e+17              1776.000000        \n",
       "\n",
       "       rating_denominator  \n",
       "count  2356.000000         \n",
       "mean   10.455433           \n",
       "std    6.745237            \n",
       "min    0.000000            \n",
       "25%    10.000000           \n",
       "50%    10.000000           \n",
       "75%    10.000000           \n",
       "max    170.000000          "
      ]
     },
     "execution_count": 23,
     "metadata": {},
     "output_type": "execute_result"
    }
   ],
   "source": [
    "df_archive.describe()"
   ]
  },
  {
   "cell_type": "markdown",
   "metadata": {},
   "source": [
    "- Not all rating denominator is 10"
   ]
  },
  {
   "cell_type": "code",
   "execution_count": 24,
   "metadata": {
    "scrolled": true
   },
   "outputs": [
    {
     "data": {
      "text/plain": [
       "170    1   \n",
       "150    1   \n",
       "130    1   \n",
       "120    1   \n",
       "110    1   \n",
       "90     1   \n",
       "80     2   \n",
       "70     1   \n",
       "50     3   \n",
       "40     1   \n",
       "20     2   \n",
       "16     1   \n",
       "15     1   \n",
       "11     3   \n",
       "10     2333\n",
       "7      1   \n",
       "2      1   \n",
       "0      1   \n",
       "Name: rating_denominator, dtype: int64"
      ]
     },
     "execution_count": 24,
     "metadata": {},
     "output_type": "execute_result"
    }
   ],
   "source": [
    "df_archive.rating_denominator.value_counts().sort_index(ascending = False)"
   ]
  },
  {
   "cell_type": "code",
   "execution_count": 25,
   "metadata": {},
   "outputs": [],
   "source": [
    "filter_deviant_denominator = (df_archive.rating_denominator != 10) & df_archive.retweeted_status_id.isna() & df_archive.in_reply_to_status_id.isna()\n",
    "\n",
    "df_deviant_denominator = df_archive[filter_deviant_denominator][['tweet_id', 'text', 'rating_numerator', 'rating_denominator']]"
   ]
  },
  {
   "cell_type": "code",
   "execution_count": 26,
   "metadata": {},
   "outputs": [
    {
     "data": {
      "text/plain": [
       "17"
      ]
     },
     "execution_count": 26,
     "metadata": {},
     "output_type": "execute_result"
    }
   ],
   "source": [
    "df_deviant_denominator.shape[0]"
   ]
  },
  {
   "cell_type": "code",
   "execution_count": 27,
   "metadata": {},
   "outputs": [
    {
     "data": {
      "text/html": [
       "<div>\n",
       "<style scoped>\n",
       "    .dataframe tbody tr th:only-of-type {\n",
       "        vertical-align: middle;\n",
       "    }\n",
       "\n",
       "    .dataframe tbody tr th {\n",
       "        vertical-align: top;\n",
       "    }\n",
       "\n",
       "    .dataframe thead th {\n",
       "        text-align: right;\n",
       "    }\n",
       "</style>\n",
       "<table border=\"1\" class=\"dataframe\">\n",
       "  <thead>\n",
       "    <tr style=\"text-align: right;\">\n",
       "      <th></th>\n",
       "      <th>tweet_id</th>\n",
       "      <th>text</th>\n",
       "      <th>rating_numerator</th>\n",
       "      <th>rating_denominator</th>\n",
       "    </tr>\n",
       "  </thead>\n",
       "  <tbody>\n",
       "    <tr>\n",
       "      <th>433</th>\n",
       "      <td>820690176645140481</td>\n",
       "      <td>The floofs have been released I repeat the floofs have been released. 84/70 https://t.co/NIYC820tmd</td>\n",
       "      <td>84</td>\n",
       "      <td>70</td>\n",
       "    </tr>\n",
       "    <tr>\n",
       "      <th>516</th>\n",
       "      <td>810984652412424192</td>\n",
       "      <td>Meet Sam. She smiles 24/7 &amp;amp; secretly aspires to be a reindeer. \\nKeep Sam smiling by clicking and sharing this link:\\nhttps://t.co/98tB8y7y7t https://t.co/LouL5vdvxx</td>\n",
       "      <td>24</td>\n",
       "      <td>7</td>\n",
       "    </tr>\n",
       "    <tr>\n",
       "      <th>902</th>\n",
       "      <td>758467244762497024</td>\n",
       "      <td>Why does this never happen at my front door... 165/150 https://t.co/HmwrdfEfUE</td>\n",
       "      <td>165</td>\n",
       "      <td>150</td>\n",
       "    </tr>\n",
       "    <tr>\n",
       "      <th>1068</th>\n",
       "      <td>740373189193256964</td>\n",
       "      <td>After so many requests, this is Bretagne. She was the last surviving 9/11 search dog, and our second ever 14/10. RIP https://t.co/XAVDNDaVgQ</td>\n",
       "      <td>9</td>\n",
       "      <td>11</td>\n",
       "    </tr>\n",
       "    <tr>\n",
       "      <th>1120</th>\n",
       "      <td>731156023742988288</td>\n",
       "      <td>Say hello to this unbelievably well behaved squad of doggos. 204/170 would try to pet all at once https://t.co/yGQI3He3xv</td>\n",
       "      <td>204</td>\n",
       "      <td>170</td>\n",
       "    </tr>\n",
       "    <tr>\n",
       "      <th>1165</th>\n",
       "      <td>722974582966214656</td>\n",
       "      <td>Happy 4/20 from the squad! 13/10 for all https://t.co/eV1diwds8a</td>\n",
       "      <td>4</td>\n",
       "      <td>20</td>\n",
       "    </tr>\n",
       "    <tr>\n",
       "      <th>1202</th>\n",
       "      <td>716439118184652801</td>\n",
       "      <td>This is Bluebert. He just saw that both #FinalFur match ups are split 50/50. Amazed af. 11/10 https://t.co/Kky1DPG4iq</td>\n",
       "      <td>50</td>\n",
       "      <td>50</td>\n",
       "    </tr>\n",
       "    <tr>\n",
       "      <th>1228</th>\n",
       "      <td>713900603437621249</td>\n",
       "      <td>Happy Saturday here's 9 puppers on a bench. 99/90 good work everybody https://t.co/mpvaVxKmc1</td>\n",
       "      <td>99</td>\n",
       "      <td>90</td>\n",
       "    </tr>\n",
       "    <tr>\n",
       "      <th>1254</th>\n",
       "      <td>710658690886586372</td>\n",
       "      <td>Here's a brigade of puppers. All look very prepared for whatever happens next. 80/80 https://t.co/0eb7R1Om12</td>\n",
       "      <td>80</td>\n",
       "      <td>80</td>\n",
       "    </tr>\n",
       "    <tr>\n",
       "      <th>1274</th>\n",
       "      <td>709198395643068416</td>\n",
       "      <td>From left to right:\\nCletus, Jerome, Alejandro, Burp, &amp;amp; Titson\\nNone know where camera is. 45/50 would hug all at once https://t.co/sedre1ivTK</td>\n",
       "      <td>45</td>\n",
       "      <td>50</td>\n",
       "    </tr>\n",
       "    <tr>\n",
       "      <th>1351</th>\n",
       "      <td>704054845121142784</td>\n",
       "      <td>Here is a whole flock of puppers.  60/50 I'll take the lot https://t.co/9dpcw6MdWa</td>\n",
       "      <td>60</td>\n",
       "      <td>50</td>\n",
       "    </tr>\n",
       "    <tr>\n",
       "      <th>1433</th>\n",
       "      <td>697463031882764288</td>\n",
       "      <td>Happy Wednesday here's a bucket of pups. 44/40 would pet all at once https://t.co/HppvrYuamZ</td>\n",
       "      <td>44</td>\n",
       "      <td>40</td>\n",
       "    </tr>\n",
       "    <tr>\n",
       "      <th>1635</th>\n",
       "      <td>684222868335505415</td>\n",
       "      <td>Someone help the girl is being mugged. Several are distracting her while two steal her shoes. Clever puppers 121/110 https://t.co/1zfnTJLt55</td>\n",
       "      <td>121</td>\n",
       "      <td>110</td>\n",
       "    </tr>\n",
       "    <tr>\n",
       "      <th>1662</th>\n",
       "      <td>682962037429899265</td>\n",
       "      <td>This is Darrel. He just robbed a 7/11 and is in a high speed police chase. Was just spotted by the helicopter 10/10 https://t.co/7EsP8LmSp5</td>\n",
       "      <td>7</td>\n",
       "      <td>11</td>\n",
       "    </tr>\n",
       "    <tr>\n",
       "      <th>1779</th>\n",
       "      <td>677716515794329600</td>\n",
       "      <td>IT'S PUPPERGEDDON. Total of 144/120 ...I think https://t.co/ZanVtAtvIq</td>\n",
       "      <td>144</td>\n",
       "      <td>120</td>\n",
       "    </tr>\n",
       "    <tr>\n",
       "      <th>1843</th>\n",
       "      <td>675853064436391936</td>\n",
       "      <td>Here we have an entire platoon of puppers. Total score: 88/80 would pet all at once https://t.co/y93p6FLvVw</td>\n",
       "      <td>88</td>\n",
       "      <td>80</td>\n",
       "    </tr>\n",
       "    <tr>\n",
       "      <th>2335</th>\n",
       "      <td>666287406224695296</td>\n",
       "      <td>This is an Albanian 3 1/2 legged  Episcopalian. Loves well-polished hardwood flooring. Penis on the collar. 9/10 https://t.co/d9NcXFKwLv</td>\n",
       "      <td>1</td>\n",
       "      <td>2</td>\n",
       "    </tr>\n",
       "  </tbody>\n",
       "</table>\n",
       "</div>"
      ],
      "text/plain": [
       "                tweet_id  \\\n",
       "433   820690176645140481   \n",
       "516   810984652412424192   \n",
       "902   758467244762497024   \n",
       "1068  740373189193256964   \n",
       "1120  731156023742988288   \n",
       "1165  722974582966214656   \n",
       "1202  716439118184652801   \n",
       "1228  713900603437621249   \n",
       "1254  710658690886586372   \n",
       "1274  709198395643068416   \n",
       "1351  704054845121142784   \n",
       "1433  697463031882764288   \n",
       "1635  684222868335505415   \n",
       "1662  682962037429899265   \n",
       "1779  677716515794329600   \n",
       "1843  675853064436391936   \n",
       "2335  666287406224695296   \n",
       "\n",
       "                                                                                                                                                                           text  \\\n",
       "433   The floofs have been released I repeat the floofs have been released. 84/70 https://t.co/NIYC820tmd                                                                         \n",
       "516   Meet Sam. She smiles 24/7 &amp; secretly aspires to be a reindeer. \\nKeep Sam smiling by clicking and sharing this link:\\nhttps://t.co/98tB8y7y7t https://t.co/LouL5vdvxx   \n",
       "902   Why does this never happen at my front door... 165/150 https://t.co/HmwrdfEfUE                                                                                              \n",
       "1068  After so many requests, this is Bretagne. She was the last surviving 9/11 search dog, and our second ever 14/10. RIP https://t.co/XAVDNDaVgQ                                \n",
       "1120  Say hello to this unbelievably well behaved squad of doggos. 204/170 would try to pet all at once https://t.co/yGQI3He3xv                                                   \n",
       "1165  Happy 4/20 from the squad! 13/10 for all https://t.co/eV1diwds8a                                                                                                            \n",
       "1202  This is Bluebert. He just saw that both #FinalFur match ups are split 50/50. Amazed af. 11/10 https://t.co/Kky1DPG4iq                                                       \n",
       "1228  Happy Saturday here's 9 puppers on a bench. 99/90 good work everybody https://t.co/mpvaVxKmc1                                                                               \n",
       "1254  Here's a brigade of puppers. All look very prepared for whatever happens next. 80/80 https://t.co/0eb7R1Om12                                                                \n",
       "1274  From left to right:\\nCletus, Jerome, Alejandro, Burp, &amp; Titson\\nNone know where camera is. 45/50 would hug all at once https://t.co/sedre1ivTK                          \n",
       "1351  Here is a whole flock of puppers.  60/50 I'll take the lot https://t.co/9dpcw6MdWa                                                                                          \n",
       "1433  Happy Wednesday here's a bucket of pups. 44/40 would pet all at once https://t.co/HppvrYuamZ                                                                                \n",
       "1635  Someone help the girl is being mugged. Several are distracting her while two steal her shoes. Clever puppers 121/110 https://t.co/1zfnTJLt55                                \n",
       "1662  This is Darrel. He just robbed a 7/11 and is in a high speed police chase. Was just spotted by the helicopter 10/10 https://t.co/7EsP8LmSp5                                 \n",
       "1779  IT'S PUPPERGEDDON. Total of 144/120 ...I think https://t.co/ZanVtAtvIq                                                                                                      \n",
       "1843  Here we have an entire platoon of puppers. Total score: 88/80 would pet all at once https://t.co/y93p6FLvVw                                                                 \n",
       "2335  This is an Albanian 3 1/2 legged  Episcopalian. Loves well-polished hardwood flooring. Penis on the collar. 9/10 https://t.co/d9NcXFKwLv                                    \n",
       "\n",
       "      rating_numerator  rating_denominator  \n",
       "433   84                70                  \n",
       "516   24                7                   \n",
       "902   165               150                 \n",
       "1068  9                 11                  \n",
       "1120  204               170                 \n",
       "1165  4                 20                  \n",
       "1202  50                50                  \n",
       "1228  99                90                  \n",
       "1254  80                80                  \n",
       "1274  45                50                  \n",
       "1351  60                50                  \n",
       "1433  44                40                  \n",
       "1635  121               110                 \n",
       "1662  7                 11                  \n",
       "1779  144               120                 \n",
       "1843  88                80                  \n",
       "2335  1                 2                   "
      ]
     },
     "execution_count": 27,
     "metadata": {},
     "output_type": "execute_result"
    }
   ],
   "source": [
    "df_deviant_denominator"
   ]
  },
  {
   "cell_type": "code",
   "execution_count": 28,
   "metadata": {},
   "outputs": [
    {
     "data": {
      "text/plain": [
       "6"
      ]
     },
     "execution_count": 28,
     "metadata": {},
     "output_type": "execute_result"
    }
   ],
   "source": [
    "list_deviant_denominator = [810984652412424192, \n",
    "                            740373189193256964, \n",
    "                            722974582966214656, \n",
    "                            716439118184652801, \n",
    "                            682962037429899265, \n",
    "                            666287406224695296]\n",
    "len(list_deviant_denominator)"
   ]
  },
  {
   "cell_type": "markdown",
   "metadata": {},
   "source": [
    "- One of the key points in the introduction of the project states that \"[t]he fact that the rating numerators are greater than the denominators does not need to be cleaned. This unique rating system is a big part of the popularity of WeRateDogs.\"\n",
    "- However, when retweets and replies are excluded, there are in total 17 Tweet entries with a rating denominator other than 10\n",
    "- The ratings are extracted from the text programmatically. Unfortunately, some of them are inaccurate. For example, a rating of 7/11 was assigned to this Tweet: \"This is Darrel. He just robbed a 7/11 and is in a high speed police chase. Was just spotted by the helicopter 10/10\"\n",
    "- Rating denominators that are multiples of 10 are for entries with mutiple dogs in a Tweet\n",
    "- Tweet IDs of 6 entries in question are collected in a list"
   ]
  },
  {
   "cell_type": "code",
   "execution_count": 29,
   "metadata": {},
   "outputs": [
    {
     "data": {
      "text/plain": [
       "1776    1  \n",
       "666     1  \n",
       "420     2  \n",
       "182     1  \n",
       "75      2  \n",
       "27      1  \n",
       "26      1  \n",
       "17      1  \n",
       "15      2  \n",
       "14      54 \n",
       "13      351\n",
       "12      558\n",
       "11      463\n",
       "10      461\n",
       "9       156\n",
       "8       102\n",
       "7       54 \n",
       "6       32 \n",
       "5       37 \n",
       "4       15 \n",
       "3       19 \n",
       "2       9  \n",
       "1       8  \n",
       "0       2  \n",
       "Name: rating_numerator, dtype: int64"
      ]
     },
     "execution_count": 29,
     "metadata": {},
     "output_type": "execute_result"
    }
   ],
   "source": [
    "df_archive.query('rating_denominator == 10').rating_numerator.value_counts().sort_index(ascending=False)"
   ]
  },
  {
   "cell_type": "markdown",
   "metadata": {},
   "source": [
    "- Of the entries with 10 as denominator, ten have rating numerators higher than 15"
   ]
  },
  {
   "cell_type": "code",
   "execution_count": 30,
   "metadata": {},
   "outputs": [
    {
     "data": {
      "text/plain": [
       "None     2259\n",
       "doggo    97  \n",
       "Name: doggo, dtype: int64"
      ]
     },
     "execution_count": 30,
     "metadata": {},
     "output_type": "execute_result"
    }
   ],
   "source": [
    "df_archive.doggo.value_counts()"
   ]
  },
  {
   "cell_type": "code",
   "execution_count": 31,
   "metadata": {},
   "outputs": [
    {
     "data": {
      "text/plain": [
       "None       2346\n",
       "floofer    10  \n",
       "Name: floofer, dtype: int64"
      ]
     },
     "execution_count": 31,
     "metadata": {},
     "output_type": "execute_result"
    }
   ],
   "source": [
    "df_archive.floofer.value_counts()"
   ]
  },
  {
   "cell_type": "code",
   "execution_count": 32,
   "metadata": {},
   "outputs": [
    {
     "data": {
      "text/plain": [
       "None      2099\n",
       "pupper    257 \n",
       "Name: pupper, dtype: int64"
      ]
     },
     "execution_count": 32,
     "metadata": {},
     "output_type": "execute_result"
    }
   ],
   "source": [
    "df_archive.pupper.value_counts()"
   ]
  },
  {
   "cell_type": "code",
   "execution_count": 33,
   "metadata": {},
   "outputs": [
    {
     "data": {
      "text/plain": [
       "None     2326\n",
       "puppo    30  \n",
       "Name: puppo, dtype: int64"
      ]
     },
     "execution_count": 33,
     "metadata": {},
     "output_type": "execute_result"
    }
   ],
   "source": [
    "df_archive.puppo.value_counts()"
   ]
  },
  {
   "cell_type": "markdown",
   "metadata": {},
   "source": [
    "- Not every Tweet entry is assigned a stage of dog"
   ]
  },
  {
   "cell_type": "markdown",
   "metadata": {},
   "source": [
    "### 2. Image Predictions File ###"
   ]
  },
  {
   "cell_type": "code",
   "execution_count": 34,
   "metadata": {},
   "outputs": [
    {
     "name": "stdout",
     "output_type": "stream",
     "text": [
      "<class 'pandas.core.frame.DataFrame'>\n",
      "RangeIndex: 2075 entries, 0 to 2074\n",
      "Data columns (total 12 columns):\n",
      "tweet_id    2075 non-null int64\n",
      "jpg_url     2075 non-null object\n",
      "img_num     2075 non-null int64\n",
      "p1          2075 non-null object\n",
      "p1_conf     2075 non-null float64\n",
      "p1_dog      2075 non-null bool\n",
      "p2          2075 non-null object\n",
      "p2_conf     2075 non-null float64\n",
      "p2_dog      2075 non-null bool\n",
      "p3          2075 non-null object\n",
      "p3_conf     2075 non-null float64\n",
      "p3_dog      2075 non-null bool\n",
      "dtypes: bool(3), float64(3), int64(2), object(4)\n",
      "memory usage: 152.1+ KB\n"
     ]
    }
   ],
   "source": [
    "df_predictions.info()"
   ]
  },
  {
   "cell_type": "code",
   "execution_count": 35,
   "metadata": {},
   "outputs": [
    {
     "data": {
      "text/html": [
       "<div>\n",
       "<style scoped>\n",
       "    .dataframe tbody tr th:only-of-type {\n",
       "        vertical-align: middle;\n",
       "    }\n",
       "\n",
       "    .dataframe tbody tr th {\n",
       "        vertical-align: top;\n",
       "    }\n",
       "\n",
       "    .dataframe thead th {\n",
       "        text-align: right;\n",
       "    }\n",
       "</style>\n",
       "<table border=\"1\" class=\"dataframe\">\n",
       "  <thead>\n",
       "    <tr style=\"text-align: right;\">\n",
       "      <th></th>\n",
       "      <th>tweet_id</th>\n",
       "      <th>jpg_url</th>\n",
       "      <th>img_num</th>\n",
       "      <th>p1</th>\n",
       "      <th>p1_conf</th>\n",
       "      <th>p1_dog</th>\n",
       "      <th>p2</th>\n",
       "      <th>p2_conf</th>\n",
       "      <th>p2_dog</th>\n",
       "      <th>p3</th>\n",
       "      <th>p3_conf</th>\n",
       "      <th>p3_dog</th>\n",
       "    </tr>\n",
       "  </thead>\n",
       "  <tbody>\n",
       "    <tr>\n",
       "      <th>1982</th>\n",
       "      <td>871762521631449091</td>\n",
       "      <td>https://pbs.twimg.com/media/DBkfY58XcAEdzZy.jpg</td>\n",
       "      <td>2</td>\n",
       "      <td>Labrador_retriever</td>\n",
       "      <td>0.921393</td>\n",
       "      <td>True</td>\n",
       "      <td>golden_retriever</td>\n",
       "      <td>0.064608</td>\n",
       "      <td>True</td>\n",
       "      <td>bloodhound</td>\n",
       "      <td>0.003383</td>\n",
       "      <td>True</td>\n",
       "    </tr>\n",
       "    <tr>\n",
       "      <th>607</th>\n",
       "      <td>680055455951884288</td>\n",
       "      <td>https://pbs.twimg.com/media/CW-ZRC_WQAAyFrL.jpg</td>\n",
       "      <td>1</td>\n",
       "      <td>Samoyed</td>\n",
       "      <td>0.995466</td>\n",
       "      <td>True</td>\n",
       "      <td>Great_Pyrenees</td>\n",
       "      <td>0.001834</td>\n",
       "      <td>True</td>\n",
       "      <td>Pomeranian</td>\n",
       "      <td>0.000667</td>\n",
       "      <td>True</td>\n",
       "    </tr>\n",
       "    <tr>\n",
       "      <th>1942</th>\n",
       "      <td>861288531465048066</td>\n",
       "      <td>https://pbs.twimg.com/ext_tw_video_thumb/861288473281437696/pu/img/RERGmRgPyaaaB-tB.jpg</td>\n",
       "      <td>1</td>\n",
       "      <td>syringe</td>\n",
       "      <td>0.144712</td>\n",
       "      <td>False</td>\n",
       "      <td>oxygen_mask</td>\n",
       "      <td>0.106684</td>\n",
       "      <td>False</td>\n",
       "      <td>Bouvier_des_Flandres</td>\n",
       "      <td>0.082610</td>\n",
       "      <td>True</td>\n",
       "    </tr>\n",
       "    <tr>\n",
       "      <th>892</th>\n",
       "      <td>699413908797464576</td>\n",
       "      <td>https://pbs.twimg.com/media/CbTRPXdW8AQMZf7.jpg</td>\n",
       "      <td>1</td>\n",
       "      <td>Samoyed</td>\n",
       "      <td>0.517479</td>\n",
       "      <td>True</td>\n",
       "      <td>malamute</td>\n",
       "      <td>0.155935</td>\n",
       "      <td>True</td>\n",
       "      <td>Eskimo_dog</td>\n",
       "      <td>0.095001</td>\n",
       "      <td>True</td>\n",
       "    </tr>\n",
       "    <tr>\n",
       "      <th>1937</th>\n",
       "      <td>860276583193509888</td>\n",
       "      <td>https://pbs.twimg.com/media/C_BQ_NlVwAAgYGD.jpg</td>\n",
       "      <td>1</td>\n",
       "      <td>lakeside</td>\n",
       "      <td>0.312299</td>\n",
       "      <td>False</td>\n",
       "      <td>dock</td>\n",
       "      <td>0.159842</td>\n",
       "      <td>False</td>\n",
       "      <td>canoe</td>\n",
       "      <td>0.070795</td>\n",
       "      <td>False</td>\n",
       "    </tr>\n",
       "  </tbody>\n",
       "</table>\n",
       "</div>"
      ],
      "text/plain": [
       "                tweet_id  \\\n",
       "1982  871762521631449091   \n",
       "607   680055455951884288   \n",
       "1942  861288531465048066   \n",
       "892   699413908797464576   \n",
       "1937  860276583193509888   \n",
       "\n",
       "                                                                                      jpg_url  \\\n",
       "1982  https://pbs.twimg.com/media/DBkfY58XcAEdzZy.jpg                                           \n",
       "607   https://pbs.twimg.com/media/CW-ZRC_WQAAyFrL.jpg                                           \n",
       "1942  https://pbs.twimg.com/ext_tw_video_thumb/861288473281437696/pu/img/RERGmRgPyaaaB-tB.jpg   \n",
       "892   https://pbs.twimg.com/media/CbTRPXdW8AQMZf7.jpg                                           \n",
       "1937  https://pbs.twimg.com/media/C_BQ_NlVwAAgYGD.jpg                                           \n",
       "\n",
       "      img_num                  p1   p1_conf  p1_dog                p2  \\\n",
       "1982  2        Labrador_retriever  0.921393  True    golden_retriever   \n",
       "607   1        Samoyed             0.995466  True    Great_Pyrenees     \n",
       "1942  1        syringe             0.144712  False   oxygen_mask        \n",
       "892   1        Samoyed             0.517479  True    malamute           \n",
       "1937  1        lakeside            0.312299  False   dock               \n",
       "\n",
       "       p2_conf  p2_dog                    p3   p3_conf  p3_dog  \n",
       "1982  0.064608  True    bloodhound            0.003383  True    \n",
       "607   0.001834  True    Pomeranian            0.000667  True    \n",
       "1942  0.106684  False   Bouvier_des_Flandres  0.082610  True    \n",
       "892   0.155935  True    Eskimo_dog            0.095001  True    \n",
       "1937  0.159842  False   canoe                 0.070795  False   "
      ]
     },
     "execution_count": 35,
     "metadata": {},
     "output_type": "execute_result"
    }
   ],
   "source": [
    "df_predictions.sample(5)"
   ]
  },
  {
   "cell_type": "code",
   "execution_count": 36,
   "metadata": {},
   "outputs": [
    {
     "data": {
      "text/plain": [
       "golden_retriever             150\n",
       "Labrador_retriever           100\n",
       "Pembroke                     89 \n",
       "Chihuahua                    83 \n",
       "pug                          57 \n",
       "chow                         44 \n",
       "Samoyed                      43 \n",
       "toy_poodle                   39 \n",
       "Pomeranian                   38 \n",
       "malamute                     30 \n",
       "cocker_spaniel               30 \n",
       "French_bulldog               26 \n",
       "miniature_pinscher           23 \n",
       "Chesapeake_Bay_retriever     23 \n",
       "seat_belt                    22 \n",
       "German_shepherd              20 \n",
       "Staffordshire_bullterrier    20 \n",
       "Siberian_husky               20 \n",
       "Cardigan                     19 \n",
       "web_site                     19 \n",
       "Eskimo_dog                   18 \n",
       "Shetland_sheepdog            18 \n",
       "beagle                       18 \n",
       "Maltese_dog                  18 \n",
       "teddy                        18 \n",
       "Lakeland_terrier             17 \n",
       "Rottweiler                   17 \n",
       "Shih-Tzu                     17 \n",
       "Italian_greyhound            16 \n",
       "kuvasz                       16 \n",
       "                             .. \n",
       "military_uniform             1  \n",
       "leopard                      1  \n",
       "Scotch_terrier               1  \n",
       "panpipe                      1  \n",
       "canoe                        1  \n",
       "soccer_ball                  1  \n",
       "hare                         1  \n",
       "skunk                        1  \n",
       "crane                        1  \n",
       "standard_schnauzer           1  \n",
       "wild_boar                    1  \n",
       "beach_wagon                  1  \n",
       "school_bus                   1  \n",
       "bison                        1  \n",
       "earthstar                    1  \n",
       "fire_engine                  1  \n",
       "convertible                  1  \n",
       "alp                          1  \n",
       "toilet_seat                  1  \n",
       "carton                       1  \n",
       "cheetah                      1  \n",
       "dining_table                 1  \n",
       "bearskin                     1  \n",
       "groenendael                  1  \n",
       "African_crocodile            1  \n",
       "coho                         1  \n",
       "orange                       1  \n",
       "jersey                       1  \n",
       "revolver                     1  \n",
       "piggy_bank                   1  \n",
       "Name: p1, Length: 378, dtype: int64"
      ]
     },
     "execution_count": 36,
     "metadata": {},
     "output_type": "execute_result"
    }
   ],
   "source": [
    "df_predictions.p1.value_counts()"
   ]
  },
  {
   "cell_type": "code",
   "execution_count": 37,
   "metadata": {
    "scrolled": true
   },
   "outputs": [
    {
     "data": {
      "text/html": [
       "<div>\n",
       "<style scoped>\n",
       "    .dataframe tbody tr th:only-of-type {\n",
       "        vertical-align: middle;\n",
       "    }\n",
       "\n",
       "    .dataframe tbody tr th {\n",
       "        vertical-align: top;\n",
       "    }\n",
       "\n",
       "    .dataframe thead th {\n",
       "        text-align: right;\n",
       "    }\n",
       "</style>\n",
       "<table border=\"1\" class=\"dataframe\">\n",
       "  <thead>\n",
       "    <tr style=\"text-align: right;\">\n",
       "      <th></th>\n",
       "      <th>tweet_id</th>\n",
       "      <th>img_num</th>\n",
       "      <th>p1_conf</th>\n",
       "      <th>p2_conf</th>\n",
       "      <th>p3_conf</th>\n",
       "    </tr>\n",
       "  </thead>\n",
       "  <tbody>\n",
       "    <tr>\n",
       "      <th>count</th>\n",
       "      <td>2.075000e+03</td>\n",
       "      <td>2075.000000</td>\n",
       "      <td>2075.000000</td>\n",
       "      <td>2.075000e+03</td>\n",
       "      <td>2.075000e+03</td>\n",
       "    </tr>\n",
       "    <tr>\n",
       "      <th>mean</th>\n",
       "      <td>7.384514e+17</td>\n",
       "      <td>1.203855</td>\n",
       "      <td>0.594548</td>\n",
       "      <td>1.345886e-01</td>\n",
       "      <td>6.032417e-02</td>\n",
       "    </tr>\n",
       "    <tr>\n",
       "      <th>std</th>\n",
       "      <td>6.785203e+16</td>\n",
       "      <td>0.561875</td>\n",
       "      <td>0.271174</td>\n",
       "      <td>1.006657e-01</td>\n",
       "      <td>5.090593e-02</td>\n",
       "    </tr>\n",
       "    <tr>\n",
       "      <th>min</th>\n",
       "      <td>6.660209e+17</td>\n",
       "      <td>1.000000</td>\n",
       "      <td>0.044333</td>\n",
       "      <td>1.011300e-08</td>\n",
       "      <td>1.740170e-10</td>\n",
       "    </tr>\n",
       "    <tr>\n",
       "      <th>25%</th>\n",
       "      <td>6.764835e+17</td>\n",
       "      <td>1.000000</td>\n",
       "      <td>0.364412</td>\n",
       "      <td>5.388625e-02</td>\n",
       "      <td>1.622240e-02</td>\n",
       "    </tr>\n",
       "    <tr>\n",
       "      <th>50%</th>\n",
       "      <td>7.119988e+17</td>\n",
       "      <td>1.000000</td>\n",
       "      <td>0.588230</td>\n",
       "      <td>1.181810e-01</td>\n",
       "      <td>4.944380e-02</td>\n",
       "    </tr>\n",
       "    <tr>\n",
       "      <th>75%</th>\n",
       "      <td>7.932034e+17</td>\n",
       "      <td>1.000000</td>\n",
       "      <td>0.843855</td>\n",
       "      <td>1.955655e-01</td>\n",
       "      <td>9.180755e-02</td>\n",
       "    </tr>\n",
       "    <tr>\n",
       "      <th>max</th>\n",
       "      <td>8.924206e+17</td>\n",
       "      <td>4.000000</td>\n",
       "      <td>1.000000</td>\n",
       "      <td>4.880140e-01</td>\n",
       "      <td>2.734190e-01</td>\n",
       "    </tr>\n",
       "  </tbody>\n",
       "</table>\n",
       "</div>"
      ],
      "text/plain": [
       "           tweet_id      img_num      p1_conf       p2_conf       p3_conf\n",
       "count  2.075000e+03  2075.000000  2075.000000  2.075000e+03  2.075000e+03\n",
       "mean   7.384514e+17  1.203855     0.594548     1.345886e-01  6.032417e-02\n",
       "std    6.785203e+16  0.561875     0.271174     1.006657e-01  5.090593e-02\n",
       "min    6.660209e+17  1.000000     0.044333     1.011300e-08  1.740170e-10\n",
       "25%    6.764835e+17  1.000000     0.364412     5.388625e-02  1.622240e-02\n",
       "50%    7.119988e+17  1.000000     0.588230     1.181810e-01  4.944380e-02\n",
       "75%    7.932034e+17  1.000000     0.843855     1.955655e-01  9.180755e-02\n",
       "max    8.924206e+17  4.000000     1.000000     4.880140e-01  2.734190e-01"
      ]
     },
     "execution_count": 37,
     "metadata": {},
     "output_type": "execute_result"
    }
   ],
   "source": [
    "df_predictions.describe()"
   ]
  },
  {
   "cell_type": "code",
   "execution_count": 38,
   "metadata": {},
   "outputs": [
    {
     "data": {
      "text/plain": [
       "324"
      ]
     },
     "execution_count": 38,
     "metadata": {},
     "output_type": "execute_result"
    }
   ],
   "source": [
    "df_not_dog = df_predictions[~df_predictions.p1_dog & ~df_predictions.p2_dog & ~df_predictions.p3_dog]\n",
    "df_not_dog.shape[0]"
   ]
  },
  {
   "cell_type": "code",
   "execution_count": 39,
   "metadata": {},
   "outputs": [
    {
     "data": {
      "text/html": [
       "<div>\n",
       "<style scoped>\n",
       "    .dataframe tbody tr th:only-of-type {\n",
       "        vertical-align: middle;\n",
       "    }\n",
       "\n",
       "    .dataframe tbody tr th {\n",
       "        vertical-align: top;\n",
       "    }\n",
       "\n",
       "    .dataframe thead th {\n",
       "        text-align: right;\n",
       "    }\n",
       "</style>\n",
       "<table border=\"1\" class=\"dataframe\">\n",
       "  <thead>\n",
       "    <tr style=\"text-align: right;\">\n",
       "      <th></th>\n",
       "      <th>tweet_id</th>\n",
       "      <th>jpg_url</th>\n",
       "      <th>img_num</th>\n",
       "      <th>p1</th>\n",
       "      <th>p1_conf</th>\n",
       "      <th>p1_dog</th>\n",
       "      <th>p2</th>\n",
       "      <th>p2_conf</th>\n",
       "      <th>p2_dog</th>\n",
       "      <th>p3</th>\n",
       "      <th>p3_conf</th>\n",
       "      <th>p3_dog</th>\n",
       "    </tr>\n",
       "  </thead>\n",
       "  <tbody>\n",
       "    <tr>\n",
       "      <th>763</th>\n",
       "      <td>688908934925697024</td>\n",
       "      <td>https://pbs.twimg.com/media/CY9_BOYWkAAkuzn.jpg</td>\n",
       "      <td>1</td>\n",
       "      <td>crane</td>\n",
       "      <td>0.158859</td>\n",
       "      <td>False</td>\n",
       "      <td>pier</td>\n",
       "      <td>0.130016</td>\n",
       "      <td>False</td>\n",
       "      <td>bell_cote</td>\n",
       "      <td>0.087741</td>\n",
       "      <td>False</td>\n",
       "    </tr>\n",
       "    <tr>\n",
       "      <th>369</th>\n",
       "      <td>672970152493887488</td>\n",
       "      <td>https://pbs.twimg.com/media/CVbeyGUU8AEq300.jpg</td>\n",
       "      <td>1</td>\n",
       "      <td>leaf_beetle</td>\n",
       "      <td>0.340154</td>\n",
       "      <td>False</td>\n",
       "      <td>rhinoceros_beetle</td>\n",
       "      <td>0.139698</td>\n",
       "      <td>False</td>\n",
       "      <td>crayfish</td>\n",
       "      <td>0.058034</td>\n",
       "      <td>False</td>\n",
       "    </tr>\n",
       "    <tr>\n",
       "      <th>391</th>\n",
       "      <td>673576835670777856</td>\n",
       "      <td>https://pbs.twimg.com/media/CVkGjsxU8AA5OYX.jpg</td>\n",
       "      <td>1</td>\n",
       "      <td>teddy</td>\n",
       "      <td>0.255210</td>\n",
       "      <td>False</td>\n",
       "      <td>Christmas_stocking</td>\n",
       "      <td>0.098285</td>\n",
       "      <td>False</td>\n",
       "      <td>pajama</td>\n",
       "      <td>0.072735</td>\n",
       "      <td>False</td>\n",
       "    </tr>\n",
       "    <tr>\n",
       "      <th>929</th>\n",
       "      <td>702932127499816960</td>\n",
       "      <td>https://pbs.twimg.com/media/CcFRCfRW4AA5a72.jpg</td>\n",
       "      <td>1</td>\n",
       "      <td>wallaby</td>\n",
       "      <td>0.410710</td>\n",
       "      <td>False</td>\n",
       "      <td>wombat</td>\n",
       "      <td>0.239332</td>\n",
       "      <td>False</td>\n",
       "      <td>beaver</td>\n",
       "      <td>0.149605</td>\n",
       "      <td>False</td>\n",
       "    </tr>\n",
       "    <tr>\n",
       "      <th>130</th>\n",
       "      <td>668291999406125056</td>\n",
       "      <td>https://pbs.twimg.com/media/CUZABzGW4AE5F0k.jpg</td>\n",
       "      <td>1</td>\n",
       "      <td>web_site</td>\n",
       "      <td>0.995535</td>\n",
       "      <td>False</td>\n",
       "      <td>skunk</td>\n",
       "      <td>0.001363</td>\n",
       "      <td>False</td>\n",
       "      <td>badger</td>\n",
       "      <td>0.000686</td>\n",
       "      <td>False</td>\n",
       "    </tr>\n",
       "    <tr>\n",
       "      <th>309</th>\n",
       "      <td>671538301157904385</td>\n",
       "      <td>https://pbs.twimg.com/media/CVHIhi2WsAEgdKk.jpg</td>\n",
       "      <td>1</td>\n",
       "      <td>park_bench</td>\n",
       "      <td>0.194211</td>\n",
       "      <td>False</td>\n",
       "      <td>water_bottle</td>\n",
       "      <td>0.071870</td>\n",
       "      <td>False</td>\n",
       "      <td>beacon</td>\n",
       "      <td>0.053433</td>\n",
       "      <td>False</td>\n",
       "    </tr>\n",
       "    <tr>\n",
       "      <th>1956</th>\n",
       "      <td>864873206498414592</td>\n",
       "      <td>https://pbs.twimg.com/media/DAClmHkXcAA1kSv.jpg</td>\n",
       "      <td>2</td>\n",
       "      <td>pole</td>\n",
       "      <td>0.478616</td>\n",
       "      <td>False</td>\n",
       "      <td>lakeside</td>\n",
       "      <td>0.114182</td>\n",
       "      <td>False</td>\n",
       "      <td>wreck</td>\n",
       "      <td>0.055926</td>\n",
       "      <td>False</td>\n",
       "    </tr>\n",
       "    <tr>\n",
       "      <th>1307</th>\n",
       "      <td>753420520834629632</td>\n",
       "      <td>https://pbs.twimg.com/ext_tw_video_thumb/753420390836346880/pu/img/ZHLvYxSHYuQK3uXi.jpg</td>\n",
       "      <td>1</td>\n",
       "      <td>balloon</td>\n",
       "      <td>0.267961</td>\n",
       "      <td>False</td>\n",
       "      <td>lakeside</td>\n",
       "      <td>0.085764</td>\n",
       "      <td>False</td>\n",
       "      <td>rapeseed</td>\n",
       "      <td>0.040809</td>\n",
       "      <td>False</td>\n",
       "    </tr>\n",
       "    <tr>\n",
       "      <th>666</th>\n",
       "      <td>682788441537560576</td>\n",
       "      <td>https://pbs.twimg.com/media/CXnAdosWAAEMGCM.jpg</td>\n",
       "      <td>1</td>\n",
       "      <td>toyshop</td>\n",
       "      <td>0.375610</td>\n",
       "      <td>False</td>\n",
       "      <td>orange</td>\n",
       "      <td>0.094538</td>\n",
       "      <td>False</td>\n",
       "      <td>teddy</td>\n",
       "      <td>0.039808</td>\n",
       "      <td>False</td>\n",
       "    </tr>\n",
       "    <tr>\n",
       "      <th>743</th>\n",
       "      <td>687476254459715584</td>\n",
       "      <td>https://pbs.twimg.com/media/CYpoAZTWEAA6vDs.jpg</td>\n",
       "      <td>1</td>\n",
       "      <td>wood_rabbit</td>\n",
       "      <td>0.702725</td>\n",
       "      <td>False</td>\n",
       "      <td>Angora</td>\n",
       "      <td>0.190659</td>\n",
       "      <td>False</td>\n",
       "      <td>hare</td>\n",
       "      <td>0.105072</td>\n",
       "      <td>False</td>\n",
       "    </tr>\n",
       "  </tbody>\n",
       "</table>\n",
       "</div>"
      ],
      "text/plain": [
       "                tweet_id  \\\n",
       "763   688908934925697024   \n",
       "369   672970152493887488   \n",
       "391   673576835670777856   \n",
       "929   702932127499816960   \n",
       "130   668291999406125056   \n",
       "309   671538301157904385   \n",
       "1956  864873206498414592   \n",
       "1307  753420520834629632   \n",
       "666   682788441537560576   \n",
       "743   687476254459715584   \n",
       "\n",
       "                                                                                      jpg_url  \\\n",
       "763   https://pbs.twimg.com/media/CY9_BOYWkAAkuzn.jpg                                           \n",
       "369   https://pbs.twimg.com/media/CVbeyGUU8AEq300.jpg                                           \n",
       "391   https://pbs.twimg.com/media/CVkGjsxU8AA5OYX.jpg                                           \n",
       "929   https://pbs.twimg.com/media/CcFRCfRW4AA5a72.jpg                                           \n",
       "130   https://pbs.twimg.com/media/CUZABzGW4AE5F0k.jpg                                           \n",
       "309   https://pbs.twimg.com/media/CVHIhi2WsAEgdKk.jpg                                           \n",
       "1956  https://pbs.twimg.com/media/DAClmHkXcAA1kSv.jpg                                           \n",
       "1307  https://pbs.twimg.com/ext_tw_video_thumb/753420390836346880/pu/img/ZHLvYxSHYuQK3uXi.jpg   \n",
       "666   https://pbs.twimg.com/media/CXnAdosWAAEMGCM.jpg                                           \n",
       "743   https://pbs.twimg.com/media/CYpoAZTWEAA6vDs.jpg                                           \n",
       "\n",
       "      img_num           p1   p1_conf  p1_dog                  p2   p2_conf  \\\n",
       "763   1        crane        0.158859  False   pier                0.130016   \n",
       "369   1        leaf_beetle  0.340154  False   rhinoceros_beetle   0.139698   \n",
       "391   1        teddy        0.255210  False   Christmas_stocking  0.098285   \n",
       "929   1        wallaby      0.410710  False   wombat              0.239332   \n",
       "130   1        web_site     0.995535  False   skunk               0.001363   \n",
       "309   1        park_bench   0.194211  False   water_bottle        0.071870   \n",
       "1956  2        pole         0.478616  False   lakeside            0.114182   \n",
       "1307  1        balloon      0.267961  False   lakeside            0.085764   \n",
       "666   1        toyshop      0.375610  False   orange              0.094538   \n",
       "743   1        wood_rabbit  0.702725  False   Angora              0.190659   \n",
       "\n",
       "      p2_dog         p3   p3_conf  p3_dog  \n",
       "763   False   bell_cote  0.087741  False   \n",
       "369   False   crayfish   0.058034  False   \n",
       "391   False   pajama     0.072735  False   \n",
       "929   False   beaver     0.149605  False   \n",
       "130   False   badger     0.000686  False   \n",
       "309   False   beacon     0.053433  False   \n",
       "1956  False   wreck      0.055926  False   \n",
       "1307  False   rapeseed   0.040809  False   \n",
       "666   False   teddy      0.039808  False   \n",
       "743   False   hare       0.105072  False   "
      ]
     },
     "execution_count": 39,
     "metadata": {},
     "output_type": "execute_result"
    }
   ],
   "source": [
    "df_not_dog.sample(10)"
   ]
  },
  {
   "cell_type": "markdown",
   "metadata": {},
   "source": [
    "- Images in 324 Tweet entries are not categorized as dog in any of the three predictions by the algorithm"
   ]
  },
  {
   "cell_type": "markdown",
   "metadata": {},
   "source": [
    "### 3. Additional Data through Twitter API ###"
   ]
  },
  {
   "cell_type": "code",
   "execution_count": 40,
   "metadata": {},
   "outputs": [
    {
     "name": "stdout",
     "output_type": "stream",
     "text": [
      "<class 'pandas.core.frame.DataFrame'>\n",
      "RangeIndex: 2333 entries, 0 to 2332\n",
      "Data columns (total 3 columns):\n",
      "tweet_id          2333 non-null int64\n",
      "retweet_count     2333 non-null int64\n",
      "favorite_count    2333 non-null int64\n",
      "dtypes: int64(3)\n",
      "memory usage: 54.8 KB\n"
     ]
    }
   ],
   "source": [
    "df_extra_api.info()"
   ]
  },
  {
   "cell_type": "code",
   "execution_count": 41,
   "metadata": {},
   "outputs": [
    {
     "data": {
      "text/html": [
       "<div>\n",
       "<style scoped>\n",
       "    .dataframe tbody tr th:only-of-type {\n",
       "        vertical-align: middle;\n",
       "    }\n",
       "\n",
       "    .dataframe tbody tr th {\n",
       "        vertical-align: top;\n",
       "    }\n",
       "\n",
       "    .dataframe thead th {\n",
       "        text-align: right;\n",
       "    }\n",
       "</style>\n",
       "<table border=\"1\" class=\"dataframe\">\n",
       "  <thead>\n",
       "    <tr style=\"text-align: right;\">\n",
       "      <th></th>\n",
       "      <th>tweet_id</th>\n",
       "      <th>retweet_count</th>\n",
       "      <th>favorite_count</th>\n",
       "    </tr>\n",
       "  </thead>\n",
       "  <tbody>\n",
       "    <tr>\n",
       "      <th>854</th>\n",
       "      <td>761227390836215808</td>\n",
       "      <td>1625</td>\n",
       "      <td>5506</td>\n",
       "    </tr>\n",
       "    <tr>\n",
       "      <th>784</th>\n",
       "      <td>772117678702071809</td>\n",
       "      <td>774</td>\n",
       "      <td>3925</td>\n",
       "    </tr>\n",
       "    <tr>\n",
       "      <th>1155</th>\n",
       "      <td>719704490224398336</td>\n",
       "      <td>1478</td>\n",
       "      <td>4655</td>\n",
       "    </tr>\n",
       "    <tr>\n",
       "      <th>269</th>\n",
       "      <td>839290600511926273</td>\n",
       "      <td>146</td>\n",
       "      <td>0</td>\n",
       "    </tr>\n",
       "    <tr>\n",
       "      <th>695</th>\n",
       "      <td>784183165795655680</td>\n",
       "      <td>8504</td>\n",
       "      <td>21076</td>\n",
       "    </tr>\n",
       "  </tbody>\n",
       "</table>\n",
       "</div>"
      ],
      "text/plain": [
       "                tweet_id  retweet_count  favorite_count\n",
       "854   761227390836215808  1625           5506          \n",
       "784   772117678702071809  774            3925          \n",
       "1155  719704490224398336  1478           4655          \n",
       "269   839290600511926273  146            0             \n",
       "695   784183165795655680  8504           21076         "
      ]
     },
     "execution_count": 41,
     "metadata": {},
     "output_type": "execute_result"
    }
   ],
   "source": [
    "df_extra_api.sample(5)"
   ]
  },
  {
   "cell_type": "code",
   "execution_count": 42,
   "metadata": {
    "scrolled": true
   },
   "outputs": [
    {
     "data": {
      "text/html": [
       "<div>\n",
       "<style scoped>\n",
       "    .dataframe tbody tr th:only-of-type {\n",
       "        vertical-align: middle;\n",
       "    }\n",
       "\n",
       "    .dataframe tbody tr th {\n",
       "        vertical-align: top;\n",
       "    }\n",
       "\n",
       "    .dataframe thead th {\n",
       "        text-align: right;\n",
       "    }\n",
       "</style>\n",
       "<table border=\"1\" class=\"dataframe\">\n",
       "  <thead>\n",
       "    <tr style=\"text-align: right;\">\n",
       "      <th></th>\n",
       "      <th>tweet_id</th>\n",
       "      <th>retweet_count</th>\n",
       "      <th>favorite_count</th>\n",
       "    </tr>\n",
       "  </thead>\n",
       "  <tbody>\n",
       "    <tr>\n",
       "      <th>count</th>\n",
       "      <td>2.333000e+03</td>\n",
       "      <td>2333.000000</td>\n",
       "      <td>2333.000000</td>\n",
       "    </tr>\n",
       "    <tr>\n",
       "      <th>mean</th>\n",
       "      <td>7.419279e+17</td>\n",
       "      <td>2805.621517</td>\n",
       "      <td>7768.775825</td>\n",
       "    </tr>\n",
       "    <tr>\n",
       "      <th>std</th>\n",
       "      <td>6.820607e+16</td>\n",
       "      <td>4749.564898</td>\n",
       "      <td>12061.976413</td>\n",
       "    </tr>\n",
       "    <tr>\n",
       "      <th>min</th>\n",
       "      <td>6.660209e+17</td>\n",
       "      <td>1.000000</td>\n",
       "      <td>0.000000</td>\n",
       "    </tr>\n",
       "    <tr>\n",
       "      <th>25%</th>\n",
       "      <td>6.782786e+17</td>\n",
       "      <td>562.000000</td>\n",
       "      <td>1347.000000</td>\n",
       "    </tr>\n",
       "    <tr>\n",
       "      <th>50%</th>\n",
       "      <td>7.184547e+17</td>\n",
       "      <td>1314.000000</td>\n",
       "      <td>3383.000000</td>\n",
       "    </tr>\n",
       "    <tr>\n",
       "      <th>75%</th>\n",
       "      <td>7.986654e+17</td>\n",
       "      <td>3268.000000</td>\n",
       "      <td>9532.000000</td>\n",
       "    </tr>\n",
       "    <tr>\n",
       "      <th>max</th>\n",
       "      <td>8.924206e+17</td>\n",
       "      <td>80630.000000</td>\n",
       "      <td>161051.000000</td>\n",
       "    </tr>\n",
       "  </tbody>\n",
       "</table>\n",
       "</div>"
      ],
      "text/plain": [
       "           tweet_id  retweet_count  favorite_count\n",
       "count  2.333000e+03  2333.000000    2333.000000   \n",
       "mean   7.419279e+17  2805.621517    7768.775825   \n",
       "std    6.820607e+16  4749.564898    12061.976413  \n",
       "min    6.660209e+17  1.000000       0.000000      \n",
       "25%    6.782786e+17  562.000000     1347.000000   \n",
       "50%    7.184547e+17  1314.000000    3383.000000   \n",
       "75%    7.986654e+17  3268.000000    9532.000000   \n",
       "max    8.924206e+17  80630.000000   161051.000000 "
      ]
     },
     "execution_count": 42,
     "metadata": {},
     "output_type": "execute_result"
    }
   ],
   "source": [
    "df_extra_api.describe()"
   ]
  },
  {
   "cell_type": "markdown",
   "metadata": {},
   "source": [
    "- No issues found in the data through API"
   ]
  },
  {
   "cell_type": "markdown",
   "metadata": {},
   "source": [
    "### Quality ###"
   ]
  },
  {
   "cell_type": "markdown",
   "metadata": {},
   "source": [
    "**Twitter Archive File**\n",
    "\n",
    "- 181 retweets in the dataset\n",
    "- 78 replies in the dataset\n",
    "- 59 Tweet entries without images (without \"expanded_urls\")\n",
    "\n",
    "(It is indicated in the \"Project Motivation\" section that \"[y]ou only want original ratings (no retweets) that have images.\" Retweets, replies and entries without images should be removed)\n",
    "\n",
    "\n",
    "- \"timestamp\" and \"retweeted_status_timestamp\" entries are strings, not of timestamp data type\n",
    "- Entries in ID columns (\"tweet_id\", \"in_reply_to_status_id\", \"in_reply_to_user_id\", \"retweeted_status_id\", \"retweeted_status_user_id\") are of float format\n",
    "- Invalid entries (\"a\", \"the\", \"an\") and \"None\" as entry in \"name\" column\n",
    "- When retweets and replies are excluded, there are in total 17 Tweet entries with a rating denominator other than \"10\", of which 6 entries are extraction errors\n",
    "- Of the entries with 10 as denominator, ten have rating numerators higher than 15"
   ]
  },
  {
   "cell_type": "markdown",
   "metadata": {},
   "source": [
    "**Image Predictions File**\n",
    "\n",
    "- In total 2075 Tweet entries, 281 entries missing (in comparison to the archive data)\n",
    "- Images in 324 Tweet entries are not categorized as dog in any of the three predictions by the algorithm"
   ]
  },
  {
   "cell_type": "markdown",
   "metadata": {},
   "source": [
    "**Additional Data through Twitter API**\n",
    "\n",
    "- In total 2333 Tweet entries - 23 Tweets deleted/missing from the list in the archive file (TweepErrors)"
   ]
  },
  {
   "cell_type": "markdown",
   "metadata": {},
   "source": [
    "### Tidiness ###"
   ]
  },
  {
   "cell_type": "markdown",
   "metadata": {},
   "source": [
    "- Data from Twitter archive, image predictions data and the extra data through Twitter API should be in one table\n",
    "- Stage of dog (doggo,floofer, pupper, puppo) should be in one column"
   ]
  },
  {
   "cell_type": "markdown",
   "metadata": {},
   "source": [
    "## Clean Data ##"
   ]
  },
  {
   "cell_type": "code",
   "execution_count": 43,
   "metadata": {},
   "outputs": [],
   "source": [
    "df_archive_clean = df_archive.copy()\n",
    "df_predictions_clean = df_predictions.copy()\n",
    "df_extra_api_clean = df_extra_api.copy()"
   ]
  },
  {
   "cell_type": "markdown",
   "metadata": {},
   "source": [
    "### 1. Twitter Archive File ###"
   ]
  },
  {
   "cell_type": "markdown",
   "metadata": {},
   "source": [
    "### Quality ###"
   ]
  },
  {
   "cell_type": "markdown",
   "metadata": {},
   "source": [
    "Twitter archive: **Retweets are not considered for data analysis**"
   ]
  },
  {
   "cell_type": "markdown",
   "metadata": {},
   "source": [
    "**Define**"
   ]
  },
  {
   "cell_type": "markdown",
   "metadata": {},
   "source": [
    "Remove the retweet rows in the dataset, of which the entries in \"retweeted_status_id\" column is not null"
   ]
  },
  {
   "cell_type": "markdown",
   "metadata": {},
   "source": [
    "**Code**"
   ]
  },
  {
   "cell_type": "code",
   "execution_count": 44,
   "metadata": {},
   "outputs": [],
   "source": [
    "df_archive_clean = df_archive_clean[df_archive_clean.retweeted_status_id.isnull()]"
   ]
  },
  {
   "cell_type": "markdown",
   "metadata": {},
   "source": [
    "**Test**"
   ]
  },
  {
   "cell_type": "code",
   "execution_count": 45,
   "metadata": {},
   "outputs": [
    {
     "name": "stdout",
     "output_type": "stream",
     "text": [
      "<class 'pandas.core.frame.DataFrame'>\n",
      "Int64Index: 2175 entries, 0 to 2355\n",
      "Data columns (total 17 columns):\n",
      "tweet_id                      2175 non-null int64\n",
      "in_reply_to_status_id         78 non-null float64\n",
      "in_reply_to_user_id           78 non-null float64\n",
      "timestamp                     2175 non-null object\n",
      "source                        2175 non-null object\n",
      "text                          2175 non-null object\n",
      "retweeted_status_id           0 non-null float64\n",
      "retweeted_status_user_id      0 non-null float64\n",
      "retweeted_status_timestamp    0 non-null object\n",
      "expanded_urls                 2117 non-null object\n",
      "rating_numerator              2175 non-null int64\n",
      "rating_denominator            2175 non-null int64\n",
      "name                          2175 non-null object\n",
      "doggo                         2175 non-null object\n",
      "floofer                       2175 non-null object\n",
      "pupper                        2175 non-null object\n",
      "puppo                         2175 non-null object\n",
      "dtypes: float64(4), int64(3), object(10)\n",
      "memory usage: 305.9+ KB\n"
     ]
    }
   ],
   "source": [
    "df_archive_clean.info()"
   ]
  },
  {
   "cell_type": "markdown",
   "metadata": {},
   "source": [
    "Twitter archive: **Replies are not considered for data analysis**"
   ]
  },
  {
   "cell_type": "markdown",
   "metadata": {},
   "source": [
    "**Define**"
   ]
  },
  {
   "cell_type": "markdown",
   "metadata": {},
   "source": [
    "Remove the reply rows in the dataset, of which the entries in \"in_reply_to_status_id\" column is not null"
   ]
  },
  {
   "cell_type": "markdown",
   "metadata": {},
   "source": [
    "**Code**"
   ]
  },
  {
   "cell_type": "code",
   "execution_count": 46,
   "metadata": {},
   "outputs": [],
   "source": [
    "df_archive_clean = df_archive_clean[df_archive_clean.in_reply_to_status_id.isnull()]"
   ]
  },
  {
   "cell_type": "markdown",
   "metadata": {},
   "source": [
    "**Test**"
   ]
  },
  {
   "cell_type": "code",
   "execution_count": 47,
   "metadata": {
    "scrolled": true
   },
   "outputs": [
    {
     "name": "stdout",
     "output_type": "stream",
     "text": [
      "<class 'pandas.core.frame.DataFrame'>\n",
      "Int64Index: 2097 entries, 0 to 2355\n",
      "Data columns (total 17 columns):\n",
      "tweet_id                      2097 non-null int64\n",
      "in_reply_to_status_id         0 non-null float64\n",
      "in_reply_to_user_id           0 non-null float64\n",
      "timestamp                     2097 non-null object\n",
      "source                        2097 non-null object\n",
      "text                          2097 non-null object\n",
      "retweeted_status_id           0 non-null float64\n",
      "retweeted_status_user_id      0 non-null float64\n",
      "retweeted_status_timestamp    0 non-null object\n",
      "expanded_urls                 2094 non-null object\n",
      "rating_numerator              2097 non-null int64\n",
      "rating_denominator            2097 non-null int64\n",
      "name                          2097 non-null object\n",
      "doggo                         2097 non-null object\n",
      "floofer                       2097 non-null object\n",
      "pupper                        2097 non-null object\n",
      "puppo                         2097 non-null object\n",
      "dtypes: float64(4), int64(3), object(10)\n",
      "memory usage: 294.9+ KB\n"
     ]
    }
   ],
   "source": [
    "df_archive_clean.info()"
   ]
  },
  {
   "cell_type": "markdown",
   "metadata": {},
   "source": [
    "Twitter archive: **3 columns related to retweets no longer relevant in the dataset**"
   ]
  },
  {
   "cell_type": "markdown",
   "metadata": {},
   "source": [
    "**Define**"
   ]
  },
  {
   "cell_type": "markdown",
   "metadata": {},
   "source": [
    "Remove the columns \"retweeted_status_id\", \"retweeted_status_user_id\", \"retweeted_status_timestamp\""
   ]
  },
  {
   "cell_type": "markdown",
   "metadata": {},
   "source": [
    "**Code**"
   ]
  },
  {
   "cell_type": "code",
   "execution_count": 48,
   "metadata": {},
   "outputs": [],
   "source": [
    "df_archive_clean = df_archive_clean.drop(['retweeted_status_id', \n",
    "                                          'retweeted_status_user_id', \n",
    "                                          'retweeted_status_timestamp'], axis=1)"
   ]
  },
  {
   "cell_type": "markdown",
   "metadata": {},
   "source": [
    "**Test**"
   ]
  },
  {
   "cell_type": "code",
   "execution_count": 49,
   "metadata": {},
   "outputs": [
    {
     "name": "stdout",
     "output_type": "stream",
     "text": [
      "<class 'pandas.core.frame.DataFrame'>\n",
      "Int64Index: 2097 entries, 0 to 2355\n",
      "Data columns (total 14 columns):\n",
      "tweet_id                 2097 non-null int64\n",
      "in_reply_to_status_id    0 non-null float64\n",
      "in_reply_to_user_id      0 non-null float64\n",
      "timestamp                2097 non-null object\n",
      "source                   2097 non-null object\n",
      "text                     2097 non-null object\n",
      "expanded_urls            2094 non-null object\n",
      "rating_numerator         2097 non-null int64\n",
      "rating_denominator       2097 non-null int64\n",
      "name                     2097 non-null object\n",
      "doggo                    2097 non-null object\n",
      "floofer                  2097 non-null object\n",
      "pupper                   2097 non-null object\n",
      "puppo                    2097 non-null object\n",
      "dtypes: float64(2), int64(3), object(9)\n",
      "memory usage: 245.7+ KB\n"
     ]
    }
   ],
   "source": [
    "df_archive_clean.info()"
   ]
  },
  {
   "cell_type": "markdown",
   "metadata": {},
   "source": [
    "Twitter archive: **2 columns related to replies no longer relevant in the dataset**"
   ]
  },
  {
   "cell_type": "markdown",
   "metadata": {},
   "source": [
    "**Define**"
   ]
  },
  {
   "cell_type": "markdown",
   "metadata": {},
   "source": [
    "Remove the columns \"in_reply_to_status_id\", \"in_reply_to_user_id\""
   ]
  },
  {
   "cell_type": "markdown",
   "metadata": {},
   "source": [
    "**Code**"
   ]
  },
  {
   "cell_type": "code",
   "execution_count": 50,
   "metadata": {},
   "outputs": [],
   "source": [
    "df_archive_clean = df_archive_clean.drop(['in_reply_to_status_id', \n",
    "                                          'in_reply_to_user_id'], axis=1)"
   ]
  },
  {
   "cell_type": "markdown",
   "metadata": {},
   "source": [
    "**Test**"
   ]
  },
  {
   "cell_type": "code",
   "execution_count": 51,
   "metadata": {},
   "outputs": [
    {
     "name": "stdout",
     "output_type": "stream",
     "text": [
      "<class 'pandas.core.frame.DataFrame'>\n",
      "Int64Index: 2097 entries, 0 to 2355\n",
      "Data columns (total 12 columns):\n",
      "tweet_id              2097 non-null int64\n",
      "timestamp             2097 non-null object\n",
      "source                2097 non-null object\n",
      "text                  2097 non-null object\n",
      "expanded_urls         2094 non-null object\n",
      "rating_numerator      2097 non-null int64\n",
      "rating_denominator    2097 non-null int64\n",
      "name                  2097 non-null object\n",
      "doggo                 2097 non-null object\n",
      "floofer               2097 non-null object\n",
      "pupper                2097 non-null object\n",
      "puppo                 2097 non-null object\n",
      "dtypes: int64(3), object(9)\n",
      "memory usage: 213.0+ KB\n"
     ]
    }
   ],
   "source": [
    "df_archive_clean.info()"
   ]
  },
  {
   "cell_type": "markdown",
   "metadata": {},
   "source": [
    "Twitter archive: **Entries in ID columns (\"tweet_id\", \"in_reply_to_status_id\", \"in_reply_to_user_id\", \"retweeted_status_id\", \"retweeted_status_user_id\") are of float format**"
   ]
  },
  {
   "cell_type": "markdown",
   "metadata": {},
   "source": [
    "**Define**"
   ]
  },
  {
   "cell_type": "markdown",
   "metadata": {},
   "source": [
    "These columns have already been removed in the previous steps"
   ]
  },
  {
   "cell_type": "markdown",
   "metadata": {},
   "source": [
    "Twitter archive: **\"timestamp\" column of string format**"
   ]
  },
  {
   "cell_type": "markdown",
   "metadata": {},
   "source": [
    "**Define**"
   ]
  },
  {
   "cell_type": "markdown",
   "metadata": {},
   "source": [
    "Convert \"timestamp\" to datetime data type"
   ]
  },
  {
   "cell_type": "markdown",
   "metadata": {},
   "source": [
    "**Code**"
   ]
  },
  {
   "cell_type": "code",
   "execution_count": 52,
   "metadata": {},
   "outputs": [],
   "source": [
    "df_archive_clean.timestamp = pd.to_datetime(df_archive_clean.timestamp)"
   ]
  },
  {
   "cell_type": "markdown",
   "metadata": {},
   "source": [
    "**Test**"
   ]
  },
  {
   "cell_type": "code",
   "execution_count": 53,
   "metadata": {
    "scrolled": true
   },
   "outputs": [
    {
     "name": "stdout",
     "output_type": "stream",
     "text": [
      "<class 'pandas.core.frame.DataFrame'>\n",
      "Int64Index: 2097 entries, 0 to 2355\n",
      "Data columns (total 12 columns):\n",
      "tweet_id              2097 non-null int64\n",
      "timestamp             2097 non-null datetime64[ns]\n",
      "source                2097 non-null object\n",
      "text                  2097 non-null object\n",
      "expanded_urls         2094 non-null object\n",
      "rating_numerator      2097 non-null int64\n",
      "rating_denominator    2097 non-null int64\n",
      "name                  2097 non-null object\n",
      "doggo                 2097 non-null object\n",
      "floofer               2097 non-null object\n",
      "pupper                2097 non-null object\n",
      "puppo                 2097 non-null object\n",
      "dtypes: datetime64[ns](1), int64(3), object(8)\n",
      "memory usage: 213.0+ KB\n"
     ]
    }
   ],
   "source": [
    "df_archive_clean.info()"
   ]
  },
  {
   "cell_type": "markdown",
   "metadata": {},
   "source": [
    "Twitter archive: **6 Tweets with wrong denominator due to extraction error**"
   ]
  },
  {
   "cell_type": "markdown",
   "metadata": {},
   "source": [
    "**Define**"
   ]
  },
  {
   "cell_type": "markdown",
   "metadata": {},
   "source": [
    "Manually fix the ratings of Tweets in the ID list below:\n",
    "\n",
    "1. 810984652412424192: not a rating, should be removed\n",
    "2. 740373189193256964: chage to 14/10\n",
    "3. 722974582966214656: change to 13/10\n",
    "4. 716439118184652801: change 11/10\n",
    "5. 682962037429899265: change 10/10\n",
    "6. 666287406224695296: change 9/10"
   ]
  },
  {
   "cell_type": "markdown",
   "metadata": {},
   "source": [
    "**Code**"
   ]
  },
  {
   "cell_type": "code",
   "execution_count": 54,
   "metadata": {},
   "outputs": [
    {
     "data": {
      "text/html": [
       "<div>\n",
       "<style scoped>\n",
       "    .dataframe tbody tr th:only-of-type {\n",
       "        vertical-align: middle;\n",
       "    }\n",
       "\n",
       "    .dataframe tbody tr th {\n",
       "        vertical-align: top;\n",
       "    }\n",
       "\n",
       "    .dataframe thead th {\n",
       "        text-align: right;\n",
       "    }\n",
       "</style>\n",
       "<table border=\"1\" class=\"dataframe\">\n",
       "  <thead>\n",
       "    <tr style=\"text-align: right;\">\n",
       "      <th></th>\n",
       "      <th>tweet_id</th>\n",
       "      <th>timestamp</th>\n",
       "      <th>source</th>\n",
       "      <th>text</th>\n",
       "      <th>expanded_urls</th>\n",
       "      <th>rating_numerator</th>\n",
       "      <th>rating_denominator</th>\n",
       "      <th>name</th>\n",
       "      <th>doggo</th>\n",
       "      <th>floofer</th>\n",
       "      <th>pupper</th>\n",
       "      <th>puppo</th>\n",
       "    </tr>\n",
       "  </thead>\n",
       "  <tbody>\n",
       "    <tr>\n",
       "      <th>516</th>\n",
       "      <td>810984652412424192</td>\n",
       "      <td>2016-12-19 23:06:23</td>\n",
       "      <td>&lt;a href=\"http://twitter.com/download/iphone\" rel=\"nofollow\"&gt;Twitter for iPhone&lt;/a&gt;</td>\n",
       "      <td>Meet Sam. She smiles 24/7 &amp;amp; secretly aspires to be a reindeer. \\nKeep Sam smiling by clicking and sharing this link:\\nhttps://t.co/98tB8y7y7t https://t.co/LouL5vdvxx</td>\n",
       "      <td>https://www.gofundme.com/sams-smile,https://twitter.com/dog_rates/status/810984652412424192/photo/1</td>\n",
       "      <td>24</td>\n",
       "      <td>7</td>\n",
       "      <td>Sam</td>\n",
       "      <td>None</td>\n",
       "      <td>None</td>\n",
       "      <td>None</td>\n",
       "      <td>None</td>\n",
       "    </tr>\n",
       "  </tbody>\n",
       "</table>\n",
       "</div>"
      ],
      "text/plain": [
       "               tweet_id           timestamp  \\\n",
       "516  810984652412424192 2016-12-19 23:06:23   \n",
       "\n",
       "                                                                                 source  \\\n",
       "516  <a href=\"http://twitter.com/download/iphone\" rel=\"nofollow\">Twitter for iPhone</a>   \n",
       "\n",
       "                                                                                                                                                                          text  \\\n",
       "516  Meet Sam. She smiles 24/7 &amp; secretly aspires to be a reindeer. \\nKeep Sam smiling by clicking and sharing this link:\\nhttps://t.co/98tB8y7y7t https://t.co/LouL5vdvxx   \n",
       "\n",
       "                                                                                           expanded_urls  \\\n",
       "516  https://www.gofundme.com/sams-smile,https://twitter.com/dog_rates/status/810984652412424192/photo/1   \n",
       "\n",
       "     rating_numerator  rating_denominator name doggo floofer pupper puppo  \n",
       "516  24                7                   Sam  None  None    None   None  "
      ]
     },
     "execution_count": 54,
     "metadata": {},
     "output_type": "execute_result"
    }
   ],
   "source": [
    "row_1 = df_archive_clean.tweet_id == 810984652412424192\n",
    "df_archive_clean[row_1]"
   ]
  },
  {
   "cell_type": "code",
   "execution_count": 55,
   "metadata": {},
   "outputs": [],
   "source": [
    "df_archive_clean = df_archive_clean.drop(516)"
   ]
  },
  {
   "cell_type": "code",
   "execution_count": 56,
   "metadata": {},
   "outputs": [],
   "source": [
    "row_2 = df_archive_clean.tweet_id == 740373189193256964\n",
    "df_archive_clean.loc[row_2, 'rating_denominator'] = 10\n",
    "df_archive_clean.loc[row_2, 'rating_numerator'] = 14"
   ]
  },
  {
   "cell_type": "code",
   "execution_count": 57,
   "metadata": {},
   "outputs": [],
   "source": [
    "row_3 = df_archive_clean.tweet_id == 722974582966214656\n",
    "df_archive_clean.loc[row_3, 'rating_denominator'] = 10\n",
    "df_archive_clean.loc[row_3, 'rating_numerator'] = 13"
   ]
  },
  {
   "cell_type": "code",
   "execution_count": 58,
   "metadata": {},
   "outputs": [],
   "source": [
    "row_4 = df_archive_clean.tweet_id == 716439118184652801\n",
    "df_archive_clean.loc[row_4, 'rating_denominator'] = 10\n",
    "df_archive_clean.loc[row_4, 'rating_numerator'] = 11"
   ]
  },
  {
   "cell_type": "code",
   "execution_count": 59,
   "metadata": {},
   "outputs": [],
   "source": [
    "row_5 = df_archive_clean.tweet_id == 682962037429899265\n",
    "df_archive_clean.loc[row_5, 'rating_denominator'] = 10\n",
    "df_archive_clean.loc[row_5, 'rating_numerator'] = 10"
   ]
  },
  {
   "cell_type": "code",
   "execution_count": 60,
   "metadata": {},
   "outputs": [],
   "source": [
    "row_6 = df_archive_clean.tweet_id == 666287406224695296\n",
    "df_archive_clean.loc[row_6, 'rating_denominator'] = 10\n",
    "df_archive_clean.loc[row_6, 'rating_numerator'] = 9"
   ]
  },
  {
   "cell_type": "markdown",
   "metadata": {},
   "source": [
    "**Test**"
   ]
  },
  {
   "cell_type": "code",
   "execution_count": 61,
   "metadata": {},
   "outputs": [
    {
     "data": {
      "text/html": [
       "<div>\n",
       "<style scoped>\n",
       "    .dataframe tbody tr th:only-of-type {\n",
       "        vertical-align: middle;\n",
       "    }\n",
       "\n",
       "    .dataframe tbody tr th {\n",
       "        vertical-align: top;\n",
       "    }\n",
       "\n",
       "    .dataframe thead th {\n",
       "        text-align: right;\n",
       "    }\n",
       "</style>\n",
       "<table border=\"1\" class=\"dataframe\">\n",
       "  <thead>\n",
       "    <tr style=\"text-align: right;\">\n",
       "      <th></th>\n",
       "      <th>tweet_id</th>\n",
       "      <th>text</th>\n",
       "      <th>rating_numerator</th>\n",
       "      <th>rating_denominator</th>\n",
       "    </tr>\n",
       "  </thead>\n",
       "  <tbody>\n",
       "    <tr>\n",
       "      <th>1068</th>\n",
       "      <td>740373189193256964</td>\n",
       "      <td>After so many requests, this is Bretagne. She was the last surviving 9/11 search dog, and our second ever 14/10. RIP https://t.co/XAVDNDaVgQ</td>\n",
       "      <td>14</td>\n",
       "      <td>10</td>\n",
       "    </tr>\n",
       "    <tr>\n",
       "      <th>1165</th>\n",
       "      <td>722974582966214656</td>\n",
       "      <td>Happy 4/20 from the squad! 13/10 for all https://t.co/eV1diwds8a</td>\n",
       "      <td>13</td>\n",
       "      <td>10</td>\n",
       "    </tr>\n",
       "    <tr>\n",
       "      <th>1202</th>\n",
       "      <td>716439118184652801</td>\n",
       "      <td>This is Bluebert. He just saw that both #FinalFur match ups are split 50/50. Amazed af. 11/10 https://t.co/Kky1DPG4iq</td>\n",
       "      <td>11</td>\n",
       "      <td>10</td>\n",
       "    </tr>\n",
       "    <tr>\n",
       "      <th>1662</th>\n",
       "      <td>682962037429899265</td>\n",
       "      <td>This is Darrel. He just robbed a 7/11 and is in a high speed police chase. Was just spotted by the helicopter 10/10 https://t.co/7EsP8LmSp5</td>\n",
       "      <td>10</td>\n",
       "      <td>10</td>\n",
       "    </tr>\n",
       "    <tr>\n",
       "      <th>2335</th>\n",
       "      <td>666287406224695296</td>\n",
       "      <td>This is an Albanian 3 1/2 legged  Episcopalian. Loves well-polished hardwood flooring. Penis on the collar. 9/10 https://t.co/d9NcXFKwLv</td>\n",
       "      <td>9</td>\n",
       "      <td>10</td>\n",
       "    </tr>\n",
       "  </tbody>\n",
       "</table>\n",
       "</div>"
      ],
      "text/plain": [
       "                tweet_id  \\\n",
       "1068  740373189193256964   \n",
       "1165  722974582966214656   \n",
       "1202  716439118184652801   \n",
       "1662  682962037429899265   \n",
       "2335  666287406224695296   \n",
       "\n",
       "                                                                                                                                              text  \\\n",
       "1068  After so many requests, this is Bretagne. She was the last surviving 9/11 search dog, and our second ever 14/10. RIP https://t.co/XAVDNDaVgQ   \n",
       "1165  Happy 4/20 from the squad! 13/10 for all https://t.co/eV1diwds8a                                                                               \n",
       "1202  This is Bluebert. He just saw that both #FinalFur match ups are split 50/50. Amazed af. 11/10 https://t.co/Kky1DPG4iq                          \n",
       "1662  This is Darrel. He just robbed a 7/11 and is in a high speed police chase. Was just spotted by the helicopter 10/10 https://t.co/7EsP8LmSp5    \n",
       "2335  This is an Albanian 3 1/2 legged  Episcopalian. Loves well-polished hardwood flooring. Penis on the collar. 9/10 https://t.co/d9NcXFKwLv       \n",
       "\n",
       "      rating_numerator  rating_denominator  \n",
       "1068  14                10                  \n",
       "1165  13                10                  \n",
       "1202  11                10                  \n",
       "1662  10                10                  \n",
       "2335  9                 10                  "
      ]
     },
     "execution_count": 61,
     "metadata": {},
     "output_type": "execute_result"
    }
   ],
   "source": [
    "list_deviant_denominator = [810984652412424192, \n",
    "                            740373189193256964, \n",
    "                            722974582966214656, \n",
    "                            716439118184652801, \n",
    "                            682962037429899265, \n",
    "                            666287406224695296]\n",
    "\n",
    "df_archive_clean[df_archive_clean['tweet_id'].isin(list_deviant_denominator)][['tweet_id', 'text', 'rating_numerator', 'rating_denominator']]"
   ]
  },
  {
   "cell_type": "markdown",
   "metadata": {},
   "source": [
    "Twitter archive: **Tweets with rating denominators that are multiples of 10 are entries with mutiple dogs**"
   ]
  },
  {
   "cell_type": "markdown",
   "metadata": {},
   "source": [
    "**Define**"
   ]
  },
  {
   "cell_type": "markdown",
   "metadata": {},
   "source": [
    "Drop the Tweets with rating denominators other than 10"
   ]
  },
  {
   "cell_type": "markdown",
   "metadata": {},
   "source": [
    "**Code**"
   ]
  },
  {
   "cell_type": "code",
   "execution_count": 62,
   "metadata": {},
   "outputs": [],
   "source": [
    "df_archive_clean = df_archive_clean[df_archive_clean.rating_denominator == 10]"
   ]
  },
  {
   "cell_type": "markdown",
   "metadata": {},
   "source": [
    "**Test**"
   ]
  },
  {
   "cell_type": "code",
   "execution_count": 63,
   "metadata": {},
   "outputs": [
    {
     "data": {
      "text/plain": [
       "10    2085\n",
       "Name: rating_denominator, dtype: int64"
      ]
     },
     "execution_count": 63,
     "metadata": {},
     "output_type": "execute_result"
    }
   ],
   "source": [
    "df_archive_clean.rating_denominator.value_counts()"
   ]
  },
  {
   "cell_type": "markdown",
   "metadata": {},
   "source": [
    "Twitter archive: **Some Tweets with deviant numerators**"
   ]
  },
  {
   "cell_type": "markdown",
   "metadata": {},
   "source": [
    "**Define**"
   ]
  },
  {
   "cell_type": "markdown",
   "metadata": {},
   "source": [
    "Drop Tweets with rating numerator larger than 14"
   ]
  },
  {
   "cell_type": "code",
   "execution_count": 64,
   "metadata": {},
   "outputs": [
    {
     "data": {
      "text/plain": [
       "1776    1  \n",
       "420     1  \n",
       "75      1  \n",
       "27      1  \n",
       "26      1  \n",
       "14      39 \n",
       "13      288\n",
       "12      486\n",
       "11      414\n",
       "10      437\n",
       "9       153\n",
       "8       98 \n",
       "7       51 \n",
       "6       32 \n",
       "5       34 \n",
       "4       15 \n",
       "3       19 \n",
       "2       9  \n",
       "1       4  \n",
       "0       1  \n",
       "Name: rating_numerator, dtype: int64"
      ]
     },
     "execution_count": 64,
     "metadata": {},
     "output_type": "execute_result"
    }
   ],
   "source": [
    "df_archive_clean.rating_numerator.value_counts().sort_index(ascending=False)"
   ]
  },
  {
   "cell_type": "markdown",
   "metadata": {},
   "source": [
    "**Code**"
   ]
  },
  {
   "cell_type": "code",
   "execution_count": 65,
   "metadata": {},
   "outputs": [],
   "source": [
    "df_archive_clean = df_archive_clean[df_archive_clean.rating_numerator < 15]"
   ]
  },
  {
   "cell_type": "markdown",
   "metadata": {},
   "source": [
    "**Test**"
   ]
  },
  {
   "cell_type": "code",
   "execution_count": 66,
   "metadata": {},
   "outputs": [
    {
     "data": {
      "text/plain": [
       "14    39 \n",
       "13    288\n",
       "12    486\n",
       "11    414\n",
       "10    437\n",
       "9     153\n",
       "8     98 \n",
       "7     51 \n",
       "6     32 \n",
       "5     34 \n",
       "4     15 \n",
       "3     19 \n",
       "2     9  \n",
       "1     4  \n",
       "0     1  \n",
       "Name: rating_numerator, dtype: int64"
      ]
     },
     "execution_count": 66,
     "metadata": {},
     "output_type": "execute_result"
    }
   ],
   "source": [
    "df_archive_clean.rating_numerator.value_counts().sort_index(ascending=False)"
   ]
  },
  {
   "cell_type": "markdown",
   "metadata": {},
   "source": [
    "Twitter archive: **Three Tweet entries are without images (\"expanded_urls\") and can't be found in image predictions file**"
   ]
  },
  {
   "cell_type": "markdown",
   "metadata": {},
   "source": [
    "**Define**"
   ]
  },
  {
   "cell_type": "markdown",
   "metadata": {},
   "source": [
    "Drop Tweets without \"expanded_urls\""
   ]
  },
  {
   "cell_type": "markdown",
   "metadata": {},
   "source": [
    "**Code**"
   ]
  },
  {
   "cell_type": "code",
   "execution_count": 67,
   "metadata": {},
   "outputs": [],
   "source": [
    "df_archive_clean = df_archive_clean[df_archive_clean.expanded_urls.notnull()]"
   ]
  },
  {
   "cell_type": "markdown",
   "metadata": {},
   "source": [
    "**Test**"
   ]
  },
  {
   "cell_type": "code",
   "execution_count": 68,
   "metadata": {
    "scrolled": true
   },
   "outputs": [
    {
     "name": "stdout",
     "output_type": "stream",
     "text": [
      "<class 'pandas.core.frame.DataFrame'>\n",
      "Int64Index: 2077 entries, 0 to 2355\n",
      "Data columns (total 12 columns):\n",
      "tweet_id              2077 non-null int64\n",
      "timestamp             2077 non-null datetime64[ns]\n",
      "source                2077 non-null object\n",
      "text                  2077 non-null object\n",
      "expanded_urls         2077 non-null object\n",
      "rating_numerator      2077 non-null int64\n",
      "rating_denominator    2077 non-null int64\n",
      "name                  2077 non-null object\n",
      "doggo                 2077 non-null object\n",
      "floofer               2077 non-null object\n",
      "pupper                2077 non-null object\n",
      "puppo                 2077 non-null object\n",
      "dtypes: datetime64[ns](1), int64(3), object(8)\n",
      "memory usage: 210.9+ KB\n"
     ]
    }
   ],
   "source": [
    "df_archive_clean.info()"
   ]
  },
  {
   "cell_type": "markdown",
   "metadata": {},
   "source": [
    "Twitter archive: **Invalid entries (\"a\", \"the\", \"an\") and \"None\" as entry in \"name\" column**"
   ]
  },
  {
   "cell_type": "markdown",
   "metadata": {},
   "source": [
    "**Define**"
   ]
  },
  {
   "cell_type": "markdown",
   "metadata": {},
   "source": [
    "Replace invalid entries with \"None\""
   ]
  },
  {
   "cell_type": "code",
   "execution_count": 69,
   "metadata": {},
   "outputs": [],
   "source": [
    "invalid_names = df_archive_clean.name.str.contains('^[a-z]', regex=True)\n",
    "df_archive_clean.loc[invalid_names, 'name'] = \"None\""
   ]
  },
  {
   "cell_type": "markdown",
   "metadata": {},
   "source": [
    "**Test**"
   ]
  },
  {
   "cell_type": "code",
   "execution_count": 70,
   "metadata": {},
   "outputs": [
    {
     "data": {
      "text/plain": [
       "Abby            2\n",
       "Ace             1\n",
       "Acro            1\n",
       "Adele           1\n",
       "Aiden           1\n",
       "Aja             1\n",
       "Akumi           1\n",
       "Al              1\n",
       "Albert          2\n",
       "Albus           2\n",
       "Aldrick         1\n",
       "Alejandro       1\n",
       "Alexander       1\n",
       "Alexanderson    1\n",
       "Alf             1\n",
       "Alfie           4\n",
       "Alfy            1\n",
       "Alice           2\n",
       "Amber           1\n",
       "Ambrose         1\n",
       "Amy             1\n",
       "Amélie          1\n",
       "Anakin          1\n",
       "Andru           1\n",
       "Andy            1\n",
       "Angel           1\n",
       "Anna            1\n",
       "Anthony         1\n",
       "Antony          1\n",
       "Apollo          1\n",
       "               ..\n",
       "Walker          1\n",
       "Wallace         3\n",
       "Wally           2\n",
       "Walter          3\n",
       "Watson          2\n",
       "Wesley          1\n",
       "Wiggles         1\n",
       "Willem          1\n",
       "William         1\n",
       "Willie          1\n",
       "Willow          1\n",
       "Willy           1\n",
       "Wilson          3\n",
       "Winifred        1\n",
       "Winnie          4\n",
       "Winston         8\n",
       "Wishes          1\n",
       "Wyatt           3\n",
       "Yoda            1\n",
       "Yogi            2\n",
       "Yukon           1\n",
       "Zara            1\n",
       "Zeek            1\n",
       "Zeke            3\n",
       "Zeus            1\n",
       "Ziva            1\n",
       "Zoe             1\n",
       "Zoey            3\n",
       "Zooey           1\n",
       "Zuzu            1\n",
       "Name: name, Length: 929, dtype: int64"
      ]
     },
     "execution_count": 70,
     "metadata": {},
     "output_type": "execute_result"
    }
   ],
   "source": [
    "df_archive_clean.name.value_counts().sort_index()"
   ]
  },
  {
   "cell_type": "markdown",
   "metadata": {},
   "source": [
    "### Tidiness ###"
   ]
  },
  {
   "cell_type": "markdown",
   "metadata": {},
   "source": [
    "Twitter archive: **Stage of dog in four columns**"
   ]
  },
  {
   "cell_type": "markdown",
   "metadata": {},
   "source": [
    "**Define**"
   ]
  },
  {
   "cell_type": "markdown",
   "metadata": {},
   "source": [
    "- Replace the entries in the four stage of dog columns with 1 and 0 where 0 indicates \"None\"\n",
    "- Melt the four columns to a \"dog_stage\" column"
   ]
  },
  {
   "cell_type": "markdown",
   "metadata": {},
   "source": [
    "**Code**"
   ]
  },
  {
   "cell_type": "code",
   "execution_count": 71,
   "metadata": {},
   "outputs": [],
   "source": [
    "replacement = lambda x: 0 if x == \"None\" else 1\n",
    "\n",
    "df_archive_clean.doggo = df_archive_clean.doggo.apply(replacement)\n",
    "df_archive_clean.floofer = df_archive_clean.floofer.apply(replacement)\n",
    "df_archive_clean.pupper = df_archive_clean.pupper.apply(replacement)\n",
    "df_archive_clean.puppo = df_archive_clean.puppo.apply(replacement)"
   ]
  },
  {
   "cell_type": "code",
   "execution_count": 72,
   "metadata": {},
   "outputs": [
    {
     "data": {
      "text/plain": [
       "0    1743\n",
       "1    323 \n",
       "2    11  \n",
       "Name: none, dtype: int64"
      ]
     },
     "execution_count": 72,
     "metadata": {},
     "output_type": "execute_result"
    }
   ],
   "source": [
    "df_archive_clean['none'] = df_archive_clean['doggo'] + df_archive_clean['floofer'] + df_archive_clean['pupper'] + df_archive_clean['puppo']\n",
    "df_archive_clean['none'].value_counts()"
   ]
  },
  {
   "cell_type": "markdown",
   "metadata": {},
   "source": [
    "11 Tweet entries found to be with 2 stages of dog. The stage (of the two) with lower count is kept"
   ]
  },
  {
   "cell_type": "code",
   "execution_count": 73,
   "metadata": {},
   "outputs": [
    {
     "data": {
      "text/html": [
       "<div>\n",
       "<style scoped>\n",
       "    .dataframe tbody tr th:only-of-type {\n",
       "        vertical-align: middle;\n",
       "    }\n",
       "\n",
       "    .dataframe tbody tr th {\n",
       "        vertical-align: top;\n",
       "    }\n",
       "\n",
       "    .dataframe thead th {\n",
       "        text-align: right;\n",
       "    }\n",
       "</style>\n",
       "<table border=\"1\" class=\"dataframe\">\n",
       "  <thead>\n",
       "    <tr style=\"text-align: right;\">\n",
       "      <th></th>\n",
       "      <th>doggo</th>\n",
       "      <th>floofer</th>\n",
       "      <th>pupper</th>\n",
       "      <th>puppo</th>\n",
       "      <th>none</th>\n",
       "    </tr>\n",
       "  </thead>\n",
       "  <tbody>\n",
       "    <tr>\n",
       "      <th>1815</th>\n",
       "      <td>0</td>\n",
       "      <td>0</td>\n",
       "      <td>0</td>\n",
       "      <td>0</td>\n",
       "      <td>0</td>\n",
       "    </tr>\n",
       "    <tr>\n",
       "      <th>320</th>\n",
       "      <td>0</td>\n",
       "      <td>0</td>\n",
       "      <td>0</td>\n",
       "      <td>0</td>\n",
       "      <td>0</td>\n",
       "    </tr>\n",
       "    <tr>\n",
       "      <th>981</th>\n",
       "      <td>0</td>\n",
       "      <td>0</td>\n",
       "      <td>1</td>\n",
       "      <td>0</td>\n",
       "      <td>1</td>\n",
       "    </tr>\n",
       "    <tr>\n",
       "      <th>579</th>\n",
       "      <td>0</td>\n",
       "      <td>0</td>\n",
       "      <td>0</td>\n",
       "      <td>0</td>\n",
       "      <td>0</td>\n",
       "    </tr>\n",
       "    <tr>\n",
       "      <th>388</th>\n",
       "      <td>0</td>\n",
       "      <td>0</td>\n",
       "      <td>0</td>\n",
       "      <td>0</td>\n",
       "      <td>0</td>\n",
       "    </tr>\n",
       "    <tr>\n",
       "      <th>531</th>\n",
       "      <td>1</td>\n",
       "      <td>0</td>\n",
       "      <td>1</td>\n",
       "      <td>0</td>\n",
       "      <td>2</td>\n",
       "    </tr>\n",
       "    <tr>\n",
       "      <th>2086</th>\n",
       "      <td>0</td>\n",
       "      <td>0</td>\n",
       "      <td>0</td>\n",
       "      <td>0</td>\n",
       "      <td>0</td>\n",
       "    </tr>\n",
       "    <tr>\n",
       "      <th>144</th>\n",
       "      <td>0</td>\n",
       "      <td>0</td>\n",
       "      <td>0</td>\n",
       "      <td>0</td>\n",
       "      <td>0</td>\n",
       "    </tr>\n",
       "    <tr>\n",
       "      <th>1197</th>\n",
       "      <td>0</td>\n",
       "      <td>0</td>\n",
       "      <td>1</td>\n",
       "      <td>0</td>\n",
       "      <td>1</td>\n",
       "    </tr>\n",
       "    <tr>\n",
       "      <th>1864</th>\n",
       "      <td>0</td>\n",
       "      <td>0</td>\n",
       "      <td>0</td>\n",
       "      <td>0</td>\n",
       "      <td>0</td>\n",
       "    </tr>\n",
       "  </tbody>\n",
       "</table>\n",
       "</div>"
      ],
      "text/plain": [
       "      doggo  floofer  pupper  puppo  none\n",
       "1815  0      0        0       0      0   \n",
       "320   0      0        0       0      0   \n",
       "981   0      0        1       0      1   \n",
       "579   0      0        0       0      0   \n",
       "388   0      0        0       0      0   \n",
       "531   1      0        1       0      2   \n",
       "2086  0      0        0       0      0   \n",
       "144   0      0        0       0      0   \n",
       "1197  0      0        1       0      1   \n",
       "1864  0      0        0       0      0   "
      ]
     },
     "execution_count": 73,
     "metadata": {},
     "output_type": "execute_result"
    }
   ],
   "source": [
    "df_archive_clean.sample(10)[['doggo', 'floofer', 'pupper', 'puppo', 'none']]"
   ]
  },
  {
   "cell_type": "code",
   "execution_count": 74,
   "metadata": {},
   "outputs": [],
   "source": [
    "stage = lambda x: 1 if x == 0 else 0\n",
    "\n",
    "df_archive_clean['none'] = df_archive_clean['none'].apply(stage)\n",
    "\n",
    "dog_stage = ['floofer', 'puppo', 'doggo', 'pupper', 'none']\n",
    "\n",
    "conditions = [\n",
    "(df_archive_clean[dog_stage[0]] == 1),\n",
    "(df_archive_clean[dog_stage[1]] == 1),\n",
    "(df_archive_clean[dog_stage[2]] == 1),\n",
    "(df_archive_clean[dog_stage[3]] == 1),\n",
    "(df_archive_clean[dog_stage[4]] == 1)]\n",
    "\n",
    "df_archive_clean['dog_stage'] = np.select(conditions, dog_stage, default = dog_stage[4])"
   ]
  },
  {
   "cell_type": "markdown",
   "metadata": {},
   "source": [
    "**Test**"
   ]
  },
  {
   "cell_type": "code",
   "execution_count": 75,
   "metadata": {},
   "outputs": [
    {
     "data": {
      "text/plain": [
       "none       1743\n",
       "pupper     219 \n",
       "doggo      81  \n",
       "puppo      24  \n",
       "floofer    10  \n",
       "Name: dog_stage, dtype: int64"
      ]
     },
     "execution_count": 75,
     "metadata": {},
     "output_type": "execute_result"
    }
   ],
   "source": [
    "df_archive_clean.dog_stage.value_counts()"
   ]
  },
  {
   "cell_type": "markdown",
   "metadata": {},
   "source": [
    "Twitter archive: **Data from Twitter archive and extra data through Twitter API should be in one dataset**"
   ]
  },
  {
   "cell_type": "markdown",
   "metadata": {},
   "source": [
    "**Define**"
   ]
  },
  {
   "cell_type": "markdown",
   "metadata": {},
   "source": [
    "Merge the extra data through Twitter API to Twitter archive"
   ]
  },
  {
   "cell_type": "markdown",
   "metadata": {},
   "source": [
    "**Code**"
   ]
  },
  {
   "cell_type": "code",
   "execution_count": 76,
   "metadata": {},
   "outputs": [
    {
     "name": "stdout",
     "output_type": "stream",
     "text": [
      "<class 'pandas.core.frame.DataFrame'>\n",
      "RangeIndex: 2333 entries, 0 to 2332\n",
      "Data columns (total 3 columns):\n",
      "tweet_id          2333 non-null int64\n",
      "retweet_count     2333 non-null int64\n",
      "favorite_count    2333 non-null int64\n",
      "dtypes: int64(3)\n",
      "memory usage: 54.8 KB\n"
     ]
    }
   ],
   "source": [
    "df_extra_api_clean.info()"
   ]
  },
  {
   "cell_type": "code",
   "execution_count": 77,
   "metadata": {},
   "outputs": [],
   "source": [
    "df_archive_clean = pd.merge(df_archive_clean, df_extra_api_clean, on='tweet_id', how='left')"
   ]
  },
  {
   "cell_type": "markdown",
   "metadata": {},
   "source": [
    "**Test**"
   ]
  },
  {
   "cell_type": "code",
   "execution_count": 78,
   "metadata": {},
   "outputs": [
    {
     "name": "stdout",
     "output_type": "stream",
     "text": [
      "<class 'pandas.core.frame.DataFrame'>\n",
      "Int64Index: 2077 entries, 0 to 2076\n",
      "Data columns (total 16 columns):\n",
      "tweet_id              2077 non-null int64\n",
      "timestamp             2077 non-null datetime64[ns]\n",
      "source                2077 non-null object\n",
      "text                  2077 non-null object\n",
      "expanded_urls         2077 non-null object\n",
      "rating_numerator      2077 non-null int64\n",
      "rating_denominator    2077 non-null int64\n",
      "name                  2077 non-null object\n",
      "doggo                 2077 non-null int64\n",
      "floofer               2077 non-null int64\n",
      "pupper                2077 non-null int64\n",
      "puppo                 2077 non-null int64\n",
      "none                  2077 non-null int64\n",
      "dog_stage             2077 non-null object\n",
      "retweet_count         2070 non-null float64\n",
      "favorite_count        2070 non-null float64\n",
      "dtypes: datetime64[ns](1), float64(2), int64(8), object(5)\n",
      "memory usage: 275.9+ KB\n"
     ]
    }
   ],
   "source": [
    "df_archive_clean.info()"
   ]
  },
  {
   "cell_type": "markdown",
   "metadata": {},
   "source": [
    "**Some follow-up cleaning**:\n",
    "- Remove the rows without 'retweet_count' and 'favorite_count'\n",
    "- Convert the data type to integer"
   ]
  },
  {
   "cell_type": "code",
   "execution_count": 79,
   "metadata": {},
   "outputs": [],
   "source": [
    "df_archive_clean = df_archive_clean[~(df_archive_clean.retweet_count.isnull() | df_archive_clean.favorite_count.isnull())]"
   ]
  },
  {
   "cell_type": "code",
   "execution_count": 80,
   "metadata": {},
   "outputs": [],
   "source": [
    "df_archive_clean[['retweet_count', 'favorite_count']] = df_archive_clean[['retweet_count', 'favorite_count']].astype('int64')"
   ]
  },
  {
   "cell_type": "code",
   "execution_count": 81,
   "metadata": {},
   "outputs": [
    {
     "name": "stdout",
     "output_type": "stream",
     "text": [
      "<class 'pandas.core.frame.DataFrame'>\n",
      "Int64Index: 2070 entries, 0 to 2076\n",
      "Data columns (total 16 columns):\n",
      "tweet_id              2070 non-null int64\n",
      "timestamp             2070 non-null datetime64[ns]\n",
      "source                2070 non-null object\n",
      "text                  2070 non-null object\n",
      "expanded_urls         2070 non-null object\n",
      "rating_numerator      2070 non-null int64\n",
      "rating_denominator    2070 non-null int64\n",
      "name                  2070 non-null object\n",
      "doggo                 2070 non-null int64\n",
      "floofer               2070 non-null int64\n",
      "pupper                2070 non-null int64\n",
      "puppo                 2070 non-null int64\n",
      "none                  2070 non-null int64\n",
      "dog_stage             2070 non-null object\n",
      "retweet_count         2070 non-null int64\n",
      "favorite_count        2070 non-null int64\n",
      "dtypes: datetime64[ns](1), int64(10), object(5)\n",
      "memory usage: 274.9+ KB\n"
     ]
    }
   ],
   "source": [
    "df_archive_clean.info()"
   ]
  },
  {
   "cell_type": "markdown",
   "metadata": {},
   "source": [
    "### 2. Image Predictions File ###"
   ]
  },
  {
   "cell_type": "markdown",
   "metadata": {},
   "source": [
    "### Tidiness ###"
   ]
  },
  {
   "cell_type": "markdown",
   "metadata": {},
   "source": [
    "Image predictions: **There are three image predictions per Tweet and some predictions are not dog**"
   ]
  },
  {
   "cell_type": "markdown",
   "metadata": {},
   "source": [
    "**Define**"
   ]
  },
  {
   "cell_type": "markdown",
   "metadata": {},
   "source": [
    "- Compare the three prediction and create a new column for the prediction with best confidence lelve and another column for the confidence level\n",
    "- Keep the rows of which all three predictions are dog"
   ]
  },
  {
   "cell_type": "code",
   "execution_count": 82,
   "metadata": {},
   "outputs": [
    {
     "data": {
      "text/html": [
       "<div>\n",
       "<style scoped>\n",
       "    .dataframe tbody tr th:only-of-type {\n",
       "        vertical-align: middle;\n",
       "    }\n",
       "\n",
       "    .dataframe tbody tr th {\n",
       "        vertical-align: top;\n",
       "    }\n",
       "\n",
       "    .dataframe thead th {\n",
       "        text-align: right;\n",
       "    }\n",
       "</style>\n",
       "<table border=\"1\" class=\"dataframe\">\n",
       "  <thead>\n",
       "    <tr style=\"text-align: right;\">\n",
       "      <th></th>\n",
       "      <th>tweet_id</th>\n",
       "      <th>jpg_url</th>\n",
       "      <th>img_num</th>\n",
       "      <th>p1</th>\n",
       "      <th>p1_conf</th>\n",
       "      <th>p1_dog</th>\n",
       "      <th>p2</th>\n",
       "      <th>p2_conf</th>\n",
       "      <th>p2_dog</th>\n",
       "      <th>p3</th>\n",
       "      <th>p3_conf</th>\n",
       "      <th>p3_dog</th>\n",
       "    </tr>\n",
       "  </thead>\n",
       "  <tbody>\n",
       "    <tr>\n",
       "      <th>87</th>\n",
       "      <td>667524857454854144</td>\n",
       "      <td>https://pbs.twimg.com/media/CUOGUfJW4AA_eni.jpg</td>\n",
       "      <td>1</td>\n",
       "      <td>hare</td>\n",
       "      <td>0.447893</td>\n",
       "      <td>False</td>\n",
       "      <td>dhole</td>\n",
       "      <td>0.092435</td>\n",
       "      <td>False</td>\n",
       "      <td>Chesapeake_Bay_retriever</td>\n",
       "      <td>0.088122</td>\n",
       "      <td>True</td>\n",
       "    </tr>\n",
       "    <tr>\n",
       "      <th>801</th>\n",
       "      <td>691444869282295808</td>\n",
       "      <td>https://pbs.twimg.com/media/CZiBcJhWQAATXNK.jpg</td>\n",
       "      <td>2</td>\n",
       "      <td>Bernese_mountain_dog</td>\n",
       "      <td>0.767563</td>\n",
       "      <td>True</td>\n",
       "      <td>Border_collie</td>\n",
       "      <td>0.085805</td>\n",
       "      <td>True</td>\n",
       "      <td>EntleBucher</td>\n",
       "      <td>0.043769</td>\n",
       "      <td>True</td>\n",
       "    </tr>\n",
       "    <tr>\n",
       "      <th>848</th>\n",
       "      <td>695446424020918272</td>\n",
       "      <td>https://pbs.twimg.com/media/Caa407jWwAAJPH3.jpg</td>\n",
       "      <td>1</td>\n",
       "      <td>basenji</td>\n",
       "      <td>0.748904</td>\n",
       "      <td>True</td>\n",
       "      <td>Cardigan</td>\n",
       "      <td>0.121102</td>\n",
       "      <td>True</td>\n",
       "      <td>Pembroke</td>\n",
       "      <td>0.111767</td>\n",
       "      <td>True</td>\n",
       "    </tr>\n",
       "  </tbody>\n",
       "</table>\n",
       "</div>"
      ],
      "text/plain": [
       "               tweet_id                                          jpg_url  \\\n",
       "87   667524857454854144  https://pbs.twimg.com/media/CUOGUfJW4AA_eni.jpg   \n",
       "801  691444869282295808  https://pbs.twimg.com/media/CZiBcJhWQAATXNK.jpg   \n",
       "848  695446424020918272  https://pbs.twimg.com/media/Caa407jWwAAJPH3.jpg   \n",
       "\n",
       "     img_num                    p1   p1_conf  p1_dog             p2   p2_conf  \\\n",
       "87   1        hare                  0.447893  False   dhole          0.092435   \n",
       "801  2        Bernese_mountain_dog  0.767563  True    Border_collie  0.085805   \n",
       "848  1        basenji               0.748904  True    Cardigan       0.121102   \n",
       "\n",
       "     p2_dog                        p3   p3_conf  p3_dog  \n",
       "87   False   Chesapeake_Bay_retriever  0.088122  True    \n",
       "801  True    EntleBucher               0.043769  True    \n",
       "848  True    Pembroke                  0.111767  True    "
      ]
     },
     "execution_count": 82,
     "metadata": {},
     "output_type": "execute_result"
    }
   ],
   "source": [
    "df_predictions_clean.sample(3)"
   ]
  },
  {
   "cell_type": "markdown",
   "metadata": {},
   "source": [
    "**Code**"
   ]
  },
  {
   "cell_type": "code",
   "execution_count": 83,
   "metadata": {},
   "outputs": [],
   "source": [
    "conditions = [(df_predictions_clean['p1_dog'] == True),\n",
    "              (df_predictions_clean['p2_dog'] == True),\n",
    "              (df_predictions_clean['p3_dog'] == True)]\n",
    "\n",
    "breed = [df_predictions_clean['p1'],\n",
    "         df_predictions_clean['p2'],\n",
    "         df_predictions_clean['p3']]\n",
    "\n",
    "confidence = [df_predictions_clean['p1_conf'],\n",
    "              df_predictions_clean['p2_conf'],\n",
    "              df_predictions_clean['p3_conf']]"
   ]
  },
  {
   "cell_type": "code",
   "execution_count": 84,
   "metadata": {},
   "outputs": [],
   "source": [
    "df_predictions_clean['breed'] = np.select(conditions, breed, default='none')\n",
    "\n",
    "df_predictions_clean['confidence'] = np.select(conditions, confidence, default = 0)"
   ]
  },
  {
   "cell_type": "markdown",
   "metadata": {},
   "source": [
    "**Test**"
   ]
  },
  {
   "cell_type": "code",
   "execution_count": 85,
   "metadata": {
    "scrolled": true
   },
   "outputs": [
    {
     "data": {
      "text/html": [
       "<div>\n",
       "<style scoped>\n",
       "    .dataframe tbody tr th:only-of-type {\n",
       "        vertical-align: middle;\n",
       "    }\n",
       "\n",
       "    .dataframe tbody tr th {\n",
       "        vertical-align: top;\n",
       "    }\n",
       "\n",
       "    .dataframe thead th {\n",
       "        text-align: right;\n",
       "    }\n",
       "</style>\n",
       "<table border=\"1\" class=\"dataframe\">\n",
       "  <thead>\n",
       "    <tr style=\"text-align: right;\">\n",
       "      <th></th>\n",
       "      <th>tweet_id</th>\n",
       "      <th>jpg_url</th>\n",
       "      <th>img_num</th>\n",
       "      <th>p1</th>\n",
       "      <th>p1_conf</th>\n",
       "      <th>p1_dog</th>\n",
       "      <th>p2</th>\n",
       "      <th>p2_conf</th>\n",
       "      <th>p2_dog</th>\n",
       "      <th>p3</th>\n",
       "      <th>p3_conf</th>\n",
       "      <th>p3_dog</th>\n",
       "      <th>breed</th>\n",
       "      <th>confidence</th>\n",
       "    </tr>\n",
       "  </thead>\n",
       "  <tbody>\n",
       "    <tr>\n",
       "      <th>981</th>\n",
       "      <td>707377100785885184</td>\n",
       "      <td>https://pbs.twimg.com/media/CdEbt0NXIAQH3Aa.jpg</td>\n",
       "      <td>1</td>\n",
       "      <td>golden_retriever</td>\n",
       "      <td>0.637225</td>\n",
       "      <td>True</td>\n",
       "      <td>bloodhound</td>\n",
       "      <td>0.094542</td>\n",
       "      <td>True</td>\n",
       "      <td>cocker_spaniel</td>\n",
       "      <td>0.069797</td>\n",
       "      <td>True</td>\n",
       "      <td>golden_retriever</td>\n",
       "      <td>0.637225</td>\n",
       "    </tr>\n",
       "    <tr>\n",
       "      <th>1714</th>\n",
       "      <td>818627210458333184</td>\n",
       "      <td>https://pbs.twimg.com/media/C1xZGkzWIAA8vh4.jpg</td>\n",
       "      <td>1</td>\n",
       "      <td>Labrador_retriever</td>\n",
       "      <td>0.384188</td>\n",
       "      <td>True</td>\n",
       "      <td>beagle</td>\n",
       "      <td>0.255917</td>\n",
       "      <td>True</td>\n",
       "      <td>grocery_store</td>\n",
       "      <td>0.079799</td>\n",
       "      <td>False</td>\n",
       "      <td>Labrador_retriever</td>\n",
       "      <td>0.384188</td>\n",
       "    </tr>\n",
       "    <tr>\n",
       "      <th>576</th>\n",
       "      <td>678675843183484930</td>\n",
       "      <td>https://pbs.twimg.com/media/CWskEqnWUAAQZW_.jpg</td>\n",
       "      <td>1</td>\n",
       "      <td>maze</td>\n",
       "      <td>0.339850</td>\n",
       "      <td>False</td>\n",
       "      <td>streetcar</td>\n",
       "      <td>0.099688</td>\n",
       "      <td>False</td>\n",
       "      <td>sundial</td>\n",
       "      <td>0.084808</td>\n",
       "      <td>False</td>\n",
       "      <td>none</td>\n",
       "      <td>0.000000</td>\n",
       "    </tr>\n",
       "    <tr>\n",
       "      <th>974</th>\n",
       "      <td>706901761596989440</td>\n",
       "      <td>https://pbs.twimg.com/media/Cc9rZlBWwAA56Ra.jpg</td>\n",
       "      <td>1</td>\n",
       "      <td>wild_boar</td>\n",
       "      <td>0.859499</td>\n",
       "      <td>False</td>\n",
       "      <td>hog</td>\n",
       "      <td>0.128981</td>\n",
       "      <td>False</td>\n",
       "      <td>warthog</td>\n",
       "      <td>0.011318</td>\n",
       "      <td>False</td>\n",
       "      <td>none</td>\n",
       "      <td>0.000000</td>\n",
       "    </tr>\n",
       "    <tr>\n",
       "      <th>1757</th>\n",
       "      <td>825147591692263424</td>\n",
       "      <td>https://pbs.twimg.com/media/C3ODWpfXAAAP1fb.jpg</td>\n",
       "      <td>1</td>\n",
       "      <td>Pekinese</td>\n",
       "      <td>0.354823</td>\n",
       "      <td>True</td>\n",
       "      <td>Pomeranian</td>\n",
       "      <td>0.245390</td>\n",
       "      <td>True</td>\n",
       "      <td>toy_poodle</td>\n",
       "      <td>0.136545</td>\n",
       "      <td>True</td>\n",
       "      <td>Pekinese</td>\n",
       "      <td>0.354823</td>\n",
       "    </tr>\n",
       "  </tbody>\n",
       "</table>\n",
       "</div>"
      ],
      "text/plain": [
       "                tweet_id                                          jpg_url  \\\n",
       "981   707377100785885184  https://pbs.twimg.com/media/CdEbt0NXIAQH3Aa.jpg   \n",
       "1714  818627210458333184  https://pbs.twimg.com/media/C1xZGkzWIAA8vh4.jpg   \n",
       "576   678675843183484930  https://pbs.twimg.com/media/CWskEqnWUAAQZW_.jpg   \n",
       "974   706901761596989440  https://pbs.twimg.com/media/Cc9rZlBWwAA56Ra.jpg   \n",
       "1757  825147591692263424  https://pbs.twimg.com/media/C3ODWpfXAAAP1fb.jpg   \n",
       "\n",
       "      img_num                  p1   p1_conf  p1_dog          p2   p2_conf  \\\n",
       "981   1        golden_retriever    0.637225  True    bloodhound  0.094542   \n",
       "1714  1        Labrador_retriever  0.384188  True    beagle      0.255917   \n",
       "576   1        maze                0.339850  False   streetcar   0.099688   \n",
       "974   1        wild_boar           0.859499  False   hog         0.128981   \n",
       "1757  1        Pekinese            0.354823  True    Pomeranian  0.245390   \n",
       "\n",
       "      p2_dog              p3   p3_conf  p3_dog               breed  confidence  \n",
       "981   True    cocker_spaniel  0.069797  True    golden_retriever    0.637225    \n",
       "1714  True    grocery_store   0.079799  False   Labrador_retriever  0.384188    \n",
       "576   False   sundial         0.084808  False   none                0.000000    \n",
       "974   False   warthog         0.011318  False   none                0.000000    \n",
       "1757  True    toy_poodle      0.136545  True    Pekinese            0.354823    "
      ]
     },
     "execution_count": 85,
     "metadata": {},
     "output_type": "execute_result"
    }
   ],
   "source": [
    "df_predictions_clean.sample(5)"
   ]
  },
  {
   "cell_type": "markdown",
   "metadata": {},
   "source": [
    "**Define**"
   ]
  },
  {
   "cell_type": "markdown",
   "metadata": {},
   "source": [
    "Merge the \"breed\" and \"confidence\" columns, which were created in the previous step, to Twitter arhicve dataset"
   ]
  },
  {
   "cell_type": "markdown",
   "metadata": {},
   "source": [
    "**Code**"
   ]
  },
  {
   "cell_type": "code",
   "execution_count": 86,
   "metadata": {},
   "outputs": [],
   "source": [
    "df_archive_clean = pd.merge(df_archive_clean, df_predictions_clean[['tweet_id', 'breed', 'confidence']], on = 'tweet_id', how = 'inner')"
   ]
  },
  {
   "cell_type": "code",
   "execution_count": 87,
   "metadata": {},
   "outputs": [
    {
     "name": "stdout",
     "output_type": "stream",
     "text": [
      "<class 'pandas.core.frame.DataFrame'>\n",
      "Int64Index: 1947 entries, 0 to 1946\n",
      "Data columns (total 18 columns):\n",
      "tweet_id              1947 non-null int64\n",
      "timestamp             1947 non-null datetime64[ns]\n",
      "source                1947 non-null object\n",
      "text                  1947 non-null object\n",
      "expanded_urls         1947 non-null object\n",
      "rating_numerator      1947 non-null int64\n",
      "rating_denominator    1947 non-null int64\n",
      "name                  1947 non-null object\n",
      "doggo                 1947 non-null int64\n",
      "floofer               1947 non-null int64\n",
      "pupper                1947 non-null int64\n",
      "puppo                 1947 non-null int64\n",
      "none                  1947 non-null int64\n",
      "dog_stage             1947 non-null object\n",
      "retweet_count         1947 non-null int64\n",
      "favorite_count        1947 non-null int64\n",
      "breed                 1947 non-null object\n",
      "confidence            1947 non-null float64\n",
      "dtypes: datetime64[ns](1), float64(1), int64(10), object(6)\n",
      "memory usage: 289.0+ KB\n"
     ]
    }
   ],
   "source": [
    "df_archive_clean.info()"
   ]
  },
  {
   "cell_type": "code",
   "execution_count": 88,
   "metadata": {},
   "outputs": [
    {
     "data": {
      "text/html": [
       "<div>\n",
       "<style scoped>\n",
       "    .dataframe tbody tr th:only-of-type {\n",
       "        vertical-align: middle;\n",
       "    }\n",
       "\n",
       "    .dataframe tbody tr th {\n",
       "        vertical-align: top;\n",
       "    }\n",
       "\n",
       "    .dataframe thead th {\n",
       "        text-align: right;\n",
       "    }\n",
       "</style>\n",
       "<table border=\"1\" class=\"dataframe\">\n",
       "  <thead>\n",
       "    <tr style=\"text-align: right;\">\n",
       "      <th></th>\n",
       "      <th>tweet_id</th>\n",
       "      <th>timestamp</th>\n",
       "      <th>source</th>\n",
       "      <th>text</th>\n",
       "      <th>expanded_urls</th>\n",
       "      <th>rating_numerator</th>\n",
       "      <th>rating_denominator</th>\n",
       "      <th>name</th>\n",
       "      <th>doggo</th>\n",
       "      <th>floofer</th>\n",
       "      <th>pupper</th>\n",
       "      <th>puppo</th>\n",
       "      <th>none</th>\n",
       "      <th>dog_stage</th>\n",
       "      <th>retweet_count</th>\n",
       "      <th>favorite_count</th>\n",
       "      <th>breed</th>\n",
       "      <th>confidence</th>\n",
       "    </tr>\n",
       "  </thead>\n",
       "  <tbody>\n",
       "    <tr>\n",
       "      <th>647</th>\n",
       "      <td>758740312047005698</td>\n",
       "      <td>2016-07-28 19:06:01</td>\n",
       "      <td>&lt;a href=\"http://twitter.com/download/iphone\" rel=\"nofollow\"&gt;Twitter for iPhone&lt;/a&gt;</td>\n",
       "      <td>Meet Boston. He's worried because his tongue won't fit all the way in his mouth. 12/10 it'll be ok deep breaths pup https://t.co/rfWQ4T9iQj</td>\n",
       "      <td>https://twitter.com/dog_rates/status/758740312047005698/photo/1</td>\n",
       "      <td>12</td>\n",
       "      <td>10</td>\n",
       "      <td>Boston</td>\n",
       "      <td>0</td>\n",
       "      <td>0</td>\n",
       "      <td>0</td>\n",
       "      <td>0</td>\n",
       "      <td>1</td>\n",
       "      <td>none</td>\n",
       "      <td>1675</td>\n",
       "      <td>5933</td>\n",
       "      <td>Chesapeake_Bay_retriever</td>\n",
       "      <td>0.848514</td>\n",
       "    </tr>\n",
       "    <tr>\n",
       "      <th>146</th>\n",
       "      <td>855459453768019968</td>\n",
       "      <td>2017-04-21 16:33:22</td>\n",
       "      <td>&lt;a href=\"http://twitter.com/download/iphone\" rel=\"nofollow\"&gt;Twitter for iPhone&lt;/a&gt;</td>\n",
       "      <td>Guys, we only rate dogs. This is quite clearly a bulbasaur. Please only send dogs. Thank you... 12/10 human used pet, it's super effective https://t.co/Xc7uj1C64x</td>\n",
       "      <td>https://twitter.com/dog_rates/status/855459453768019968/photo/1,https://twitter.com/dog_rates/status/855459453768019968/photo/1</td>\n",
       "      <td>12</td>\n",
       "      <td>10</td>\n",
       "      <td>None</td>\n",
       "      <td>0</td>\n",
       "      <td>0</td>\n",
       "      <td>0</td>\n",
       "      <td>0</td>\n",
       "      <td>1</td>\n",
       "      <td>none</td>\n",
       "      <td>8176</td>\n",
       "      <td>29840</td>\n",
       "      <td>Blenheim_spaniel</td>\n",
       "      <td>0.389513</td>\n",
       "    </tr>\n",
       "    <tr>\n",
       "      <th>1638</th>\n",
       "      <td>671547767500775424</td>\n",
       "      <td>2015-12-01 04:33:59</td>\n",
       "      <td>&lt;a href=\"http://twitter.com/download/iphone\" rel=\"nofollow\"&gt;Twitter for iPhone&lt;/a&gt;</td>\n",
       "      <td>This is Marley. She chews shoes then feels extremely guilty about it and refuses to look at them. 10/10 https://t.co/f99MV0htAV</td>\n",
       "      <td>https://twitter.com/dog_rates/status/671547767500775424/photo/1,https://twitter.com/dog_rates/status/671547767500775424/photo/1</td>\n",
       "      <td>10</td>\n",
       "      <td>10</td>\n",
       "      <td>Marley</td>\n",
       "      <td>0</td>\n",
       "      <td>0</td>\n",
       "      <td>0</td>\n",
       "      <td>0</td>\n",
       "      <td>1</td>\n",
       "      <td>none</td>\n",
       "      <td>592</td>\n",
       "      <td>1343</td>\n",
       "      <td>none</td>\n",
       "      <td>0.000000</td>\n",
       "    </tr>\n",
       "  </tbody>\n",
       "</table>\n",
       "</div>"
      ],
      "text/plain": [
       "                tweet_id           timestamp  \\\n",
       "647   758740312047005698 2016-07-28 19:06:01   \n",
       "146   855459453768019968 2017-04-21 16:33:22   \n",
       "1638  671547767500775424 2015-12-01 04:33:59   \n",
       "\n",
       "                                                                                  source  \\\n",
       "647   <a href=\"http://twitter.com/download/iphone\" rel=\"nofollow\">Twitter for iPhone</a>   \n",
       "146   <a href=\"http://twitter.com/download/iphone\" rel=\"nofollow\">Twitter for iPhone</a>   \n",
       "1638  <a href=\"http://twitter.com/download/iphone\" rel=\"nofollow\">Twitter for iPhone</a>   \n",
       "\n",
       "                                                                                                                                                                    text  \\\n",
       "647   Meet Boston. He's worried because his tongue won't fit all the way in his mouth. 12/10 it'll be ok deep breaths pup https://t.co/rfWQ4T9iQj                          \n",
       "146   Guys, we only rate dogs. This is quite clearly a bulbasaur. Please only send dogs. Thank you... 12/10 human used pet, it's super effective https://t.co/Xc7uj1C64x   \n",
       "1638  This is Marley. She chews shoes then feels extremely guilty about it and refuses to look at them. 10/10 https://t.co/f99MV0htAV                                      \n",
       "\n",
       "                                                                                                                        expanded_urls  \\\n",
       "647   https://twitter.com/dog_rates/status/758740312047005698/photo/1                                                                   \n",
       "146   https://twitter.com/dog_rates/status/855459453768019968/photo/1,https://twitter.com/dog_rates/status/855459453768019968/photo/1   \n",
       "1638  https://twitter.com/dog_rates/status/671547767500775424/photo/1,https://twitter.com/dog_rates/status/671547767500775424/photo/1   \n",
       "\n",
       "      rating_numerator  rating_denominator    name  doggo  floofer  pupper  \\\n",
       "647   12                10                  Boston  0      0        0        \n",
       "146   12                10                  None    0      0        0        \n",
       "1638  10                10                  Marley  0      0        0        \n",
       "\n",
       "      puppo  none dog_stage  retweet_count  favorite_count  \\\n",
       "647   0      1     none      1675           5933             \n",
       "146   0      1     none      8176           29840            \n",
       "1638  0      1     none      592            1343             \n",
       "\n",
       "                         breed  confidence  \n",
       "647   Chesapeake_Bay_retriever  0.848514    \n",
       "146   Blenheim_spaniel          0.389513    \n",
       "1638  none                      0.000000    "
      ]
     },
     "execution_count": 88,
     "metadata": {},
     "output_type": "execute_result"
    }
   ],
   "source": [
    "df_archive_clean.sample(3)"
   ]
  },
  {
   "cell_type": "markdown",
   "metadata": {},
   "source": [
    "**Define**"
   ]
  },
  {
   "cell_type": "markdown",
   "metadata": {},
   "source": [
    "Final cleanup - remove the irrelevant columns in the Twitter archive dataset:\n",
    "- \"rating_denominator\" - all with \"10\" now\n",
    "- \"doggo\" - a new column \"dog_stage\" is created\n",
    "- \"floofer\" - a new column \"dog_stage\" is created\n",
    "- \"pupper\" - a new column \"dog_stage\" is created\n",
    "- \"puppo\" - a new column \"dog_stage\" is created\n",
    "- \"none\" - a new column \"dog_stage\" is created"
   ]
  },
  {
   "cell_type": "markdown",
   "metadata": {},
   "source": [
    "**Code**"
   ]
  },
  {
   "cell_type": "code",
   "execution_count": 89,
   "metadata": {},
   "outputs": [],
   "source": [
    "df_archive_clean = df_archive_clean.drop(['rating_denominator', 'doggo', 'floofer', 'pupper', 'puppo', 'none'], axis=1)"
   ]
  },
  {
   "cell_type": "markdown",
   "metadata": {},
   "source": [
    "**Test**"
   ]
  },
  {
   "cell_type": "code",
   "execution_count": 90,
   "metadata": {
    "scrolled": true
   },
   "outputs": [
    {
     "name": "stdout",
     "output_type": "stream",
     "text": [
      "<class 'pandas.core.frame.DataFrame'>\n",
      "Int64Index: 1947 entries, 0 to 1946\n",
      "Data columns (total 12 columns):\n",
      "tweet_id            1947 non-null int64\n",
      "timestamp           1947 non-null datetime64[ns]\n",
      "source              1947 non-null object\n",
      "text                1947 non-null object\n",
      "expanded_urls       1947 non-null object\n",
      "rating_numerator    1947 non-null int64\n",
      "name                1947 non-null object\n",
      "dog_stage           1947 non-null object\n",
      "retweet_count       1947 non-null int64\n",
      "favorite_count      1947 non-null int64\n",
      "breed               1947 non-null object\n",
      "confidence          1947 non-null float64\n",
      "dtypes: datetime64[ns](1), float64(1), int64(4), object(6)\n",
      "memory usage: 197.7+ KB\n"
     ]
    }
   ],
   "source": [
    "df_archive_clean.info()"
   ]
  },
  {
   "cell_type": "markdown",
   "metadata": {},
   "source": [
    "## Store Data ##"
   ]
  },
  {
   "cell_type": "markdown",
   "metadata": {},
   "source": [
    "Store the clean DataFrame(s) in a CSV file with the main one named \"twitter_archive_master.csv\""
   ]
  },
  {
   "cell_type": "code",
   "execution_count": 91,
   "metadata": {},
   "outputs": [],
   "source": [
    "df_archive_clean.to_csv('twitter_archive_master.csv', index = False)"
   ]
  },
  {
   "cell_type": "markdown",
   "metadata": {},
   "source": [
    "## Analyze Data ##"
   ]
  },
  {
   "cell_type": "code",
   "execution_count": 92,
   "metadata": {},
   "outputs": [],
   "source": [
    "df_analysis = df_archive_clean.copy()"
   ]
  },
  {
   "cell_type": "markdown",
   "metadata": {},
   "source": [
    "### Descriptive Statistics ###"
   ]
  },
  {
   "cell_type": "code",
   "execution_count": 93,
   "metadata": {},
   "outputs": [
    {
     "data": {
      "text/html": [
       "<div>\n",
       "<style scoped>\n",
       "    .dataframe tbody tr th:only-of-type {\n",
       "        vertical-align: middle;\n",
       "    }\n",
       "\n",
       "    .dataframe tbody tr th {\n",
       "        vertical-align: top;\n",
       "    }\n",
       "\n",
       "    .dataframe thead th {\n",
       "        text-align: right;\n",
       "    }\n",
       "</style>\n",
       "<table border=\"1\" class=\"dataframe\">\n",
       "  <thead>\n",
       "    <tr style=\"text-align: right;\">\n",
       "      <th></th>\n",
       "      <th>tweet_id</th>\n",
       "      <th>rating_numerator</th>\n",
       "      <th>retweet_count</th>\n",
       "      <th>favorite_count</th>\n",
       "      <th>confidence</th>\n",
       "    </tr>\n",
       "  </thead>\n",
       "  <tbody>\n",
       "    <tr>\n",
       "      <th>count</th>\n",
       "      <td>1.947000e+03</td>\n",
       "      <td>1947.000000</td>\n",
       "      <td>1947.000000</td>\n",
       "      <td>1947.000000</td>\n",
       "      <td>1947.000000</td>\n",
       "    </tr>\n",
       "    <tr>\n",
       "      <th>mean</th>\n",
       "      <td>7.358917e+17</td>\n",
       "      <td>10.534155</td>\n",
       "      <td>2561.859271</td>\n",
       "      <td>8578.830508</td>\n",
       "      <td>0.464471</td>\n",
       "    </tr>\n",
       "    <tr>\n",
       "      <th>std</th>\n",
       "      <td>6.758704e+16</td>\n",
       "      <td>2.174844</td>\n",
       "      <td>4588.232640</td>\n",
       "      <td>12617.682786</td>\n",
       "      <td>0.339288</td>\n",
       "    </tr>\n",
       "    <tr>\n",
       "      <th>min</th>\n",
       "      <td>6.660209e+17</td>\n",
       "      <td>0.000000</td>\n",
       "      <td>11.000000</td>\n",
       "      <td>75.000000</td>\n",
       "      <td>0.000000</td>\n",
       "    </tr>\n",
       "    <tr>\n",
       "      <th>25%</th>\n",
       "      <td>6.757900e+17</td>\n",
       "      <td>10.000000</td>\n",
       "      <td>565.500000</td>\n",
       "      <td>1823.000000</td>\n",
       "      <td>0.140284</td>\n",
       "    </tr>\n",
       "    <tr>\n",
       "      <th>50%</th>\n",
       "      <td>7.084797e+17</td>\n",
       "      <td>11.000000</td>\n",
       "      <td>1228.000000</td>\n",
       "      <td>3865.000000</td>\n",
       "      <td>0.458746</td>\n",
       "    </tr>\n",
       "    <tr>\n",
       "      <th>75%</th>\n",
       "      <td>7.880951e+17</td>\n",
       "      <td>12.000000</td>\n",
       "      <td>2925.000000</td>\n",
       "      <td>10713.500000</td>\n",
       "      <td>0.775361</td>\n",
       "    </tr>\n",
       "    <tr>\n",
       "      <th>max</th>\n",
       "      <td>8.924206e+17</td>\n",
       "      <td>14.000000</td>\n",
       "      <td>80630.000000</td>\n",
       "      <td>161051.000000</td>\n",
       "      <td>0.999956</td>\n",
       "    </tr>\n",
       "  </tbody>\n",
       "</table>\n",
       "</div>"
      ],
      "text/plain": [
       "           tweet_id  rating_numerator  retweet_count  favorite_count  \\\n",
       "count  1.947000e+03  1947.000000       1947.000000    1947.000000      \n",
       "mean   7.358917e+17  10.534155         2561.859271    8578.830508      \n",
       "std    6.758704e+16  2.174844          4588.232640    12617.682786     \n",
       "min    6.660209e+17  0.000000          11.000000      75.000000        \n",
       "25%    6.757900e+17  10.000000         565.500000     1823.000000      \n",
       "50%    7.084797e+17  11.000000         1228.000000    3865.000000      \n",
       "75%    7.880951e+17  12.000000         2925.000000    10713.500000     \n",
       "max    8.924206e+17  14.000000         80630.000000   161051.000000    \n",
       "\n",
       "        confidence  \n",
       "count  1947.000000  \n",
       "mean   0.464471     \n",
       "std    0.339288     \n",
       "min    0.000000     \n",
       "25%    0.140284     \n",
       "50%    0.458746     \n",
       "75%    0.775361     \n",
       "max    0.999956     "
      ]
     },
     "execution_count": 93,
     "metadata": {},
     "output_type": "execute_result"
    }
   ],
   "source": [
    "df_analysis.describe()"
   ]
  },
  {
   "cell_type": "code",
   "execution_count": 94,
   "metadata": {},
   "outputs": [
    {
     "data": {
      "text/html": [
       "<div>\n",
       "<style scoped>\n",
       "    .dataframe tbody tr th:only-of-type {\n",
       "        vertical-align: middle;\n",
       "    }\n",
       "\n",
       "    .dataframe tbody tr th {\n",
       "        vertical-align: top;\n",
       "    }\n",
       "\n",
       "    .dataframe thead th {\n",
       "        text-align: right;\n",
       "    }\n",
       "</style>\n",
       "<table border=\"1\" class=\"dataframe\">\n",
       "  <thead>\n",
       "    <tr style=\"text-align: right;\">\n",
       "      <th></th>\n",
       "      <th>tweet_id</th>\n",
       "      <th>timestamp</th>\n",
       "      <th>source</th>\n",
       "      <th>text</th>\n",
       "      <th>expanded_urls</th>\n",
       "      <th>rating_numerator</th>\n",
       "      <th>name</th>\n",
       "      <th>dog_stage</th>\n",
       "      <th>retweet_count</th>\n",
       "      <th>favorite_count</th>\n",
       "      <th>breed</th>\n",
       "      <th>confidence</th>\n",
       "    </tr>\n",
       "  </thead>\n",
       "  <tbody>\n",
       "    <tr>\n",
       "      <th>1518</th>\n",
       "      <td>674318007229923329</td>\n",
       "      <td>2015-12-08 20:01:55</td>\n",
       "      <td>&lt;a href=\"http://twitter.com/download/iphone\" rel=\"nofollow\"&gt;Twitter for iPhone&lt;/a&gt;</td>\n",
       "      <td>This is Lennon. He's in quite the predicament. 8/10 hang in there pupper https://t.co/7mf8XXPAZv</td>\n",
       "      <td>https://twitter.com/dog_rates/status/674318007229923329/photo/1</td>\n",
       "      <td>8</td>\n",
       "      <td>Lennon</td>\n",
       "      <td>pupper</td>\n",
       "      <td>518</td>\n",
       "      <td>1424</td>\n",
       "      <td>none</td>\n",
       "      <td>0.000000</td>\n",
       "    </tr>\n",
       "    <tr>\n",
       "      <th>938</th>\n",
       "      <td>711968124745228288</td>\n",
       "      <td>2016-03-21 17:30:03</td>\n",
       "      <td>&lt;a href=\"http://twitter.com/download/iphone\" rel=\"nofollow\"&gt;Twitter for iPhone&lt;/a&gt;</td>\n",
       "      <td>Meet Winston. He's trapped in a cup of coffee. Poor pupper. 10/10 someone free him https://t.co/2e6cUtKUuc</td>\n",
       "      <td>https://twitter.com/dog_rates/status/711968124745228288/photo/1</td>\n",
       "      <td>10</td>\n",
       "      <td>Winston</td>\n",
       "      <td>pupper</td>\n",
       "      <td>2372</td>\n",
       "      <td>8258</td>\n",
       "      <td>none</td>\n",
       "      <td>0.000000</td>\n",
       "    </tr>\n",
       "    <tr>\n",
       "      <th>118</th>\n",
       "      <td>863062471531167744</td>\n",
       "      <td>2017-05-12 16:05:02</td>\n",
       "      <td>&lt;a href=\"http://twitter.com/download/iphone\" rel=\"nofollow\"&gt;Twitter for iPhone&lt;/a&gt;</td>\n",
       "      <td>Say hello to Quinn. She's quite the goofball. Not even a year old. Confirmed 13/10 but she really needs your help \\n\\nhttps://t.co/MOBkQnyHib https://t.co/EsOB4rLEKt</td>\n",
       "      <td>https://www.gofundme.com/helpquinny,https://twitter.com/dog_rates/status/863062471531167744/photo/1,https://twitter.com/dog_rates/status/863062471531167744/photo/1,https://twitter.com/dog_rates/status/863062471531167744/photo/1,https://twitter.com/dog_rates/status/863062471531167744/photo/1</td>\n",
       "      <td>13</td>\n",
       "      <td>Quinn</td>\n",
       "      <td>none</td>\n",
       "      <td>2368</td>\n",
       "      <td>8343</td>\n",
       "      <td>French_bulldog</td>\n",
       "      <td>0.935804</td>\n",
       "    </tr>\n",
       "  </tbody>\n",
       "</table>\n",
       "</div>"
      ],
      "text/plain": [
       "                tweet_id           timestamp  \\\n",
       "1518  674318007229923329 2015-12-08 20:01:55   \n",
       "938   711968124745228288 2016-03-21 17:30:03   \n",
       "118   863062471531167744 2017-05-12 16:05:02   \n",
       "\n",
       "                                                                                  source  \\\n",
       "1518  <a href=\"http://twitter.com/download/iphone\" rel=\"nofollow\">Twitter for iPhone</a>   \n",
       "938   <a href=\"http://twitter.com/download/iphone\" rel=\"nofollow\">Twitter for iPhone</a>   \n",
       "118   <a href=\"http://twitter.com/download/iphone\" rel=\"nofollow\">Twitter for iPhone</a>   \n",
       "\n",
       "                                                                                                                                                                       text  \\\n",
       "1518  This is Lennon. He's in quite the predicament. 8/10 hang in there pupper https://t.co/7mf8XXPAZv                                                                        \n",
       "938   Meet Winston. He's trapped in a cup of coffee. Poor pupper. 10/10 someone free him https://t.co/2e6cUtKUuc                                                              \n",
       "118   Say hello to Quinn. She's quite the goofball. Not even a year old. Confirmed 13/10 but she really needs your help \\n\\nhttps://t.co/MOBkQnyHib https://t.co/EsOB4rLEKt   \n",
       "\n",
       "                                                                                                                                                                                                                                                                                            expanded_urls  \\\n",
       "1518  https://twitter.com/dog_rates/status/674318007229923329/photo/1                                                                                                                                                                                                                                       \n",
       "938   https://twitter.com/dog_rates/status/711968124745228288/photo/1                                                                                                                                                                                                                                       \n",
       "118   https://www.gofundme.com/helpquinny,https://twitter.com/dog_rates/status/863062471531167744/photo/1,https://twitter.com/dog_rates/status/863062471531167744/photo/1,https://twitter.com/dog_rates/status/863062471531167744/photo/1,https://twitter.com/dog_rates/status/863062471531167744/photo/1   \n",
       "\n",
       "      rating_numerator     name dog_stage  retweet_count  favorite_count  \\\n",
       "1518  8                 Lennon   pupper    518            1424             \n",
       "938   10                Winston  pupper    2372           8258             \n",
       "118   13                Quinn    none      2368           8343             \n",
       "\n",
       "               breed  confidence  \n",
       "1518  none            0.000000    \n",
       "938   none            0.000000    \n",
       "118   French_bulldog  0.935804    "
      ]
     },
     "execution_count": 94,
     "metadata": {},
     "output_type": "execute_result"
    }
   ],
   "source": [
    "df_analysis.sample(3)"
   ]
  },
  {
   "cell_type": "markdown",
   "metadata": {},
   "source": [
    "**Distribution of Ratings**"
   ]
  },
  {
   "cell_type": "code",
   "execution_count": 95,
   "metadata": {},
   "outputs": [
    {
     "data": {
      "image/png": "[encoded data removed]",
      "text/plain": [
       "<matplotlib.figure.Figure at 0x7fb664a1aa20>"
      ]
     },
     "metadata": {
      "needs_background": "light"
     },
     "output_type": "display_data"
    }
   ],
   "source": [
    "df_analysis['rating_numerator'].plot(kind='hist', bins=15)\n",
    "\n",
    "plt.ylabel('Number of Tweets', fontsize = 14) \n",
    "plt.xlabel('Rating Numerator', fontsize = 14) \n",
    "plt.title('Distribution of Ratings', fontsize = 16) \n",
    "plt.show();\n"
   ]
  },
  {
   "cell_type": "markdown",
   "metadata": {},
   "source": [
    "- The distribution is skewed to the left - most doggies get very high ratings!"
   ]
  },
  {
   "cell_type": "code",
   "execution_count": 96,
   "metadata": {},
   "outputs": [
    {
     "data": {
      "text/plain": [
       "0.7899332306111967"
      ]
     },
     "execution_count": 96,
     "metadata": {},
     "output_type": "execute_result"
    }
   ],
   "source": [
    "df_analysis.query('rating_numerator >= 10').shape[0] / df_analysis.shape[0]"
   ]
  },
  {
   "cell_type": "markdown",
   "metadata": {},
   "source": [
    "- Exactly 78.99% of the doggies get a raing of 10 or higher!"
   ]
  },
  {
   "cell_type": "markdown",
   "metadata": {},
   "source": [
    "**Most Favorite and Retweeted Tweets**"
   ]
  },
  {
   "cell_type": "code",
   "execution_count": 97,
   "metadata": {
    "scrolled": false
   },
   "outputs": [
    {
     "data": {
      "text/html": [
       "<div>\n",
       "<style scoped>\n",
       "    .dataframe tbody tr th:only-of-type {\n",
       "        vertical-align: middle;\n",
       "    }\n",
       "\n",
       "    .dataframe tbody tr th {\n",
       "        vertical-align: top;\n",
       "    }\n",
       "\n",
       "    .dataframe thead th {\n",
       "        text-align: right;\n",
       "    }\n",
       "</style>\n",
       "<table border=\"1\" class=\"dataframe\">\n",
       "  <thead>\n",
       "    <tr style=\"text-align: right;\">\n",
       "      <th></th>\n",
       "      <th>tweet_id</th>\n",
       "      <th>timestamp</th>\n",
       "      <th>text</th>\n",
       "      <th>rating_numerator</th>\n",
       "      <th>dog_stage</th>\n",
       "      <th>retweet_count</th>\n",
       "      <th>favorite_count</th>\n",
       "      <th>breed</th>\n",
       "    </tr>\n",
       "  </thead>\n",
       "  <tbody>\n",
       "    <tr>\n",
       "      <th>757</th>\n",
       "      <td>744234799360020481</td>\n",
       "      <td>2016-06-18 18:26:18</td>\n",
       "      <td>Here's a doggo realizing you can stand in a pool. 13/10 enlightened af (vid by Tina Conrad) https://t.co/7wE9LTEXC4</td>\n",
       "      <td>13</td>\n",
       "      <td>doggo</td>\n",
       "      <td>80630</td>\n",
       "      <td>161051</td>\n",
       "      <td>Labrador_retriever</td>\n",
       "    </tr>\n",
       "    <tr>\n",
       "      <th>792</th>\n",
       "      <td>739238157791694849</td>\n",
       "      <td>2016-06-04 23:31:25</td>\n",
       "      <td>Here's a doggo blowing bubbles. It's downright legendary. 13/10 would watch on repeat forever (vid by Kent Duryee) https://t.co/YcXgHfp1EC</td>\n",
       "      <td>13</td>\n",
       "      <td>doggo</td>\n",
       "      <td>59797</td>\n",
       "      <td>118960</td>\n",
       "      <td>Eskimo_dog</td>\n",
       "    </tr>\n",
       "    <tr>\n",
       "      <th>391</th>\n",
       "      <td>807106840509214720</td>\n",
       "      <td>2016-12-09 06:17:20</td>\n",
       "      <td>This is Stephan. He just wants to help. 13/10 such a good boy https://t.co/DkBYaCAg2d</td>\n",
       "      <td>13</td>\n",
       "      <td>none</td>\n",
       "      <td>58757</td>\n",
       "      <td>124436</td>\n",
       "      <td>Chihuahua</td>\n",
       "    </tr>\n",
       "    <tr>\n",
       "      <th>302</th>\n",
       "      <td>822872901745569793</td>\n",
       "      <td>2017-01-21 18:26:02</td>\n",
       "      <td>Here's a super supportive puppo participating in the Toronto  #WomensMarch today. 13/10 https://t.co/nTz3FtorBc</td>\n",
       "      <td>13</td>\n",
       "      <td>puppo</td>\n",
       "      <td>45513</td>\n",
       "      <td>137257</td>\n",
       "      <td>Lakeland_terrier</td>\n",
       "    </tr>\n",
       "    <tr>\n",
       "      <th>58</th>\n",
       "      <td>879415818425184262</td>\n",
       "      <td>2017-06-26 19:07:24</td>\n",
       "      <td>This is Duddles. He did an attempt. 13/10 someone help him (vid by Georgia Felici) https://t.co/UDT7ZkcTgY</td>\n",
       "      <td>13</td>\n",
       "      <td>none</td>\n",
       "      <td>41968</td>\n",
       "      <td>102110</td>\n",
       "      <td>English_springer</td>\n",
       "    </tr>\n",
       "    <tr>\n",
       "      <th>325</th>\n",
       "      <td>819004803107983360</td>\n",
       "      <td>2017-01-11 02:15:36</td>\n",
       "      <td>This is Bo. He was a very good First Doggo. 14/10 would be an absolute honor to pet https://t.co/AdPKrI8BZ1</td>\n",
       "      <td>14</td>\n",
       "      <td>doggo</td>\n",
       "      <td>38687</td>\n",
       "      <td>90535</td>\n",
       "      <td>standard_poodle</td>\n",
       "    </tr>\n",
       "    <tr>\n",
       "      <th>393</th>\n",
       "      <td>806629075125202948</td>\n",
       "      <td>2016-12-07 22:38:52</td>\n",
       "      <td>\"Good afternoon class today we're going to learn what makes a good boy so good\" 13/10 https://t.co/f1h2Fsalv9</td>\n",
       "      <td>13</td>\n",
       "      <td>none</td>\n",
       "      <td>36768</td>\n",
       "      <td>78625</td>\n",
       "      <td>cocker_spaniel</td>\n",
       "    </tr>\n",
       "    <tr>\n",
       "      <th>107</th>\n",
       "      <td>866450705531457537</td>\n",
       "      <td>2017-05-22 00:28:40</td>\n",
       "      <td>This is Jamesy. He gives a kiss to every other pupper he sees on his walk. 13/10 such passion, much tender https://t.co/wk7TfysWHr</td>\n",
       "      <td>13</td>\n",
       "      <td>pupper</td>\n",
       "      <td>34114</td>\n",
       "      <td>119656</td>\n",
       "      <td>French_bulldog</td>\n",
       "    </tr>\n",
       "    <tr>\n",
       "      <th>1388</th>\n",
       "      <td>678399652199309312</td>\n",
       "      <td>2015-12-20 02:20:55</td>\n",
       "      <td>This made my day. 12/10 please enjoy https://t.co/VRTbo3aAcm</td>\n",
       "      <td>12</td>\n",
       "      <td>none</td>\n",
       "      <td>32527</td>\n",
       "      <td>80730</td>\n",
       "      <td>Bedlington_terrier</td>\n",
       "    </tr>\n",
       "    <tr>\n",
       "      <th>1445</th>\n",
       "      <td>676219687039057920</td>\n",
       "      <td>2015-12-14 01:58:31</td>\n",
       "      <td>This is Kenneth. He's stuck in a bubble. 10/10 hang in there Kenneth https://t.co/uQt37xlYMJ</td>\n",
       "      <td>10</td>\n",
       "      <td>none</td>\n",
       "      <td>31432</td>\n",
       "      <td>76564</td>\n",
       "      <td>whippet</td>\n",
       "    </tr>\n",
       "  </tbody>\n",
       "</table>\n",
       "</div>"
      ],
      "text/plain": [
       "                tweet_id           timestamp  \\\n",
       "757   744234799360020481 2016-06-18 18:26:18   \n",
       "792   739238157791694849 2016-06-04 23:31:25   \n",
       "391   807106840509214720 2016-12-09 06:17:20   \n",
       "302   822872901745569793 2017-01-21 18:26:02   \n",
       "58    879415818425184262 2017-06-26 19:07:24   \n",
       "325   819004803107983360 2017-01-11 02:15:36   \n",
       "393   806629075125202948 2016-12-07 22:38:52   \n",
       "107   866450705531457537 2017-05-22 00:28:40   \n",
       "1388  678399652199309312 2015-12-20 02:20:55   \n",
       "1445  676219687039057920 2015-12-14 01:58:31   \n",
       "\n",
       "                                                                                                                                            text  \\\n",
       "757   Here's a doggo realizing you can stand in a pool. 13/10 enlightened af (vid by Tina Conrad) https://t.co/7wE9LTEXC4                          \n",
       "792   Here's a doggo blowing bubbles. It's downright legendary. 13/10 would watch on repeat forever (vid by Kent Duryee) https://t.co/YcXgHfp1EC   \n",
       "391   This is Stephan. He just wants to help. 13/10 such a good boy https://t.co/DkBYaCAg2d                                                        \n",
       "302   Here's a super supportive puppo participating in the Toronto  #WomensMarch today. 13/10 https://t.co/nTz3FtorBc                              \n",
       "58    This is Duddles. He did an attempt. 13/10 someone help him (vid by Georgia Felici) https://t.co/UDT7ZkcTgY                                   \n",
       "325   This is Bo. He was a very good First Doggo. 14/10 would be an absolute honor to pet https://t.co/AdPKrI8BZ1                                  \n",
       "393   \"Good afternoon class today we're going to learn what makes a good boy so good\" 13/10 https://t.co/f1h2Fsalv9                                \n",
       "107   This is Jamesy. He gives a kiss to every other pupper he sees on his walk. 13/10 such passion, much tender https://t.co/wk7TfysWHr           \n",
       "1388  This made my day. 12/10 please enjoy https://t.co/VRTbo3aAcm                                                                                 \n",
       "1445  This is Kenneth. He's stuck in a bubble. 10/10 hang in there Kenneth https://t.co/uQt37xlYMJ                                                 \n",
       "\n",
       "      rating_numerator dog_stage  retweet_count  favorite_count  \\\n",
       "757   13                doggo     80630          161051           \n",
       "792   13                doggo     59797          118960           \n",
       "391   13                none      58757          124436           \n",
       "302   13                puppo     45513          137257           \n",
       "58    13                none      41968          102110           \n",
       "325   14                doggo     38687          90535            \n",
       "393   13                none      36768          78625            \n",
       "107   13                pupper    34114          119656           \n",
       "1388  12                none      32527          80730            \n",
       "1445  10                none      31432          76564            \n",
       "\n",
       "                   breed  \n",
       "757   Labrador_retriever  \n",
       "792   Eskimo_dog          \n",
       "391   Chihuahua           \n",
       "302   Lakeland_terrier    \n",
       "58    English_springer    \n",
       "325   standard_poodle     \n",
       "393   cocker_spaniel      \n",
       "107   French_bulldog      \n",
       "1388  Bedlington_terrier  \n",
       "1445  whippet             "
      ]
     },
     "execution_count": 97,
     "metadata": {},
     "output_type": "execute_result"
    }
   ],
   "source": [
    "most_retweeted = df_analysis.sort_values(by = 'retweet_count', ascending = False)[['tweet_id', 'timestamp', 'text', 'rating_numerator', 'dog_stage', 'retweet_count', 'favorite_count', 'breed']].head(10)\n",
    "most_retweeted"
   ]
  },
  {
   "cell_type": "markdown",
   "metadata": {},
   "source": [
    "- A quick look at the 10 most retweeted Tweets:\n",
    "    - Almost all get high ratings\n",
    "    - No particular stage of dog stands out\n",
    "    - No particular breed stands out\n",
    "- However, 4 of the top 5 are with videos instead of images"
   ]
  },
  {
   "cell_type": "code",
   "execution_count": 98,
   "metadata": {},
   "outputs": [
    {
     "data": {
      "text/html": [
       "<div>\n",
       "<style scoped>\n",
       "    .dataframe tbody tr th:only-of-type {\n",
       "        vertical-align: middle;\n",
       "    }\n",
       "\n",
       "    .dataframe tbody tr th {\n",
       "        vertical-align: top;\n",
       "    }\n",
       "\n",
       "    .dataframe thead th {\n",
       "        text-align: right;\n",
       "    }\n",
       "</style>\n",
       "<table border=\"1\" class=\"dataframe\">\n",
       "  <thead>\n",
       "    <tr style=\"text-align: right;\">\n",
       "      <th></th>\n",
       "      <th>tweet_id</th>\n",
       "      <th>timestamp</th>\n",
       "      <th>text</th>\n",
       "      <th>rating_numerator</th>\n",
       "      <th>dog_stage</th>\n",
       "      <th>retweet_count</th>\n",
       "      <th>favorite_count</th>\n",
       "      <th>breed</th>\n",
       "    </tr>\n",
       "  </thead>\n",
       "  <tbody>\n",
       "    <tr>\n",
       "      <th>757</th>\n",
       "      <td>744234799360020481</td>\n",
       "      <td>2016-06-18 18:26:18</td>\n",
       "      <td>Here's a doggo realizing you can stand in a pool. 13/10 enlightened af (vid by Tina Conrad) https://t.co/7wE9LTEXC4</td>\n",
       "      <td>13</td>\n",
       "      <td>doggo</td>\n",
       "      <td>80630</td>\n",
       "      <td>161051</td>\n",
       "      <td>Labrador_retriever</td>\n",
       "    </tr>\n",
       "    <tr>\n",
       "      <th>302</th>\n",
       "      <td>822872901745569793</td>\n",
       "      <td>2017-01-21 18:26:02</td>\n",
       "      <td>Here's a super supportive puppo participating in the Toronto  #WomensMarch today. 13/10 https://t.co/nTz3FtorBc</td>\n",
       "      <td>13</td>\n",
       "      <td>puppo</td>\n",
       "      <td>45513</td>\n",
       "      <td>137257</td>\n",
       "      <td>Lakeland_terrier</td>\n",
       "    </tr>\n",
       "    <tr>\n",
       "      <th>391</th>\n",
       "      <td>807106840509214720</td>\n",
       "      <td>2016-12-09 06:17:20</td>\n",
       "      <td>This is Stephan. He just wants to help. 13/10 such a good boy https://t.co/DkBYaCAg2d</td>\n",
       "      <td>13</td>\n",
       "      <td>none</td>\n",
       "      <td>58757</td>\n",
       "      <td>124436</td>\n",
       "      <td>Chihuahua</td>\n",
       "    </tr>\n",
       "    <tr>\n",
       "      <th>107</th>\n",
       "      <td>866450705531457537</td>\n",
       "      <td>2017-05-22 00:28:40</td>\n",
       "      <td>This is Jamesy. He gives a kiss to every other pupper he sees on his walk. 13/10 such passion, much tender https://t.co/wk7TfysWHr</td>\n",
       "      <td>13</td>\n",
       "      <td>pupper</td>\n",
       "      <td>34114</td>\n",
       "      <td>119656</td>\n",
       "      <td>French_bulldog</td>\n",
       "    </tr>\n",
       "    <tr>\n",
       "      <th>792</th>\n",
       "      <td>739238157791694849</td>\n",
       "      <td>2016-06-04 23:31:25</td>\n",
       "      <td>Here's a doggo blowing bubbles. It's downright legendary. 13/10 would watch on repeat forever (vid by Kent Duryee) https://t.co/YcXgHfp1EC</td>\n",
       "      <td>13</td>\n",
       "      <td>doggo</td>\n",
       "      <td>59797</td>\n",
       "      <td>118960</td>\n",
       "      <td>Eskimo_dog</td>\n",
       "    </tr>\n",
       "    <tr>\n",
       "      <th>58</th>\n",
       "      <td>879415818425184262</td>\n",
       "      <td>2017-06-26 19:07:24</td>\n",
       "      <td>This is Duddles. He did an attempt. 13/10 someone help him (vid by Georgia Felici) https://t.co/UDT7ZkcTgY</td>\n",
       "      <td>13</td>\n",
       "      <td>none</td>\n",
       "      <td>41968</td>\n",
       "      <td>102110</td>\n",
       "      <td>English_springer</td>\n",
       "    </tr>\n",
       "    <tr>\n",
       "      <th>325</th>\n",
       "      <td>819004803107983360</td>\n",
       "      <td>2017-01-11 02:15:36</td>\n",
       "      <td>This is Bo. He was a very good First Doggo. 14/10 would be an absolute honor to pet https://t.co/AdPKrI8BZ1</td>\n",
       "      <td>14</td>\n",
       "      <td>doggo</td>\n",
       "      <td>38687</td>\n",
       "      <td>90535</td>\n",
       "      <td>standard_poodle</td>\n",
       "    </tr>\n",
       "    <tr>\n",
       "      <th>133</th>\n",
       "      <td>859196978902773760</td>\n",
       "      <td>2017-05-02 00:04:57</td>\n",
       "      <td>We only rate dogs. This is quite clearly a smol broken polar bear. We'd appreciate if you only send dogs. Thank you... 12/10 https://t.co/g2nSyGenG9</td>\n",
       "      <td>12</td>\n",
       "      <td>none</td>\n",
       "      <td>29629</td>\n",
       "      <td>88963</td>\n",
       "      <td>malamute</td>\n",
       "    </tr>\n",
       "    <tr>\n",
       "      <th>1388</th>\n",
       "      <td>678399652199309312</td>\n",
       "      <td>2015-12-20 02:20:55</td>\n",
       "      <td>This made my day. 12/10 please enjoy https://t.co/VRTbo3aAcm</td>\n",
       "      <td>12</td>\n",
       "      <td>none</td>\n",
       "      <td>32527</td>\n",
       "      <td>80730</td>\n",
       "      <td>Bedlington_terrier</td>\n",
       "    </tr>\n",
       "    <tr>\n",
       "      <th>92</th>\n",
       "      <td>870374049280663552</td>\n",
       "      <td>2017-06-01 20:18:38</td>\n",
       "      <td>This is Zoey. She really likes the planet. Would hate to see willful ignorance and the denial of fairly elemental science destroy it. 13/10 https://t.co/T1xlgaPujm</td>\n",
       "      <td>13</td>\n",
       "      <td>none</td>\n",
       "      <td>25331</td>\n",
       "      <td>80524</td>\n",
       "      <td>golden_retriever</td>\n",
       "    </tr>\n",
       "  </tbody>\n",
       "</table>\n",
       "</div>"
      ],
      "text/plain": [
       "                tweet_id           timestamp  \\\n",
       "757   744234799360020481 2016-06-18 18:26:18   \n",
       "302   822872901745569793 2017-01-21 18:26:02   \n",
       "391   807106840509214720 2016-12-09 06:17:20   \n",
       "107   866450705531457537 2017-05-22 00:28:40   \n",
       "792   739238157791694849 2016-06-04 23:31:25   \n",
       "58    879415818425184262 2017-06-26 19:07:24   \n",
       "325   819004803107983360 2017-01-11 02:15:36   \n",
       "133   859196978902773760 2017-05-02 00:04:57   \n",
       "1388  678399652199309312 2015-12-20 02:20:55   \n",
       "92    870374049280663552 2017-06-01 20:18:38   \n",
       "\n",
       "                                                                                                                                                                     text  \\\n",
       "757   Here's a doggo realizing you can stand in a pool. 13/10 enlightened af (vid by Tina Conrad) https://t.co/7wE9LTEXC4                                                   \n",
       "302   Here's a super supportive puppo participating in the Toronto  #WomensMarch today. 13/10 https://t.co/nTz3FtorBc                                                       \n",
       "391   This is Stephan. He just wants to help. 13/10 such a good boy https://t.co/DkBYaCAg2d                                                                                 \n",
       "107   This is Jamesy. He gives a kiss to every other pupper he sees on his walk. 13/10 such passion, much tender https://t.co/wk7TfysWHr                                    \n",
       "792   Here's a doggo blowing bubbles. It's downright legendary. 13/10 would watch on repeat forever (vid by Kent Duryee) https://t.co/YcXgHfp1EC                            \n",
       "58    This is Duddles. He did an attempt. 13/10 someone help him (vid by Georgia Felici) https://t.co/UDT7ZkcTgY                                                            \n",
       "325   This is Bo. He was a very good First Doggo. 14/10 would be an absolute honor to pet https://t.co/AdPKrI8BZ1                                                           \n",
       "133   We only rate dogs. This is quite clearly a smol broken polar bear. We'd appreciate if you only send dogs. Thank you... 12/10 https://t.co/g2nSyGenG9                  \n",
       "1388  This made my day. 12/10 please enjoy https://t.co/VRTbo3aAcm                                                                                                          \n",
       "92    This is Zoey. She really likes the planet. Would hate to see willful ignorance and the denial of fairly elemental science destroy it. 13/10 https://t.co/T1xlgaPujm   \n",
       "\n",
       "      rating_numerator dog_stage  retweet_count  favorite_count  \\\n",
       "757   13                doggo     80630          161051           \n",
       "302   13                puppo     45513          137257           \n",
       "391   13                none      58757          124436           \n",
       "107   13                pupper    34114          119656           \n",
       "792   13                doggo     59797          118960           \n",
       "58    13                none      41968          102110           \n",
       "325   14                doggo     38687          90535            \n",
       "133   12                none      29629          88963            \n",
       "1388  12                none      32527          80730            \n",
       "92    13                none      25331          80524            \n",
       "\n",
       "                   breed  \n",
       "757   Labrador_retriever  \n",
       "302   Lakeland_terrier    \n",
       "391   Chihuahua           \n",
       "107   French_bulldog      \n",
       "792   Eskimo_dog          \n",
       "58    English_springer    \n",
       "325   standard_poodle     \n",
       "133   malamute            \n",
       "1388  Bedlington_terrier  \n",
       "92    golden_retriever    "
      ]
     },
     "execution_count": 98,
     "metadata": {},
     "output_type": "execute_result"
    }
   ],
   "source": [
    "most_favorite = df_analysis.sort_values(by = 'favorite_count', ascending = False)[['tweet_id', 'timestamp', 'text', 'rating_numerator', 'dog_stage', 'retweet_count', 'favorite_count', 'breed']].head(10)\n",
    "most_favorite"
   ]
  },
  {
   "cell_type": "markdown",
   "metadata": {},
   "source": [
    "- A quick look at the 10 most favorite Tweets:\n",
    "    - Almost all get high ratings\n",
    "    - No particular stage of dog stands out\n",
    "    - No particular breed stands out\n",
    "- However, 3 of the top 5 are with videos instead of images\n",
    "- 4 of 5 most retweeted and 3 of 5 most favorite Tweetes are videos"
   ]
  },
  {
   "cell_type": "code",
   "execution_count": 99,
   "metadata": {
    "scrolled": true
   },
   "outputs": [
    {
     "data": {
      "text/plain": [
       "{678399652199309312,\n",
       " 739238157791694849,\n",
       " 744234799360020481,\n",
       " 807106840509214720,\n",
       " 819004803107983360,\n",
       " 822872901745569793,\n",
       " 866450705531457537,\n",
       " 879415818425184262}"
      ]
     },
     "execution_count": 99,
     "metadata": {},
     "output_type": "execute_result"
    }
   ],
   "source": [
    "most_retweeted_list = list(most_retweeted.tweet_id)\n",
    "most_favorite_list = list(most_favorite.tweet_id)\n",
    "\n",
    "set(most_retweeted_list) & set(most_favorite_list)"
   ]
  },
  {
   "cell_type": "markdown",
   "metadata": {},
   "source": [
    "- 8 Tweets are in both most favorite and most retweeted top 10\n",
    "- There might be a correlation between most favorite and most retweeted"
   ]
  },
  {
   "cell_type": "code",
   "execution_count": 100,
   "metadata": {},
   "outputs": [
    {
     "data": {
      "text/plain": [
       "none       1646\n",
       "pupper     200 \n",
       "doggo      70  \n",
       "puppo      23  \n",
       "floofer    8   \n",
       "Name: dog_stage, dtype: int64"
      ]
     },
     "execution_count": 100,
     "metadata": {},
     "output_type": "execute_result"
    }
   ],
   "source": [
    "df_analysis.dog_stage.value_counts()"
   ]
  },
  {
   "cell_type": "code",
   "execution_count": 101,
   "metadata": {},
   "outputs": [
    {
     "data": {
      "image/png": "[encoded data removed]",
      "text/plain": [
       "<matplotlib.figure.Figure at 0x7fb664319940>"
      ]
     },
     "metadata": {},
     "output_type": "display_data"
    }
   ],
   "source": [
    "labels = [r'pupper (10.25%)', \n",
    "          r'doggo (3.64%)', \n",
    "          r'puppo (1.18%)', \n",
    "          r'floofer (0.41%)', \n",
    "          r'none (84.52%)']\n",
    "sizes = [200, 71, 23, 8, 1649]\n",
    "explode = (0, 0, 0, 0, 0.1)\n",
    "\n",
    "\n",
    "patches, texts = plt.pie(sizes, explode=explode, startangle=90)\n",
    "plt.legend(patches, labels, loc=\"best\")\n",
    "plt.axis('equal')\n",
    "plt.tight_layout()\n",
    "plt.title('Percentage of Tweets by stage of dog')\n",
    "plt.show();"
   ]
  },
  {
   "cell_type": "markdown",
   "metadata": {},
   "source": [
    "- 85.52% of the Tweets in the cleaned dataset are without a specified dog stage\n",
    "- 'pupper' accounts for 10.25% of all Tweets, highest among other dog stages"
   ]
  },
  {
   "cell_type": "code",
   "execution_count": 102,
   "metadata": {},
   "outputs": [
    {
     "data": {
      "text/plain": [
       "golden_retriever      154\n",
       "Labrador_retriever    101\n",
       "Pembroke              94 \n",
       "Chihuahua             90 \n",
       "pug                   62 \n",
       "toy_poodle            49 \n",
       "chow                  47 \n",
       "Samoyed               41 \n",
       "Pomeranian            40 \n",
       "malamute              33 \n",
       "Name: breed, dtype: int64"
      ]
     },
     "execution_count": 102,
     "metadata": {},
     "output_type": "execute_result"
    }
   ],
   "source": [
    "breed_count = df_analysis[df_analysis.breed != 'none'].breed.value_counts()\n",
    "breed_count.head(10)"
   ]
  },
  {
   "cell_type": "markdown",
   "metadata": {},
   "source": [
    "- Golden retriever has the most 'coverage' on WeRateDogs"
   ]
  },
  {
   "cell_type": "code",
   "execution_count": 103,
   "metadata": {},
   "outputs": [
    {
     "data": {
      "text/plain": [
       "1645"
      ]
     },
     "execution_count": 103,
     "metadata": {},
     "output_type": "execute_result"
    }
   ],
   "source": [
    "breed_count.sum()"
   ]
  },
  {
   "cell_type": "code",
   "execution_count": 104,
   "metadata": {},
   "outputs": [
    {
     "data": {
      "text/plain": [
       "0.844889573703133"
      ]
     },
     "execution_count": 104,
     "metadata": {},
     "output_type": "execute_result"
    }
   ],
   "source": [
    "breed_count.sum() / df_analysis.shape[0]"
   ]
  },
  {
   "cell_type": "markdown",
   "metadata": {},
   "source": [
    "- 84.48% of the Tweets in the cleaned dataset has a specified breed"
   ]
  },
  {
   "cell_type": "code",
   "execution_count": 105,
   "metadata": {
    "scrolled": true
   },
   "outputs": [
    {
     "data": {
      "image/png": "[encoded data removed]",
      "text/plain": [
       "<matplotlib.figure.Figure at 0x7fb6621c77f0>"
      ]
     },
     "metadata": {},
     "output_type": "display_data"
    }
   ],
   "source": [
    "labels = [r'golden retriever (9.36%)', \n",
    "          r'Labrador retriever (6.14%)', \n",
    "          r'Pembroke (5.71%)', \n",
    "          r'Chihuahua (5.47%)', \n",
    "          r'pug (3.77%)', \n",
    "          r'toy poodle (2.98%)', \n",
    "          r'chow (2.86%)', \n",
    "          r'Samoyed (2.49%)', \n",
    "          r'Pomeranian (2.43%)', \n",
    "          r'malamute (2.01%)', \n",
    "          r'others (56.78%)']\n",
    "\n",
    "sizes = [154, 101, 94, 90, 62, 49, 47, 41, 40, 33, 934]\n",
    "explode = (0, 0, 0, 0, 0, 0, 0, 0, 0, 0, 0.1)\n",
    "\n",
    "\n",
    "patches, texts = plt.pie(sizes, explode=explode, startangle=90)\n",
    "patches[10].set_color('navy')\n",
    "plt.legend(patches, labels, loc=\"best\")\n",
    "plt.axis('equal')\n",
    "plt.tight_layout()\n",
    "plt.title('Percentage of Tweets with specified breed')\n",
    "plt.show();"
   ]
  },
  {
   "cell_type": "markdown",
   "metadata": {},
   "source": [
    "- Percentage of each breed among all Tweets with a speficied breed\n",
    "- Golden retriever accounts for 9.36% of the \"coverage\""
   ]
  },
  {
   "cell_type": "code",
   "execution_count": 106,
   "metadata": {},
   "outputs": [
    {
     "data": {
      "text/plain": [
       "breed\n",
       "golden_retriever      1847119\n",
       "Labrador_retriever    1142849\n",
       "Pembroke              996390 \n",
       "Chihuahua             738930 \n",
       "French_bulldog        577619 \n",
       "Samoyed               531511 \n",
       "chow                  427479 \n",
       "cocker_spaniel        390180 \n",
       "pug                   360261 \n",
       "malamute              336805 \n",
       "Name: favorite_count, dtype: int64"
      ]
     },
     "execution_count": 106,
     "metadata": {},
     "output_type": "execute_result"
    }
   ],
   "source": [
    "fav_breed = df_analysis[df_analysis.breed != 'none']\n",
    "fav_breed = fav_breed.groupby(['breed'])\n",
    "fav_breed = fav_breed.favorite_count.sum()\n",
    "fav_breed = fav_breed.sort_values(ascending=False)\n",
    "fav_breed10 = fav_breed.head(10)\n",
    "fav_breed10"
   ]
  },
  {
   "cell_type": "code",
   "execution_count": 107,
   "metadata": {},
   "outputs": [
    {
     "data": {
      "image/png": "[encoded data removed]",
      "text/plain": [
       "<matplotlib.figure.Figure at 0x7fb664321f60>"
      ]
     },
     "metadata": {
      "needs_background": "light"
     },
     "output_type": "display_data"
    }
   ],
   "source": [
    "fig, ax = plt.subplots()\n",
    "y = np.arange(len(fav_breed10.index))\n",
    "ax.barh(y, fav_breed10)\n",
    "ax.set_yticks(y)\n",
    "ax.set_yticklabels(fav_breed10.index)\n",
    "ax.invert_yaxis()\n",
    "plt.xlabel('Favorite Counts') \n",
    "plt.title('Top 10 Dog Breeds by Favorite Counts')\n",
    "plt.xticks(rotation=45);"
   ]
  },
  {
   "cell_type": "markdown",
   "metadata": {},
   "source": [
    "- Golden retriever also gets the most favorites, followed by labrador retriever and Pembroke\n",
    "- There seems to be a high similarity between the top 10 breeds most tweeted and most favorite"
   ]
  },
  {
   "cell_type": "code",
   "execution_count": 108,
   "metadata": {},
   "outputs": [
    {
     "data": {
      "text/plain": [
       "{'Chihuahua',\n",
       " 'Labrador_retriever',\n",
       " 'Pembroke',\n",
       " 'Samoyed',\n",
       " 'chow',\n",
       " 'golden_retriever',\n",
       " 'malamute',\n",
       " 'pug'}"
      ]
     },
     "execution_count": 108,
     "metadata": {},
     "output_type": "execute_result"
    }
   ],
   "source": [
    "breed_count10 = breed_count.head(10)\n",
    "\n",
    "set(list(fav_breed10.index)).intersection(list(breed_count10.index))"
   ]
  },
  {
   "cell_type": "markdown",
   "metadata": {},
   "source": [
    "- Eight breeds are in both top 10 most tweeted and most favorites\n",
    "- French bulldog and cocker spaniel are in top 10 favorites, but not in the most tweeted"
   ]
  },
  {
   "cell_type": "code",
   "execution_count": 109,
   "metadata": {},
   "outputs": [
    {
     "data": {
      "image/png": "[encoded data removed]",
      "text/plain": [
       "<matplotlib.figure.Figure at 0x7fb6620c93c8>"
      ]
     },
     "metadata": {
      "needs_background": "light"
     },
     "output_type": "display_data"
    }
   ],
   "source": [
    "df = df_analysis.copy()\n",
    "\n",
    "plt.figure(figsize = (16, 12))\n",
    "\n",
    "plt.xscale('log')\n",
    "plt.yscale('log')\n",
    "plt.xlim(df['favorite_count'].min() - 10, df['favorite_count'].max() + 100000)\n",
    "plt.ylim(10, df['retweet_count'].max() + 25000)\n",
    "markers = 25\n",
    "\n",
    "plt.scatter(df['favorite_count'], df['retweet_count'], \n",
    "            s = markers, edgecolor = 'None', alpha = 0.6)\n",
    "\n",
    "plt.title('Favorite Count vs. Retweet Count', fontsize=30)\n",
    "plt.xlabel('Favorite Count (log10)', fontsize=20)\n",
    "plt.ylabel('Retweet Count (log10)', fontsize=20)\n",
    "\n",
    "plt.show();"
   ]
  },
  {
   "cell_type": "markdown",
   "metadata": {},
   "source": [
    "- Favorite count and retweet count are positively correlated"
   ]
  }
 ],
 "metadata": {
  "kernelspec": {
   "display_name": "Python 3",
   "language": "python",
   "name": "python3"
  },
  "language_info": {
   "codemirror_mode": {
    "name": "ipython",
    "version": 3
   },
   "file_extension": ".py",
   "mimetype": "text/x-python",
   "name": "python",
   "nbconvert_exporter": "python",
   "pygments_lexer": "ipython3",
   "version": "3.6.3"
  }
 },
 "nbformat": 4,
 "nbformat_minor": 2
}
